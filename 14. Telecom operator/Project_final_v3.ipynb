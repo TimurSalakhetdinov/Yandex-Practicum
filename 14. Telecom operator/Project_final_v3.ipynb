{
 "cells": [
  {
   "cell_type": "markdown",
   "id": "9f195a09",
   "metadata": {},
   "source": [
    "<div class=\"alert alert-success\" style=\"border-color: green; border-radius: 5px\">\n",
    "    <p><u><b>✅ КОММЕНТАРИЙ РЕВЬЮЕРА</b></u></p>\n",
    "<br />\n",
    "Тимур, доброго дня! рад приветствовать тебя в финале) <br />\n",
    "Вот и он подобрался, поздравляю. Остался последний рывок в этом марафоне)<br>\n",
    "<br />\n",
    "Меня зовут Николай. <br />И на этом этапе Вашего движения к новой профессии от меня будут комментарии по написанному коду. <br />Чтобы меньше \"мусорить эфир\" и чтобы максимально наглядно отделяться от основного кода, есть предложение условиться в некоторых обозначениях:<br /> <br />\n",
    "<u><b>ТАКОЙ ШРИФТ</b></u> - всегда начало комментария <br />\n",
    "<font color='green'>такой шрифт</font> - комментарии о том, что всё ОК <br/>\n",
    "<font color='purple'>такой шрифт</font> - комментарии о том, что всё ОК по результату,<br> однако что есть ещё что-то или в коде или есть способы сделать более короткий или быстрый код <br/>\n",
    "<font color='red'>такой шрифт</font> - комментарии о том, что есть критичный момент, влияющий на бизнес-результат проекта.<br/>\n",
    "</font><br /><br />\n",
    "<font color='green'>Как и всегда в спринтах - ставлю своей целью максимально помочь. Поэтому, все мои комментарии - это только способ передать свой опыт для помощи в твоих достижениях."
   ]
  },
  {
   "cell_type": "markdown",
   "id": "1ad49264",
   "metadata": {},
   "source": [
    "<div class=\"alert alert-block alert-warning\">\n",
    "<b>Комментарий студента:</b> Привет, Николай!\n",
    "</div>"
   ]
  },
  {
   "cell_type": "markdown",
   "id": "9f39d25a",
   "metadata": {},
   "source": [
    "<div class=\"alert alert-success\" style=\"border-color: green; border-radius: 5px\">\n",
    "    <p><u><b>✅ КОММЕНТАРИЙ РЕВЬЮЕРА 2</b></u></p>\n",
    "Привет, Тимур!"
   ]
  },
  {
   "cell_type": "markdown",
   "id": "7891a3fb",
   "metadata": {
    "toc": true
   },
   "source": [
    "<h1>Содержание<span class=\"tocSkip\"></span></h1>\n",
    "<div class=\"toc\"><ul class=\"toc-item\"><li><span><a href=\"#Информация-о-проекте\" data-toc-modified-id=\"Информация-о-проекте-1\"><span class=\"toc-item-num\">1&nbsp;&nbsp;</span>Информация о проекте</a></span></li><li><span><a href=\"#План-действий\" data-toc-modified-id=\"План-действий-2\"><span class=\"toc-item-num\">2&nbsp;&nbsp;</span>План действий</a></span></li><li><span><a href=\"#Предобработка-данных\" data-toc-modified-id=\"Предобработка-данных-3\"><span class=\"toc-item-num\">3&nbsp;&nbsp;</span>Предобработка данных</a></span><ul class=\"toc-item\"><li><span><a href=\"#Импортирование-библиотек-и-вывод-данных\" data-toc-modified-id=\"Импортирование-библиотек-и-вывод-данных-3.1\"><span class=\"toc-item-num\">3.1&nbsp;&nbsp;</span>Импортирование библиотек и вывод данных</a></span></li><li><span><a href=\"#Объединение-датасетов\" data-toc-modified-id=\"Объединение-датасетов-3.2\"><span class=\"toc-item-num\">3.2&nbsp;&nbsp;</span>Объединение датасетов</a></span></li><li><span><a href=\"#Обработка-данных\" data-toc-modified-id=\"Обработка-данных-3.3\"><span class=\"toc-item-num\">3.3&nbsp;&nbsp;</span>Обработка данных</a></span></li><li><span><a href=\"#Заполнение-пропусков-и-изменение-столбцов-с-датой\" data-toc-modified-id=\"Заполнение-пропусков-и-изменение-столбцов-с-датой-3.4\"><span class=\"toc-item-num\">3.4&nbsp;&nbsp;</span>Заполнение пропусков и изменение столбцов с датой</a></span></li><li><span><a href=\"#Исследовательский-анализ-данных\" data-toc-modified-id=\"Исследовательский-анализ-данных-3.5\"><span class=\"toc-item-num\">3.5&nbsp;&nbsp;</span>Исследовательский анализ данных</a></span></li><li><span><a href=\"#Матрица-корреляции\" data-toc-modified-id=\"Матрица-корреляции-3.6\"><span class=\"toc-item-num\">3.6&nbsp;&nbsp;</span>Матрица корреляции</a></span></li><li><span><a href=\"#Отбор-и-инжиниринг-фичей\" data-toc-modified-id=\"Отбор-и-инжиниринг-фичей-3.7\"><span class=\"toc-item-num\">3.7&nbsp;&nbsp;</span>Отбор и инжиниринг фичей</a></span></li></ul></li><li><span><a href=\"#Вопросы-к-тим-лид\" data-toc-modified-id=\"Вопросы-к-тим-лид-4\"><span class=\"toc-item-num\">4&nbsp;&nbsp;</span>Вопросы к тим лид</a></span></li><li><span><a href=\"#Обучение-моделей-ML\" data-toc-modified-id=\"Обучение-моделей-ML-5\"><span class=\"toc-item-num\">5&nbsp;&nbsp;</span>Обучение моделей ML</a></span><ul class=\"toc-item\"><li><span><a href=\"#Обучение-моделей-и-отбор-лучшей-через-cross-validation\" data-toc-modified-id=\"Обучение-моделей-и-отбор-лучшей-через-cross-validation-5.1\"><span class=\"toc-item-num\">5.1&nbsp;&nbsp;</span>Обучение моделей и отбор лучшей через cross validation</a></span></li><li><span><a href=\"#GridSearch-модели-CatBoostClassifier\" data-toc-modified-id=\"GridSearch-модели-CatBoostClassifier-5.2\"><span class=\"toc-item-num\">5.2&nbsp;&nbsp;</span>GridSearch модели CatBoostClassifier</a></span></li><li><span><a href=\"#Проверка-модели-на-тесте\" data-toc-modified-id=\"Проверка-модели-на-тесте-5.3\"><span class=\"toc-item-num\">5.3&nbsp;&nbsp;</span>Проверка модели на тесте</a></span></li><li><span><a href=\"#Оценка-feature-importances\" data-toc-modified-id=\"Оценка-feature-importances-5.4\"><span class=\"toc-item-num\">5.4&nbsp;&nbsp;</span>Оценка feature importances</a></span></li></ul></li><li><span><a href=\"#Выводы\" data-toc-modified-id=\"Выводы-6\"><span class=\"toc-item-num\">6&nbsp;&nbsp;</span>Выводы</a></span></li><li><span><a href=\"#Отчет\" data-toc-modified-id=\"Отчет-7\"><span class=\"toc-item-num\">7&nbsp;&nbsp;</span>Отчет</a></span></li></ul></div>"
   ]
  },
  {
   "cell_type": "markdown",
   "id": "dfc918f7",
   "metadata": {},
   "source": [
    "## Информация о проекте\n",
    "\n",
    "Телеком — задача проекта\n",
    "\n",
    "Оператор связи «Ниединогоразрыва.ком» хочет научиться прогнозировать отток клиентов. Если выяснится, что пользователь планирует уйти, ему будут предложены промокоды и специальные условия. Команда оператора собрала персональные данные о некоторых клиентах, информацию об их тарифах и договорах.\n",
    "\n",
    "**Описание услуг**\n",
    "\n",
    "Оператор предоставляет два основных типа услуг:\n",
    "1. Стационарную телефонную связь. Возможно подключение телефонного аппарата к нескольким линиям одновременно.\n",
    "2. Интернет. Подключение может быть двух типов: через телефонную линию (DSL*,* от англ. digital subscriber line, «цифровая абонентская линия») или оптоволоконный кабель (Fiber optic).\n",
    "\n",
    "Также доступны такие услуги:\n",
    "* Интернет-безопасность: антивирус (DeviceProtection) и блокировка небезопасных сайтов (OnlineSecurity);\n",
    "* Выделенная линия технической поддержки (TechSupport);\n",
    "* Облачное хранилище файлов для резервного копирования данных (OnlineBackup);\n",
    "* Стриминговое телевидение (StreamingTV) и каталог фильмов (StreamingMovies).\n",
    "\n",
    "За услуги клиенты могут платить каждый месяц или заключить договор на 1–2 года. Доступны различные способы расчёта и возможность получения электронного чека.\n",
    "\n",
    "**Описание данных**\n",
    "\n",
    "Данные состоят из файлов, полученных из разных источников:\n",
    "* contract.csv — информация о договоре;\n",
    "* personal.csv — персональные данные клиента;\n",
    "* internet.csv — информация об интернет-услугах;\n",
    "* phone.csv — информация об услугах телефонии.\n",
    "\n",
    "Во всех файлах столбец customerID содержит код клиента.\n",
    "\n",
    "Информация о договорах актуальна на 1 февраля 2020."
   ]
  },
  {
   "cell_type": "markdown",
   "id": "6cd8c6f4",
   "metadata": {},
   "source": [
    "Вы — маркетинговый аналитик развлекательного приложения Procrastinate Pro+. Несмотря на огромные вложения в рекламу, последние несколько месяцев компания терпит убытки. Ваша задача — разобраться в причинах и помочь компании выйти в плюс.\n",
    "Есть данные о пользователях, привлечённых с 1 мая по 27 октября 2019 года:\n",
    "•\tлог сервера с данными об их посещениях,\n",
    "•\tвыгрузка их покупок за этот период,\n",
    "•\tрекламные расходы.\n",
    "Вам предстоит изучить:\n",
    "•\tоткуда приходят пользователи и какими устройствами они пользуются,\n",
    "•\tсколько стоит привлечение пользователей из различных рекламных каналов;\n",
    "•\tсколько денег приносит каждый клиент,\n",
    "•\tкогда расходы на привлечение клиента окупаются,\n",
    "•\tкакие факторы мешают привлечению клиентов."
   ]
  },
  {
   "cell_type": "markdown",
   "id": "b30d821a",
   "metadata": {},
   "source": [
    "## План действий"
   ]
  },
  {
   "cell_type": "markdown",
   "id": "f498f936",
   "metadata": {},
   "source": [
    "1. Сформулировать проблему и посмотреть на общую картину.\n",
    "2. Получить данные.\n",
    "3. Изучить данные, чтобы получить представление.\n",
    "4. Подготовить данные, чтобы лучше раскрыть базовые шаблоны данных для алгоритмов машинного обучения.\n",
    "    * Пропущенные значения.\n",
    "    * Дубликаты и данные с низкой вариативностью\n",
    "    * Некорректные и нерелевантные данные\n",
    "    * Категориальные данные\n",
    "    * Выбросы\n",
    "    * Отбор и инжиниринг фичей\n",
    "    * Масштабирование фичей\n",
    "    * Разделение данных\n",
    "5. Изучить множество различных моделей и выбрать лучшую из них.\n",
    "6. Провести оптимизацию гиперпараметров выбранной модели с целью улучшения целевой метрики.\n",
    "7. Представить свое решение."
   ]
  },
  {
   "cell_type": "markdown",
   "id": "c9271310",
   "metadata": {},
   "source": [
    "## Предобработка данных"
   ]
  },
  {
   "cell_type": "markdown",
   "id": "4e3f4141",
   "metadata": {},
   "source": [
    "### Импортирование библиотек и вывод данных"
   ]
  },
  {
   "cell_type": "code",
   "execution_count": 1,
   "id": "1edfb436",
   "metadata": {
    "scrolled": true
   },
   "outputs": [
    {
     "name": "stdout",
     "output_type": "stream",
     "text": [
      "Requirement already satisfied: pandas in /opt/anaconda3/envs/praktikum/lib/python3.9/site-packages (1.4.3)\n",
      "Requirement already satisfied: pytz>=2020.1 in /opt/anaconda3/envs/praktikum/lib/python3.9/site-packages (from pandas) (2022.1)\n",
      "Requirement already satisfied: numpy>=1.18.5 in /opt/anaconda3/envs/praktikum/lib/python3.9/site-packages (from pandas) (1.20.1)\n",
      "Requirement already satisfied: python-dateutil>=2.8.1 in /opt/anaconda3/envs/praktikum/lib/python3.9/site-packages (from pandas) (2.8.2)\n",
      "Requirement already satisfied: six>=1.5 in /opt/anaconda3/envs/praktikum/lib/python3.9/site-packages (from python-dateutil>=2.8.1->pandas) (1.16.0)\n",
      "Requirement already satisfied: dython in /opt/anaconda3/envs/praktikum/lib/python3.9/site-packages (0.7.1.post3)\n",
      "Requirement already satisfied: matplotlib>=3.4.3 in /opt/anaconda3/envs/praktikum/lib/python3.9/site-packages (from dython) (3.5.2)\n",
      "Requirement already satisfied: scipy>=1.7.1 in /opt/anaconda3/envs/praktikum/lib/python3.9/site-packages (from dython) (1.8.0)\n",
      "Requirement already satisfied: numpy>=1.19.5 in /opt/anaconda3/envs/praktikum/lib/python3.9/site-packages (from dython) (1.20.1)\n",
      "Requirement already satisfied: seaborn>=0.11.0 in /opt/anaconda3/envs/praktikum/lib/python3.9/site-packages (from dython) (0.11.1)\n",
      "Requirement already satisfied: scikit-learn>=0.24.2 in /opt/anaconda3/envs/praktikum/lib/python3.9/site-packages (from dython) (1.1.1)\n",
      "Requirement already satisfied: pandas>=1.3.2 in /opt/anaconda3/envs/praktikum/lib/python3.9/site-packages (from dython) (1.4.3)\n",
      "Requirement already satisfied: scikit-plot>=0.3.7 in /opt/anaconda3/envs/praktikum/lib/python3.9/site-packages (from dython) (0.3.7)\n",
      "Requirement already satisfied: pyparsing>=2.2.1 in /opt/anaconda3/envs/praktikum/lib/python3.9/site-packages (from matplotlib>=3.4.3->dython) (3.0.8)\n",
      "Requirement already satisfied: kiwisolver>=1.0.1 in /opt/anaconda3/envs/praktikum/lib/python3.9/site-packages (from matplotlib>=3.4.3->dython) (1.4.2)\n",
      "Requirement already satisfied: python-dateutil>=2.7 in /opt/anaconda3/envs/praktikum/lib/python3.9/site-packages (from matplotlib>=3.4.3->dython) (2.8.2)\n",
      "Requirement already satisfied: fonttools>=4.22.0 in /opt/anaconda3/envs/praktikum/lib/python3.9/site-packages (from matplotlib>=3.4.3->dython) (4.33.3)\n",
      "Requirement already satisfied: packaging>=20.0 in /opt/anaconda3/envs/praktikum/lib/python3.9/site-packages (from matplotlib>=3.4.3->dython) (21.3)\n",
      "Requirement already satisfied: pillow>=6.2.0 in /opt/anaconda3/envs/praktikum/lib/python3.9/site-packages (from matplotlib>=3.4.3->dython) (8.4.0)\n",
      "Requirement already satisfied: cycler>=0.10 in /opt/anaconda3/envs/praktikum/lib/python3.9/site-packages (from matplotlib>=3.4.3->dython) (0.11.0)\n",
      "Requirement already satisfied: pytz>=2020.1 in /opt/anaconda3/envs/praktikum/lib/python3.9/site-packages (from pandas>=1.3.2->dython) (2022.1)\n",
      "Requirement already satisfied: threadpoolctl>=2.0.0 in /opt/anaconda3/envs/praktikum/lib/python3.9/site-packages (from scikit-learn>=0.24.2->dython) (3.1.0)\n",
      "Requirement already satisfied: joblib>=1.0.0 in /opt/anaconda3/envs/praktikum/lib/python3.9/site-packages (from scikit-learn>=0.24.2->dython) (1.1.0)\n",
      "Requirement already satisfied: six>=1.5 in /opt/anaconda3/envs/praktikum/lib/python3.9/site-packages (from python-dateutil>=2.7->matplotlib>=3.4.3->dython) (1.16.0)\n",
      "Requirement already satisfied: catboost in /opt/anaconda3/envs/praktikum/lib/python3.9/site-packages (1.0.3)\n",
      "Requirement already satisfied: six in /opt/anaconda3/envs/praktikum/lib/python3.9/site-packages (from catboost) (1.16.0)\n",
      "Requirement already satisfied: numpy>=1.16.0 in /opt/anaconda3/envs/praktikum/lib/python3.9/site-packages (from catboost) (1.20.1)\n",
      "Requirement already satisfied: scipy in /opt/anaconda3/envs/praktikum/lib/python3.9/site-packages (from catboost) (1.8.0)\n",
      "Requirement already satisfied: pandas>=0.24.0 in /opt/anaconda3/envs/praktikum/lib/python3.9/site-packages (from catboost) (1.4.3)\n",
      "Requirement already satisfied: matplotlib in /opt/anaconda3/envs/praktikum/lib/python3.9/site-packages (from catboost) (3.5.2)\n",
      "Requirement already satisfied: graphviz in /opt/anaconda3/envs/praktikum/lib/python3.9/site-packages (from catboost) (0.20)\n",
      "Requirement already satisfied: plotly in /opt/anaconda3/envs/praktikum/lib/python3.9/site-packages (from catboost) (5.4.0)\n",
      "Requirement already satisfied: python-dateutil>=2.8.1 in /opt/anaconda3/envs/praktikum/lib/python3.9/site-packages (from pandas>=0.24.0->catboost) (2.8.2)\n",
      "Requirement already satisfied: pytz>=2020.1 in /opt/anaconda3/envs/praktikum/lib/python3.9/site-packages (from pandas>=0.24.0->catboost) (2022.1)\n",
      "Requirement already satisfied: fonttools>=4.22.0 in /opt/anaconda3/envs/praktikum/lib/python3.9/site-packages (from matplotlib->catboost) (4.33.3)\n",
      "Requirement already satisfied: pyparsing>=2.2.1 in /opt/anaconda3/envs/praktikum/lib/python3.9/site-packages (from matplotlib->catboost) (3.0.8)\n",
      "Requirement already satisfied: kiwisolver>=1.0.1 in /opt/anaconda3/envs/praktikum/lib/python3.9/site-packages (from matplotlib->catboost) (1.4.2)\n",
      "Requirement already satisfied: pillow>=6.2.0 in /opt/anaconda3/envs/praktikum/lib/python3.9/site-packages (from matplotlib->catboost) (8.4.0)\n",
      "Requirement already satisfied: cycler>=0.10 in /opt/anaconda3/envs/praktikum/lib/python3.9/site-packages (from matplotlib->catboost) (0.11.0)\n",
      "Requirement already satisfied: packaging>=20.0 in /opt/anaconda3/envs/praktikum/lib/python3.9/site-packages (from matplotlib->catboost) (21.3)\n",
      "Requirement already satisfied: tenacity>=6.2.0 in /opt/anaconda3/envs/praktikum/lib/python3.9/site-packages (from plotly->catboost) (8.0.1)\n"
     ]
    }
   ],
   "source": [
    "# Импортируем библиотеки:\n",
    "!pip install pandas --upgrade\n",
    "import pandas as pd\n",
    "import matplotlib.pyplot as plt\n",
    "import seaborn as sns\n",
    "import numpy as np\n",
    "import math\n",
    "from scipy import stats as st\n",
    "\n",
    "# Закрепим формат float:\n",
    "pd.set_option('display.float_format', '{:,.2f}'.format)\n",
    "\n",
    "# Уберем предупреждения:\n",
    "import warnings\n",
    "warnings.simplefilter('ignore')\n",
    "\n",
    "# Сброс ограничений на количество выводимых данных:\n",
    "pd.set_option('display.max_rows', None)\n",
    "pd.set_option('display.max_columns', None)\n",
    "\n",
    "# Импортируем библиотеку Dython для анализа:\n",
    "!pip install dython\n",
    "from dython.nominal import associations\n",
    "from dython.nominal import identify_nominal_columns\n",
    "\n",
    "# Импортируем библиотеки для ML:\n",
    "! pip install catboost\n",
    "import sklearn\n",
    "from sklearn.model_selection import train_test_split\n",
    "from sklearn.pipeline import Pipeline\n",
    "from sklearn.preprocessing import OneHotEncoder, StandardScaler\n",
    "from sklearn.compose import ColumnTransformer\n",
    "from sklearn.model_selection import GridSearchCV, cross_val_score, RandomizedSearchCV\n",
    "from sklearn.tree import DecisionTreeClassifier\n",
    "from sklearn.ensemble import RandomForestClassifier\n",
    "from sklearn.linear_model import LogisticRegression\n",
    "from catboost import CatBoostClassifier\n",
    "from catboost import cv\n",
    "from sklearn.dummy import DummyRegressor\n",
    "from sklearn.metrics import roc_curve \n",
    "from sklearn.metrics import accuracy_score\n",
    "from sklearn.metrics import roc_auc_score"
   ]
  },
  {
   "cell_type": "code",
   "execution_count": 2,
   "id": "1027d038",
   "metadata": {},
   "outputs": [],
   "source": [
    "# Сохраним данные из датасетов:\n",
    "contract = pd.read_csv('contract.csv')\n",
    "personal = pd.read_csv('personal.csv')\n",
    "internet = pd.read_csv('internet.csv')\n",
    "phone = pd.read_csv('phone.csv')"
   ]
  },
  {
   "cell_type": "raw",
   "id": "ed0f1bef",
   "metadata": {},
   "source": [
    "contract = pd.read_csv('/datasets/final_provider/contract.csv')\n",
    "internet = pd.read_csv('/datasets/final_provider/internet.csv')\n",
    "personal = pd.read_csv('/datasets/final_provider/personal.csv')\n",
    "phone = pd.read_csv('/datasets/final_provider/phone.csv')"
   ]
  },
  {
   "cell_type": "markdown",
   "id": "5902032b",
   "metadata": {},
   "source": [
    "<div class=\"alert alert-success\" style=\"border-color: green; border-radius: 5px\">\n",
    "    <p><u><b>✅ КОММЕНТАРИЙ РЕВЬЮЕРА</b></u></p>ОК, данные на базе)"
   ]
  },
  {
   "cell_type": "code",
   "execution_count": 3,
   "id": "d407d0fd",
   "metadata": {},
   "outputs": [],
   "source": [
    "# Создадим фукнцию для вывода всех необходимых характеристик данных:\n",
    "def analize(table):\n",
    "    display(table.head(10))\n",
    "    display(table.info())\n",
    "    display(table.describe())\n",
    "    display('Число пропусков:', table.isnull().sum())\n",
    "    display('Число дубликатов:', table.duplicated().sum())"
   ]
  },
  {
   "cell_type": "code",
   "execution_count": 4,
   "id": "09926d4b",
   "metadata": {},
   "outputs": [
    {
     "data": {
      "text/html": [
       "<div>\n",
       "<style scoped>\n",
       "    .dataframe tbody tr th:only-of-type {\n",
       "        vertical-align: middle;\n",
       "    }\n",
       "\n",
       "    .dataframe tbody tr th {\n",
       "        vertical-align: top;\n",
       "    }\n",
       "\n",
       "    .dataframe thead th {\n",
       "        text-align: right;\n",
       "    }\n",
       "</style>\n",
       "<table border=\"1\" class=\"dataframe\">\n",
       "  <thead>\n",
       "    <tr style=\"text-align: right;\">\n",
       "      <th></th>\n",
       "      <th>customerID</th>\n",
       "      <th>BeginDate</th>\n",
       "      <th>EndDate</th>\n",
       "      <th>Type</th>\n",
       "      <th>PaperlessBilling</th>\n",
       "      <th>PaymentMethod</th>\n",
       "      <th>MonthlyCharges</th>\n",
       "      <th>TotalCharges</th>\n",
       "    </tr>\n",
       "  </thead>\n",
       "  <tbody>\n",
       "    <tr>\n",
       "      <th>0</th>\n",
       "      <td>7590-VHVEG</td>\n",
       "      <td>2020-01-01</td>\n",
       "      <td>No</td>\n",
       "      <td>Month-to-month</td>\n",
       "      <td>Yes</td>\n",
       "      <td>Electronic check</td>\n",
       "      <td>29.85</td>\n",
       "      <td>29.85</td>\n",
       "    </tr>\n",
       "    <tr>\n",
       "      <th>1</th>\n",
       "      <td>5575-GNVDE</td>\n",
       "      <td>2017-04-01</td>\n",
       "      <td>No</td>\n",
       "      <td>One year</td>\n",
       "      <td>No</td>\n",
       "      <td>Mailed check</td>\n",
       "      <td>56.95</td>\n",
       "      <td>1889.5</td>\n",
       "    </tr>\n",
       "    <tr>\n",
       "      <th>2</th>\n",
       "      <td>3668-QPYBK</td>\n",
       "      <td>2019-10-01</td>\n",
       "      <td>2019-12-01 00:00:00</td>\n",
       "      <td>Month-to-month</td>\n",
       "      <td>Yes</td>\n",
       "      <td>Mailed check</td>\n",
       "      <td>53.85</td>\n",
       "      <td>108.15</td>\n",
       "    </tr>\n",
       "    <tr>\n",
       "      <th>3</th>\n",
       "      <td>7795-CFOCW</td>\n",
       "      <td>2016-05-01</td>\n",
       "      <td>No</td>\n",
       "      <td>One year</td>\n",
       "      <td>No</td>\n",
       "      <td>Bank transfer (automatic)</td>\n",
       "      <td>42.30</td>\n",
       "      <td>1840.75</td>\n",
       "    </tr>\n",
       "    <tr>\n",
       "      <th>4</th>\n",
       "      <td>9237-HQITU</td>\n",
       "      <td>2019-09-01</td>\n",
       "      <td>2019-11-01 00:00:00</td>\n",
       "      <td>Month-to-month</td>\n",
       "      <td>Yes</td>\n",
       "      <td>Electronic check</td>\n",
       "      <td>70.70</td>\n",
       "      <td>151.65</td>\n",
       "    </tr>\n",
       "    <tr>\n",
       "      <th>5</th>\n",
       "      <td>9305-CDSKC</td>\n",
       "      <td>2019-03-01</td>\n",
       "      <td>2019-11-01 00:00:00</td>\n",
       "      <td>Month-to-month</td>\n",
       "      <td>Yes</td>\n",
       "      <td>Electronic check</td>\n",
       "      <td>99.65</td>\n",
       "      <td>820.5</td>\n",
       "    </tr>\n",
       "    <tr>\n",
       "      <th>6</th>\n",
       "      <td>1452-KIOVK</td>\n",
       "      <td>2018-04-01</td>\n",
       "      <td>No</td>\n",
       "      <td>Month-to-month</td>\n",
       "      <td>Yes</td>\n",
       "      <td>Credit card (automatic)</td>\n",
       "      <td>89.10</td>\n",
       "      <td>1949.4</td>\n",
       "    </tr>\n",
       "    <tr>\n",
       "      <th>7</th>\n",
       "      <td>6713-OKOMC</td>\n",
       "      <td>2019-04-01</td>\n",
       "      <td>No</td>\n",
       "      <td>Month-to-month</td>\n",
       "      <td>No</td>\n",
       "      <td>Mailed check</td>\n",
       "      <td>29.75</td>\n",
       "      <td>301.9</td>\n",
       "    </tr>\n",
       "    <tr>\n",
       "      <th>8</th>\n",
       "      <td>7892-POOKP</td>\n",
       "      <td>2017-07-01</td>\n",
       "      <td>2019-11-01 00:00:00</td>\n",
       "      <td>Month-to-month</td>\n",
       "      <td>Yes</td>\n",
       "      <td>Electronic check</td>\n",
       "      <td>104.80</td>\n",
       "      <td>3046.05</td>\n",
       "    </tr>\n",
       "    <tr>\n",
       "      <th>9</th>\n",
       "      <td>6388-TABGU</td>\n",
       "      <td>2014-12-01</td>\n",
       "      <td>No</td>\n",
       "      <td>One year</td>\n",
       "      <td>No</td>\n",
       "      <td>Bank transfer (automatic)</td>\n",
       "      <td>56.15</td>\n",
       "      <td>3487.95</td>\n",
       "    </tr>\n",
       "  </tbody>\n",
       "</table>\n",
       "</div>"
      ],
      "text/plain": [
       "   customerID   BeginDate              EndDate            Type  \\\n",
       "0  7590-VHVEG  2020-01-01                   No  Month-to-month   \n",
       "1  5575-GNVDE  2017-04-01                   No        One year   \n",
       "2  3668-QPYBK  2019-10-01  2019-12-01 00:00:00  Month-to-month   \n",
       "3  7795-CFOCW  2016-05-01                   No        One year   \n",
       "4  9237-HQITU  2019-09-01  2019-11-01 00:00:00  Month-to-month   \n",
       "5  9305-CDSKC  2019-03-01  2019-11-01 00:00:00  Month-to-month   \n",
       "6  1452-KIOVK  2018-04-01                   No  Month-to-month   \n",
       "7  6713-OKOMC  2019-04-01                   No  Month-to-month   \n",
       "8  7892-POOKP  2017-07-01  2019-11-01 00:00:00  Month-to-month   \n",
       "9  6388-TABGU  2014-12-01                   No        One year   \n",
       "\n",
       "  PaperlessBilling              PaymentMethod  MonthlyCharges TotalCharges  \n",
       "0              Yes           Electronic check           29.85        29.85  \n",
       "1               No               Mailed check           56.95       1889.5  \n",
       "2              Yes               Mailed check           53.85       108.15  \n",
       "3               No  Bank transfer (automatic)           42.30      1840.75  \n",
       "4              Yes           Electronic check           70.70       151.65  \n",
       "5              Yes           Electronic check           99.65        820.5  \n",
       "6              Yes    Credit card (automatic)           89.10       1949.4  \n",
       "7               No               Mailed check           29.75        301.9  \n",
       "8              Yes           Electronic check          104.80      3046.05  \n",
       "9               No  Bank transfer (automatic)           56.15      3487.95  "
      ]
     },
     "metadata": {},
     "output_type": "display_data"
    },
    {
     "name": "stdout",
     "output_type": "stream",
     "text": [
      "<class 'pandas.core.frame.DataFrame'>\n",
      "RangeIndex: 7043 entries, 0 to 7042\n",
      "Data columns (total 8 columns):\n",
      " #   Column            Non-Null Count  Dtype  \n",
      "---  ------            --------------  -----  \n",
      " 0   customerID        7043 non-null   object \n",
      " 1   BeginDate         7043 non-null   object \n",
      " 2   EndDate           7043 non-null   object \n",
      " 3   Type              7043 non-null   object \n",
      " 4   PaperlessBilling  7043 non-null   object \n",
      " 5   PaymentMethod     7043 non-null   object \n",
      " 6   MonthlyCharges    7043 non-null   float64\n",
      " 7   TotalCharges      7043 non-null   object \n",
      "dtypes: float64(1), object(7)\n",
      "memory usage: 440.3+ KB\n"
     ]
    },
    {
     "data": {
      "text/plain": [
       "None"
      ]
     },
     "metadata": {},
     "output_type": "display_data"
    },
    {
     "data": {
      "text/html": [
       "<div>\n",
       "<style scoped>\n",
       "    .dataframe tbody tr th:only-of-type {\n",
       "        vertical-align: middle;\n",
       "    }\n",
       "\n",
       "    .dataframe tbody tr th {\n",
       "        vertical-align: top;\n",
       "    }\n",
       "\n",
       "    .dataframe thead th {\n",
       "        text-align: right;\n",
       "    }\n",
       "</style>\n",
       "<table border=\"1\" class=\"dataframe\">\n",
       "  <thead>\n",
       "    <tr style=\"text-align: right;\">\n",
       "      <th></th>\n",
       "      <th>MonthlyCharges</th>\n",
       "    </tr>\n",
       "  </thead>\n",
       "  <tbody>\n",
       "    <tr>\n",
       "      <th>count</th>\n",
       "      <td>7,043.00</td>\n",
       "    </tr>\n",
       "    <tr>\n",
       "      <th>mean</th>\n",
       "      <td>64.76</td>\n",
       "    </tr>\n",
       "    <tr>\n",
       "      <th>std</th>\n",
       "      <td>30.09</td>\n",
       "    </tr>\n",
       "    <tr>\n",
       "      <th>min</th>\n",
       "      <td>18.25</td>\n",
       "    </tr>\n",
       "    <tr>\n",
       "      <th>25%</th>\n",
       "      <td>35.50</td>\n",
       "    </tr>\n",
       "    <tr>\n",
       "      <th>50%</th>\n",
       "      <td>70.35</td>\n",
       "    </tr>\n",
       "    <tr>\n",
       "      <th>75%</th>\n",
       "      <td>89.85</td>\n",
       "    </tr>\n",
       "    <tr>\n",
       "      <th>max</th>\n",
       "      <td>118.75</td>\n",
       "    </tr>\n",
       "  </tbody>\n",
       "</table>\n",
       "</div>"
      ],
      "text/plain": [
       "       MonthlyCharges\n",
       "count        7,043.00\n",
       "mean            64.76\n",
       "std             30.09\n",
       "min             18.25\n",
       "25%             35.50\n",
       "50%             70.35\n",
       "75%             89.85\n",
       "max            118.75"
      ]
     },
     "metadata": {},
     "output_type": "display_data"
    },
    {
     "data": {
      "text/plain": [
       "'Число пропусков:'"
      ]
     },
     "metadata": {},
     "output_type": "display_data"
    },
    {
     "data": {
      "text/plain": [
       "customerID          0\n",
       "BeginDate           0\n",
       "EndDate             0\n",
       "Type                0\n",
       "PaperlessBilling    0\n",
       "PaymentMethod       0\n",
       "MonthlyCharges      0\n",
       "TotalCharges        0\n",
       "dtype: int64"
      ]
     },
     "metadata": {},
     "output_type": "display_data"
    },
    {
     "data": {
      "text/plain": [
       "'Число дубликатов:'"
      ]
     },
     "metadata": {},
     "output_type": "display_data"
    },
    {
     "data": {
      "text/plain": [
       "0"
      ]
     },
     "metadata": {},
     "output_type": "display_data"
    }
   ],
   "source": [
    "# Выведем поочередно все датасеты, первый - информация о договорах:\n",
    "analize(contract)"
   ]
  },
  {
   "cell_type": "code",
   "execution_count": 5,
   "id": "072ce036",
   "metadata": {},
   "outputs": [
    {
     "data": {
      "text/html": [
       "<div>\n",
       "<style scoped>\n",
       "    .dataframe tbody tr th:only-of-type {\n",
       "        vertical-align: middle;\n",
       "    }\n",
       "\n",
       "    .dataframe tbody tr th {\n",
       "        vertical-align: top;\n",
       "    }\n",
       "\n",
       "    .dataframe thead th {\n",
       "        text-align: right;\n",
       "    }\n",
       "</style>\n",
       "<table border=\"1\" class=\"dataframe\">\n",
       "  <thead>\n",
       "    <tr style=\"text-align: right;\">\n",
       "      <th></th>\n",
       "      <th>customerID</th>\n",
       "      <th>gender</th>\n",
       "      <th>SeniorCitizen</th>\n",
       "      <th>Partner</th>\n",
       "      <th>Dependents</th>\n",
       "    </tr>\n",
       "  </thead>\n",
       "  <tbody>\n",
       "    <tr>\n",
       "      <th>0</th>\n",
       "      <td>7590-VHVEG</td>\n",
       "      <td>Female</td>\n",
       "      <td>0</td>\n",
       "      <td>Yes</td>\n",
       "      <td>No</td>\n",
       "    </tr>\n",
       "    <tr>\n",
       "      <th>1</th>\n",
       "      <td>5575-GNVDE</td>\n",
       "      <td>Male</td>\n",
       "      <td>0</td>\n",
       "      <td>No</td>\n",
       "      <td>No</td>\n",
       "    </tr>\n",
       "    <tr>\n",
       "      <th>2</th>\n",
       "      <td>3668-QPYBK</td>\n",
       "      <td>Male</td>\n",
       "      <td>0</td>\n",
       "      <td>No</td>\n",
       "      <td>No</td>\n",
       "    </tr>\n",
       "    <tr>\n",
       "      <th>3</th>\n",
       "      <td>7795-CFOCW</td>\n",
       "      <td>Male</td>\n",
       "      <td>0</td>\n",
       "      <td>No</td>\n",
       "      <td>No</td>\n",
       "    </tr>\n",
       "    <tr>\n",
       "      <th>4</th>\n",
       "      <td>9237-HQITU</td>\n",
       "      <td>Female</td>\n",
       "      <td>0</td>\n",
       "      <td>No</td>\n",
       "      <td>No</td>\n",
       "    </tr>\n",
       "    <tr>\n",
       "      <th>5</th>\n",
       "      <td>9305-CDSKC</td>\n",
       "      <td>Female</td>\n",
       "      <td>0</td>\n",
       "      <td>No</td>\n",
       "      <td>No</td>\n",
       "    </tr>\n",
       "    <tr>\n",
       "      <th>6</th>\n",
       "      <td>1452-KIOVK</td>\n",
       "      <td>Male</td>\n",
       "      <td>0</td>\n",
       "      <td>No</td>\n",
       "      <td>Yes</td>\n",
       "    </tr>\n",
       "    <tr>\n",
       "      <th>7</th>\n",
       "      <td>6713-OKOMC</td>\n",
       "      <td>Female</td>\n",
       "      <td>0</td>\n",
       "      <td>No</td>\n",
       "      <td>No</td>\n",
       "    </tr>\n",
       "    <tr>\n",
       "      <th>8</th>\n",
       "      <td>7892-POOKP</td>\n",
       "      <td>Female</td>\n",
       "      <td>0</td>\n",
       "      <td>Yes</td>\n",
       "      <td>No</td>\n",
       "    </tr>\n",
       "    <tr>\n",
       "      <th>9</th>\n",
       "      <td>6388-TABGU</td>\n",
       "      <td>Male</td>\n",
       "      <td>0</td>\n",
       "      <td>No</td>\n",
       "      <td>Yes</td>\n",
       "    </tr>\n",
       "  </tbody>\n",
       "</table>\n",
       "</div>"
      ],
      "text/plain": [
       "   customerID  gender  SeniorCitizen Partner Dependents\n",
       "0  7590-VHVEG  Female              0     Yes         No\n",
       "1  5575-GNVDE    Male              0      No         No\n",
       "2  3668-QPYBK    Male              0      No         No\n",
       "3  7795-CFOCW    Male              0      No         No\n",
       "4  9237-HQITU  Female              0      No         No\n",
       "5  9305-CDSKC  Female              0      No         No\n",
       "6  1452-KIOVK    Male              0      No        Yes\n",
       "7  6713-OKOMC  Female              0      No         No\n",
       "8  7892-POOKP  Female              0     Yes         No\n",
       "9  6388-TABGU    Male              0      No        Yes"
      ]
     },
     "metadata": {},
     "output_type": "display_data"
    },
    {
     "name": "stdout",
     "output_type": "stream",
     "text": [
      "<class 'pandas.core.frame.DataFrame'>\n",
      "RangeIndex: 7043 entries, 0 to 7042\n",
      "Data columns (total 5 columns):\n",
      " #   Column         Non-Null Count  Dtype \n",
      "---  ------         --------------  ----- \n",
      " 0   customerID     7043 non-null   object\n",
      " 1   gender         7043 non-null   object\n",
      " 2   SeniorCitizen  7043 non-null   int64 \n",
      " 3   Partner        7043 non-null   object\n",
      " 4   Dependents     7043 non-null   object\n",
      "dtypes: int64(1), object(4)\n",
      "memory usage: 275.2+ KB\n"
     ]
    },
    {
     "data": {
      "text/plain": [
       "None"
      ]
     },
     "metadata": {},
     "output_type": "display_data"
    },
    {
     "data": {
      "text/html": [
       "<div>\n",
       "<style scoped>\n",
       "    .dataframe tbody tr th:only-of-type {\n",
       "        vertical-align: middle;\n",
       "    }\n",
       "\n",
       "    .dataframe tbody tr th {\n",
       "        vertical-align: top;\n",
       "    }\n",
       "\n",
       "    .dataframe thead th {\n",
       "        text-align: right;\n",
       "    }\n",
       "</style>\n",
       "<table border=\"1\" class=\"dataframe\">\n",
       "  <thead>\n",
       "    <tr style=\"text-align: right;\">\n",
       "      <th></th>\n",
       "      <th>SeniorCitizen</th>\n",
       "    </tr>\n",
       "  </thead>\n",
       "  <tbody>\n",
       "    <tr>\n",
       "      <th>count</th>\n",
       "      <td>7,043.00</td>\n",
       "    </tr>\n",
       "    <tr>\n",
       "      <th>mean</th>\n",
       "      <td>0.16</td>\n",
       "    </tr>\n",
       "    <tr>\n",
       "      <th>std</th>\n",
       "      <td>0.37</td>\n",
       "    </tr>\n",
       "    <tr>\n",
       "      <th>min</th>\n",
       "      <td>0.00</td>\n",
       "    </tr>\n",
       "    <tr>\n",
       "      <th>25%</th>\n",
       "      <td>0.00</td>\n",
       "    </tr>\n",
       "    <tr>\n",
       "      <th>50%</th>\n",
       "      <td>0.00</td>\n",
       "    </tr>\n",
       "    <tr>\n",
       "      <th>75%</th>\n",
       "      <td>0.00</td>\n",
       "    </tr>\n",
       "    <tr>\n",
       "      <th>max</th>\n",
       "      <td>1.00</td>\n",
       "    </tr>\n",
       "  </tbody>\n",
       "</table>\n",
       "</div>"
      ],
      "text/plain": [
       "       SeniorCitizen\n",
       "count       7,043.00\n",
       "mean            0.16\n",
       "std             0.37\n",
       "min             0.00\n",
       "25%             0.00\n",
       "50%             0.00\n",
       "75%             0.00\n",
       "max             1.00"
      ]
     },
     "metadata": {},
     "output_type": "display_data"
    },
    {
     "data": {
      "text/plain": [
       "'Число пропусков:'"
      ]
     },
     "metadata": {},
     "output_type": "display_data"
    },
    {
     "data": {
      "text/plain": [
       "customerID       0\n",
       "gender           0\n",
       "SeniorCitizen    0\n",
       "Partner          0\n",
       "Dependents       0\n",
       "dtype: int64"
      ]
     },
     "metadata": {},
     "output_type": "display_data"
    },
    {
     "data": {
      "text/plain": [
       "'Число дубликатов:'"
      ]
     },
     "metadata": {},
     "output_type": "display_data"
    },
    {
     "data": {
      "text/plain": [
       "0"
      ]
     },
     "metadata": {},
     "output_type": "display_data"
    }
   ],
   "source": [
    "# Персональные данные клиента:\n",
    "analize(personal)"
   ]
  },
  {
   "cell_type": "code",
   "execution_count": 6,
   "id": "a3ab878f",
   "metadata": {
    "scrolled": false
   },
   "outputs": [
    {
     "data": {
      "text/html": [
       "<div>\n",
       "<style scoped>\n",
       "    .dataframe tbody tr th:only-of-type {\n",
       "        vertical-align: middle;\n",
       "    }\n",
       "\n",
       "    .dataframe tbody tr th {\n",
       "        vertical-align: top;\n",
       "    }\n",
       "\n",
       "    .dataframe thead th {\n",
       "        text-align: right;\n",
       "    }\n",
       "</style>\n",
       "<table border=\"1\" class=\"dataframe\">\n",
       "  <thead>\n",
       "    <tr style=\"text-align: right;\">\n",
       "      <th></th>\n",
       "      <th>customerID</th>\n",
       "      <th>InternetService</th>\n",
       "      <th>OnlineSecurity</th>\n",
       "      <th>OnlineBackup</th>\n",
       "      <th>DeviceProtection</th>\n",
       "      <th>TechSupport</th>\n",
       "      <th>StreamingTV</th>\n",
       "      <th>StreamingMovies</th>\n",
       "    </tr>\n",
       "  </thead>\n",
       "  <tbody>\n",
       "    <tr>\n",
       "      <th>0</th>\n",
       "      <td>7590-VHVEG</td>\n",
       "      <td>DSL</td>\n",
       "      <td>No</td>\n",
       "      <td>Yes</td>\n",
       "      <td>No</td>\n",
       "      <td>No</td>\n",
       "      <td>No</td>\n",
       "      <td>No</td>\n",
       "    </tr>\n",
       "    <tr>\n",
       "      <th>1</th>\n",
       "      <td>5575-GNVDE</td>\n",
       "      <td>DSL</td>\n",
       "      <td>Yes</td>\n",
       "      <td>No</td>\n",
       "      <td>Yes</td>\n",
       "      <td>No</td>\n",
       "      <td>No</td>\n",
       "      <td>No</td>\n",
       "    </tr>\n",
       "    <tr>\n",
       "      <th>2</th>\n",
       "      <td>3668-QPYBK</td>\n",
       "      <td>DSL</td>\n",
       "      <td>Yes</td>\n",
       "      <td>Yes</td>\n",
       "      <td>No</td>\n",
       "      <td>No</td>\n",
       "      <td>No</td>\n",
       "      <td>No</td>\n",
       "    </tr>\n",
       "    <tr>\n",
       "      <th>3</th>\n",
       "      <td>7795-CFOCW</td>\n",
       "      <td>DSL</td>\n",
       "      <td>Yes</td>\n",
       "      <td>No</td>\n",
       "      <td>Yes</td>\n",
       "      <td>Yes</td>\n",
       "      <td>No</td>\n",
       "      <td>No</td>\n",
       "    </tr>\n",
       "    <tr>\n",
       "      <th>4</th>\n",
       "      <td>9237-HQITU</td>\n",
       "      <td>Fiber optic</td>\n",
       "      <td>No</td>\n",
       "      <td>No</td>\n",
       "      <td>No</td>\n",
       "      <td>No</td>\n",
       "      <td>No</td>\n",
       "      <td>No</td>\n",
       "    </tr>\n",
       "    <tr>\n",
       "      <th>5</th>\n",
       "      <td>9305-CDSKC</td>\n",
       "      <td>Fiber optic</td>\n",
       "      <td>No</td>\n",
       "      <td>No</td>\n",
       "      <td>Yes</td>\n",
       "      <td>No</td>\n",
       "      <td>Yes</td>\n",
       "      <td>Yes</td>\n",
       "    </tr>\n",
       "    <tr>\n",
       "      <th>6</th>\n",
       "      <td>1452-KIOVK</td>\n",
       "      <td>Fiber optic</td>\n",
       "      <td>No</td>\n",
       "      <td>Yes</td>\n",
       "      <td>No</td>\n",
       "      <td>No</td>\n",
       "      <td>Yes</td>\n",
       "      <td>No</td>\n",
       "    </tr>\n",
       "    <tr>\n",
       "      <th>7</th>\n",
       "      <td>6713-OKOMC</td>\n",
       "      <td>DSL</td>\n",
       "      <td>Yes</td>\n",
       "      <td>No</td>\n",
       "      <td>No</td>\n",
       "      <td>No</td>\n",
       "      <td>No</td>\n",
       "      <td>No</td>\n",
       "    </tr>\n",
       "    <tr>\n",
       "      <th>8</th>\n",
       "      <td>7892-POOKP</td>\n",
       "      <td>Fiber optic</td>\n",
       "      <td>No</td>\n",
       "      <td>No</td>\n",
       "      <td>Yes</td>\n",
       "      <td>Yes</td>\n",
       "      <td>Yes</td>\n",
       "      <td>Yes</td>\n",
       "    </tr>\n",
       "    <tr>\n",
       "      <th>9</th>\n",
       "      <td>6388-TABGU</td>\n",
       "      <td>DSL</td>\n",
       "      <td>Yes</td>\n",
       "      <td>Yes</td>\n",
       "      <td>No</td>\n",
       "      <td>No</td>\n",
       "      <td>No</td>\n",
       "      <td>No</td>\n",
       "    </tr>\n",
       "  </tbody>\n",
       "</table>\n",
       "</div>"
      ],
      "text/plain": [
       "   customerID InternetService OnlineSecurity OnlineBackup DeviceProtection  \\\n",
       "0  7590-VHVEG             DSL             No          Yes               No   \n",
       "1  5575-GNVDE             DSL            Yes           No              Yes   \n",
       "2  3668-QPYBK             DSL            Yes          Yes               No   \n",
       "3  7795-CFOCW             DSL            Yes           No              Yes   \n",
       "4  9237-HQITU     Fiber optic             No           No               No   \n",
       "5  9305-CDSKC     Fiber optic             No           No              Yes   \n",
       "6  1452-KIOVK     Fiber optic             No          Yes               No   \n",
       "7  6713-OKOMC             DSL            Yes           No               No   \n",
       "8  7892-POOKP     Fiber optic             No           No              Yes   \n",
       "9  6388-TABGU             DSL            Yes          Yes               No   \n",
       "\n",
       "  TechSupport StreamingTV StreamingMovies  \n",
       "0          No          No              No  \n",
       "1          No          No              No  \n",
       "2          No          No              No  \n",
       "3         Yes          No              No  \n",
       "4          No          No              No  \n",
       "5          No         Yes             Yes  \n",
       "6          No         Yes              No  \n",
       "7          No          No              No  \n",
       "8         Yes         Yes             Yes  \n",
       "9          No          No              No  "
      ]
     },
     "metadata": {},
     "output_type": "display_data"
    },
    {
     "name": "stdout",
     "output_type": "stream",
     "text": [
      "<class 'pandas.core.frame.DataFrame'>\n",
      "RangeIndex: 5517 entries, 0 to 5516\n",
      "Data columns (total 8 columns):\n",
      " #   Column            Non-Null Count  Dtype \n",
      "---  ------            --------------  ----- \n",
      " 0   customerID        5517 non-null   object\n",
      " 1   InternetService   5517 non-null   object\n",
      " 2   OnlineSecurity    5517 non-null   object\n",
      " 3   OnlineBackup      5517 non-null   object\n",
      " 4   DeviceProtection  5517 non-null   object\n",
      " 5   TechSupport       5517 non-null   object\n",
      " 6   StreamingTV       5517 non-null   object\n",
      " 7   StreamingMovies   5517 non-null   object\n",
      "dtypes: object(8)\n",
      "memory usage: 344.9+ KB\n"
     ]
    },
    {
     "data": {
      "text/plain": [
       "None"
      ]
     },
     "metadata": {},
     "output_type": "display_data"
    },
    {
     "data": {
      "text/html": [
       "<div>\n",
       "<style scoped>\n",
       "    .dataframe tbody tr th:only-of-type {\n",
       "        vertical-align: middle;\n",
       "    }\n",
       "\n",
       "    .dataframe tbody tr th {\n",
       "        vertical-align: top;\n",
       "    }\n",
       "\n",
       "    .dataframe thead th {\n",
       "        text-align: right;\n",
       "    }\n",
       "</style>\n",
       "<table border=\"1\" class=\"dataframe\">\n",
       "  <thead>\n",
       "    <tr style=\"text-align: right;\">\n",
       "      <th></th>\n",
       "      <th>customerID</th>\n",
       "      <th>InternetService</th>\n",
       "      <th>OnlineSecurity</th>\n",
       "      <th>OnlineBackup</th>\n",
       "      <th>DeviceProtection</th>\n",
       "      <th>TechSupport</th>\n",
       "      <th>StreamingTV</th>\n",
       "      <th>StreamingMovies</th>\n",
       "    </tr>\n",
       "  </thead>\n",
       "  <tbody>\n",
       "    <tr>\n",
       "      <th>count</th>\n",
       "      <td>5517</td>\n",
       "      <td>5517</td>\n",
       "      <td>5517</td>\n",
       "      <td>5517</td>\n",
       "      <td>5517</td>\n",
       "      <td>5517</td>\n",
       "      <td>5517</td>\n",
       "      <td>5517</td>\n",
       "    </tr>\n",
       "    <tr>\n",
       "      <th>unique</th>\n",
       "      <td>5517</td>\n",
       "      <td>2</td>\n",
       "      <td>2</td>\n",
       "      <td>2</td>\n",
       "      <td>2</td>\n",
       "      <td>2</td>\n",
       "      <td>2</td>\n",
       "      <td>2</td>\n",
       "    </tr>\n",
       "    <tr>\n",
       "      <th>top</th>\n",
       "      <td>7590-VHVEG</td>\n",
       "      <td>Fiber optic</td>\n",
       "      <td>No</td>\n",
       "      <td>No</td>\n",
       "      <td>No</td>\n",
       "      <td>No</td>\n",
       "      <td>No</td>\n",
       "      <td>No</td>\n",
       "    </tr>\n",
       "    <tr>\n",
       "      <th>freq</th>\n",
       "      <td>1</td>\n",
       "      <td>3096</td>\n",
       "      <td>3498</td>\n",
       "      <td>3088</td>\n",
       "      <td>3095</td>\n",
       "      <td>3473</td>\n",
       "      <td>2810</td>\n",
       "      <td>2785</td>\n",
       "    </tr>\n",
       "  </tbody>\n",
       "</table>\n",
       "</div>"
      ],
      "text/plain": [
       "        customerID InternetService OnlineSecurity OnlineBackup  \\\n",
       "count         5517            5517           5517         5517   \n",
       "unique        5517               2              2            2   \n",
       "top     7590-VHVEG     Fiber optic             No           No   \n",
       "freq             1            3096           3498         3088   \n",
       "\n",
       "       DeviceProtection TechSupport StreamingTV StreamingMovies  \n",
       "count              5517        5517        5517            5517  \n",
       "unique                2           2           2               2  \n",
       "top                  No          No          No              No  \n",
       "freq               3095        3473        2810            2785  "
      ]
     },
     "metadata": {},
     "output_type": "display_data"
    },
    {
     "data": {
      "text/plain": [
       "'Число пропусков:'"
      ]
     },
     "metadata": {},
     "output_type": "display_data"
    },
    {
     "data": {
      "text/plain": [
       "customerID          0\n",
       "InternetService     0\n",
       "OnlineSecurity      0\n",
       "OnlineBackup        0\n",
       "DeviceProtection    0\n",
       "TechSupport         0\n",
       "StreamingTV         0\n",
       "StreamingMovies     0\n",
       "dtype: int64"
      ]
     },
     "metadata": {},
     "output_type": "display_data"
    },
    {
     "data": {
      "text/plain": [
       "'Число дубликатов:'"
      ]
     },
     "metadata": {},
     "output_type": "display_data"
    },
    {
     "data": {
      "text/plain": [
       "0"
      ]
     },
     "metadata": {},
     "output_type": "display_data"
    }
   ],
   "source": [
    "# Информация об интернет услугах:\n",
    "analize(internet)"
   ]
  },
  {
   "cell_type": "code",
   "execution_count": 7,
   "id": "2395f859",
   "metadata": {
    "scrolled": false
   },
   "outputs": [
    {
     "data": {
      "text/html": [
       "<div>\n",
       "<style scoped>\n",
       "    .dataframe tbody tr th:only-of-type {\n",
       "        vertical-align: middle;\n",
       "    }\n",
       "\n",
       "    .dataframe tbody tr th {\n",
       "        vertical-align: top;\n",
       "    }\n",
       "\n",
       "    .dataframe thead th {\n",
       "        text-align: right;\n",
       "    }\n",
       "</style>\n",
       "<table border=\"1\" class=\"dataframe\">\n",
       "  <thead>\n",
       "    <tr style=\"text-align: right;\">\n",
       "      <th></th>\n",
       "      <th>customerID</th>\n",
       "      <th>MultipleLines</th>\n",
       "    </tr>\n",
       "  </thead>\n",
       "  <tbody>\n",
       "    <tr>\n",
       "      <th>0</th>\n",
       "      <td>5575-GNVDE</td>\n",
       "      <td>No</td>\n",
       "    </tr>\n",
       "    <tr>\n",
       "      <th>1</th>\n",
       "      <td>3668-QPYBK</td>\n",
       "      <td>No</td>\n",
       "    </tr>\n",
       "    <tr>\n",
       "      <th>2</th>\n",
       "      <td>9237-HQITU</td>\n",
       "      <td>No</td>\n",
       "    </tr>\n",
       "    <tr>\n",
       "      <th>3</th>\n",
       "      <td>9305-CDSKC</td>\n",
       "      <td>Yes</td>\n",
       "    </tr>\n",
       "    <tr>\n",
       "      <th>4</th>\n",
       "      <td>1452-KIOVK</td>\n",
       "      <td>Yes</td>\n",
       "    </tr>\n",
       "    <tr>\n",
       "      <th>5</th>\n",
       "      <td>7892-POOKP</td>\n",
       "      <td>Yes</td>\n",
       "    </tr>\n",
       "    <tr>\n",
       "      <th>6</th>\n",
       "      <td>6388-TABGU</td>\n",
       "      <td>No</td>\n",
       "    </tr>\n",
       "    <tr>\n",
       "      <th>7</th>\n",
       "      <td>9763-GRSKD</td>\n",
       "      <td>No</td>\n",
       "    </tr>\n",
       "    <tr>\n",
       "      <th>8</th>\n",
       "      <td>7469-LKBCI</td>\n",
       "      <td>No</td>\n",
       "    </tr>\n",
       "    <tr>\n",
       "      <th>9</th>\n",
       "      <td>8091-TTVAX</td>\n",
       "      <td>Yes</td>\n",
       "    </tr>\n",
       "  </tbody>\n",
       "</table>\n",
       "</div>"
      ],
      "text/plain": [
       "   customerID MultipleLines\n",
       "0  5575-GNVDE            No\n",
       "1  3668-QPYBK            No\n",
       "2  9237-HQITU            No\n",
       "3  9305-CDSKC           Yes\n",
       "4  1452-KIOVK           Yes\n",
       "5  7892-POOKP           Yes\n",
       "6  6388-TABGU            No\n",
       "7  9763-GRSKD            No\n",
       "8  7469-LKBCI            No\n",
       "9  8091-TTVAX           Yes"
      ]
     },
     "metadata": {},
     "output_type": "display_data"
    },
    {
     "name": "stdout",
     "output_type": "stream",
     "text": [
      "<class 'pandas.core.frame.DataFrame'>\n",
      "RangeIndex: 6361 entries, 0 to 6360\n",
      "Data columns (total 2 columns):\n",
      " #   Column         Non-Null Count  Dtype \n",
      "---  ------         --------------  ----- \n",
      " 0   customerID     6361 non-null   object\n",
      " 1   MultipleLines  6361 non-null   object\n",
      "dtypes: object(2)\n",
      "memory usage: 99.5+ KB\n"
     ]
    },
    {
     "data": {
      "text/plain": [
       "None"
      ]
     },
     "metadata": {},
     "output_type": "display_data"
    },
    {
     "data": {
      "text/html": [
       "<div>\n",
       "<style scoped>\n",
       "    .dataframe tbody tr th:only-of-type {\n",
       "        vertical-align: middle;\n",
       "    }\n",
       "\n",
       "    .dataframe tbody tr th {\n",
       "        vertical-align: top;\n",
       "    }\n",
       "\n",
       "    .dataframe thead th {\n",
       "        text-align: right;\n",
       "    }\n",
       "</style>\n",
       "<table border=\"1\" class=\"dataframe\">\n",
       "  <thead>\n",
       "    <tr style=\"text-align: right;\">\n",
       "      <th></th>\n",
       "      <th>customerID</th>\n",
       "      <th>MultipleLines</th>\n",
       "    </tr>\n",
       "  </thead>\n",
       "  <tbody>\n",
       "    <tr>\n",
       "      <th>count</th>\n",
       "      <td>6361</td>\n",
       "      <td>6361</td>\n",
       "    </tr>\n",
       "    <tr>\n",
       "      <th>unique</th>\n",
       "      <td>6361</td>\n",
       "      <td>2</td>\n",
       "    </tr>\n",
       "    <tr>\n",
       "      <th>top</th>\n",
       "      <td>5575-GNVDE</td>\n",
       "      <td>No</td>\n",
       "    </tr>\n",
       "    <tr>\n",
       "      <th>freq</th>\n",
       "      <td>1</td>\n",
       "      <td>3390</td>\n",
       "    </tr>\n",
       "  </tbody>\n",
       "</table>\n",
       "</div>"
      ],
      "text/plain": [
       "        customerID MultipleLines\n",
       "count         6361          6361\n",
       "unique        6361             2\n",
       "top     5575-GNVDE            No\n",
       "freq             1          3390"
      ]
     },
     "metadata": {},
     "output_type": "display_data"
    },
    {
     "data": {
      "text/plain": [
       "'Число пропусков:'"
      ]
     },
     "metadata": {},
     "output_type": "display_data"
    },
    {
     "data": {
      "text/plain": [
       "customerID       0\n",
       "MultipleLines    0\n",
       "dtype: int64"
      ]
     },
     "metadata": {},
     "output_type": "display_data"
    },
    {
     "data": {
      "text/plain": [
       "'Число дубликатов:'"
      ]
     },
     "metadata": {},
     "output_type": "display_data"
    },
    {
     "data": {
      "text/plain": [
       "0"
      ]
     },
     "metadata": {},
     "output_type": "display_data"
    }
   ],
   "source": [
    "# Информация о телефонных услугах:\n",
    "analize(phone)"
   ]
  },
  {
   "cell_type": "markdown",
   "id": "48f1fe2c",
   "metadata": {},
   "source": [
    "<div class=\"alert alert-success\" style=\"border-color: green; border-radius: 5px\">\n",
    "    <p><u><b>✅ КОММЕНТАРИЙ РЕВЬЮЕРА</b></u></p>И на месте первичный аналитический осмотр. Процедура обыденная. Но позволяет сгенерировать много идей для моедлирования. Правда часть инфо не захотела выводиться.. посмотри, пожалуйста."
   ]
  },
  {
   "cell_type": "markdown",
   "id": "33974c4a",
   "metadata": {},
   "source": [
    "<div class=\"alert alert-block alert-warning\">\n",
    "<b>Комментарий студента:</b> Добавил обновление pandas в импорты.\n",
    "</div>"
   ]
  },
  {
   "cell_type": "markdown",
   "id": "1b029532",
   "metadata": {},
   "source": [
    "<div class=\"alert alert-success\" style=\"border-color: green; border-radius: 5px\">\n",
    "    <p><u><b>✅ КОММЕНТАРИЙ РЕВЬЮЕРА 2</b></u></p>\n",
    "    <p>👍</p>\n",
    "</div>"
   ]
  },
  {
   "cell_type": "markdown",
   "id": "81db93c0",
   "metadata": {},
   "source": [
    "### Объединение датасетов"
   ]
  },
  {
   "cell_type": "code",
   "execution_count": 8,
   "id": "9aba9a84",
   "metadata": {},
   "outputs": [],
   "source": [
    "# Объединим все датасеты в единый через Full Join, чтобы сохранить всю информацию:\n",
    "df = pd.merge(contract,personal,on='customerID',how='outer')\n",
    "df = pd.merge(df,internet,on='customerID',how='outer')\n",
    "df = pd.merge(df,phone,on='customerID',how='outer')"
   ]
  },
  {
   "cell_type": "code",
   "execution_count": 9,
   "id": "0151231d",
   "metadata": {
    "scrolled": false
   },
   "outputs": [
    {
     "data": {
      "text/html": [
       "<div>\n",
       "<style scoped>\n",
       "    .dataframe tbody tr th:only-of-type {\n",
       "        vertical-align: middle;\n",
       "    }\n",
       "\n",
       "    .dataframe tbody tr th {\n",
       "        vertical-align: top;\n",
       "    }\n",
       "\n",
       "    .dataframe thead th {\n",
       "        text-align: right;\n",
       "    }\n",
       "</style>\n",
       "<table border=\"1\" class=\"dataframe\">\n",
       "  <thead>\n",
       "    <tr style=\"text-align: right;\">\n",
       "      <th></th>\n",
       "      <th>customerID</th>\n",
       "      <th>BeginDate</th>\n",
       "      <th>EndDate</th>\n",
       "      <th>Type</th>\n",
       "      <th>PaperlessBilling</th>\n",
       "      <th>PaymentMethod</th>\n",
       "      <th>MonthlyCharges</th>\n",
       "      <th>TotalCharges</th>\n",
       "      <th>gender</th>\n",
       "      <th>SeniorCitizen</th>\n",
       "      <th>Partner</th>\n",
       "      <th>Dependents</th>\n",
       "      <th>InternetService</th>\n",
       "      <th>OnlineSecurity</th>\n",
       "      <th>OnlineBackup</th>\n",
       "      <th>DeviceProtection</th>\n",
       "      <th>TechSupport</th>\n",
       "      <th>StreamingTV</th>\n",
       "      <th>StreamingMovies</th>\n",
       "      <th>MultipleLines</th>\n",
       "    </tr>\n",
       "  </thead>\n",
       "  <tbody>\n",
       "    <tr>\n",
       "      <th>0</th>\n",
       "      <td>7590-VHVEG</td>\n",
       "      <td>2020-01-01</td>\n",
       "      <td>No</td>\n",
       "      <td>Month-to-month</td>\n",
       "      <td>Yes</td>\n",
       "      <td>Electronic check</td>\n",
       "      <td>29.85</td>\n",
       "      <td>29.85</td>\n",
       "      <td>Female</td>\n",
       "      <td>0</td>\n",
       "      <td>Yes</td>\n",
       "      <td>No</td>\n",
       "      <td>DSL</td>\n",
       "      <td>No</td>\n",
       "      <td>Yes</td>\n",
       "      <td>No</td>\n",
       "      <td>No</td>\n",
       "      <td>No</td>\n",
       "      <td>No</td>\n",
       "      <td>NaN</td>\n",
       "    </tr>\n",
       "    <tr>\n",
       "      <th>1</th>\n",
       "      <td>5575-GNVDE</td>\n",
       "      <td>2017-04-01</td>\n",
       "      <td>No</td>\n",
       "      <td>One year</td>\n",
       "      <td>No</td>\n",
       "      <td>Mailed check</td>\n",
       "      <td>56.95</td>\n",
       "      <td>1889.5</td>\n",
       "      <td>Male</td>\n",
       "      <td>0</td>\n",
       "      <td>No</td>\n",
       "      <td>No</td>\n",
       "      <td>DSL</td>\n",
       "      <td>Yes</td>\n",
       "      <td>No</td>\n",
       "      <td>Yes</td>\n",
       "      <td>No</td>\n",
       "      <td>No</td>\n",
       "      <td>No</td>\n",
       "      <td>No</td>\n",
       "    </tr>\n",
       "    <tr>\n",
       "      <th>2</th>\n",
       "      <td>3668-QPYBK</td>\n",
       "      <td>2019-10-01</td>\n",
       "      <td>2019-12-01 00:00:00</td>\n",
       "      <td>Month-to-month</td>\n",
       "      <td>Yes</td>\n",
       "      <td>Mailed check</td>\n",
       "      <td>53.85</td>\n",
       "      <td>108.15</td>\n",
       "      <td>Male</td>\n",
       "      <td>0</td>\n",
       "      <td>No</td>\n",
       "      <td>No</td>\n",
       "      <td>DSL</td>\n",
       "      <td>Yes</td>\n",
       "      <td>Yes</td>\n",
       "      <td>No</td>\n",
       "      <td>No</td>\n",
       "      <td>No</td>\n",
       "      <td>No</td>\n",
       "      <td>No</td>\n",
       "    </tr>\n",
       "    <tr>\n",
       "      <th>3</th>\n",
       "      <td>7795-CFOCW</td>\n",
       "      <td>2016-05-01</td>\n",
       "      <td>No</td>\n",
       "      <td>One year</td>\n",
       "      <td>No</td>\n",
       "      <td>Bank transfer (automatic)</td>\n",
       "      <td>42.30</td>\n",
       "      <td>1840.75</td>\n",
       "      <td>Male</td>\n",
       "      <td>0</td>\n",
       "      <td>No</td>\n",
       "      <td>No</td>\n",
       "      <td>DSL</td>\n",
       "      <td>Yes</td>\n",
       "      <td>No</td>\n",
       "      <td>Yes</td>\n",
       "      <td>Yes</td>\n",
       "      <td>No</td>\n",
       "      <td>No</td>\n",
       "      <td>NaN</td>\n",
       "    </tr>\n",
       "    <tr>\n",
       "      <th>4</th>\n",
       "      <td>9237-HQITU</td>\n",
       "      <td>2019-09-01</td>\n",
       "      <td>2019-11-01 00:00:00</td>\n",
       "      <td>Month-to-month</td>\n",
       "      <td>Yes</td>\n",
       "      <td>Electronic check</td>\n",
       "      <td>70.70</td>\n",
       "      <td>151.65</td>\n",
       "      <td>Female</td>\n",
       "      <td>0</td>\n",
       "      <td>No</td>\n",
       "      <td>No</td>\n",
       "      <td>Fiber optic</td>\n",
       "      <td>No</td>\n",
       "      <td>No</td>\n",
       "      <td>No</td>\n",
       "      <td>No</td>\n",
       "      <td>No</td>\n",
       "      <td>No</td>\n",
       "      <td>No</td>\n",
       "    </tr>\n",
       "    <tr>\n",
       "      <th>5</th>\n",
       "      <td>9305-CDSKC</td>\n",
       "      <td>2019-03-01</td>\n",
       "      <td>2019-11-01 00:00:00</td>\n",
       "      <td>Month-to-month</td>\n",
       "      <td>Yes</td>\n",
       "      <td>Electronic check</td>\n",
       "      <td>99.65</td>\n",
       "      <td>820.5</td>\n",
       "      <td>Female</td>\n",
       "      <td>0</td>\n",
       "      <td>No</td>\n",
       "      <td>No</td>\n",
       "      <td>Fiber optic</td>\n",
       "      <td>No</td>\n",
       "      <td>No</td>\n",
       "      <td>Yes</td>\n",
       "      <td>No</td>\n",
       "      <td>Yes</td>\n",
       "      <td>Yes</td>\n",
       "      <td>Yes</td>\n",
       "    </tr>\n",
       "    <tr>\n",
       "      <th>6</th>\n",
       "      <td>1452-KIOVK</td>\n",
       "      <td>2018-04-01</td>\n",
       "      <td>No</td>\n",
       "      <td>Month-to-month</td>\n",
       "      <td>Yes</td>\n",
       "      <td>Credit card (automatic)</td>\n",
       "      <td>89.10</td>\n",
       "      <td>1949.4</td>\n",
       "      <td>Male</td>\n",
       "      <td>0</td>\n",
       "      <td>No</td>\n",
       "      <td>Yes</td>\n",
       "      <td>Fiber optic</td>\n",
       "      <td>No</td>\n",
       "      <td>Yes</td>\n",
       "      <td>No</td>\n",
       "      <td>No</td>\n",
       "      <td>Yes</td>\n",
       "      <td>No</td>\n",
       "      <td>Yes</td>\n",
       "    </tr>\n",
       "    <tr>\n",
       "      <th>7</th>\n",
       "      <td>6713-OKOMC</td>\n",
       "      <td>2019-04-01</td>\n",
       "      <td>No</td>\n",
       "      <td>Month-to-month</td>\n",
       "      <td>No</td>\n",
       "      <td>Mailed check</td>\n",
       "      <td>29.75</td>\n",
       "      <td>301.9</td>\n",
       "      <td>Female</td>\n",
       "      <td>0</td>\n",
       "      <td>No</td>\n",
       "      <td>No</td>\n",
       "      <td>DSL</td>\n",
       "      <td>Yes</td>\n",
       "      <td>No</td>\n",
       "      <td>No</td>\n",
       "      <td>No</td>\n",
       "      <td>No</td>\n",
       "      <td>No</td>\n",
       "      <td>NaN</td>\n",
       "    </tr>\n",
       "    <tr>\n",
       "      <th>8</th>\n",
       "      <td>7892-POOKP</td>\n",
       "      <td>2017-07-01</td>\n",
       "      <td>2019-11-01 00:00:00</td>\n",
       "      <td>Month-to-month</td>\n",
       "      <td>Yes</td>\n",
       "      <td>Electronic check</td>\n",
       "      <td>104.80</td>\n",
       "      <td>3046.05</td>\n",
       "      <td>Female</td>\n",
       "      <td>0</td>\n",
       "      <td>Yes</td>\n",
       "      <td>No</td>\n",
       "      <td>Fiber optic</td>\n",
       "      <td>No</td>\n",
       "      <td>No</td>\n",
       "      <td>Yes</td>\n",
       "      <td>Yes</td>\n",
       "      <td>Yes</td>\n",
       "      <td>Yes</td>\n",
       "      <td>Yes</td>\n",
       "    </tr>\n",
       "    <tr>\n",
       "      <th>9</th>\n",
       "      <td>6388-TABGU</td>\n",
       "      <td>2014-12-01</td>\n",
       "      <td>No</td>\n",
       "      <td>One year</td>\n",
       "      <td>No</td>\n",
       "      <td>Bank transfer (automatic)</td>\n",
       "      <td>56.15</td>\n",
       "      <td>3487.95</td>\n",
       "      <td>Male</td>\n",
       "      <td>0</td>\n",
       "      <td>No</td>\n",
       "      <td>Yes</td>\n",
       "      <td>DSL</td>\n",
       "      <td>Yes</td>\n",
       "      <td>Yes</td>\n",
       "      <td>No</td>\n",
       "      <td>No</td>\n",
       "      <td>No</td>\n",
       "      <td>No</td>\n",
       "      <td>No</td>\n",
       "    </tr>\n",
       "  </tbody>\n",
       "</table>\n",
       "</div>"
      ],
      "text/plain": [
       "   customerID   BeginDate              EndDate            Type  \\\n",
       "0  7590-VHVEG  2020-01-01                   No  Month-to-month   \n",
       "1  5575-GNVDE  2017-04-01                   No        One year   \n",
       "2  3668-QPYBK  2019-10-01  2019-12-01 00:00:00  Month-to-month   \n",
       "3  7795-CFOCW  2016-05-01                   No        One year   \n",
       "4  9237-HQITU  2019-09-01  2019-11-01 00:00:00  Month-to-month   \n",
       "5  9305-CDSKC  2019-03-01  2019-11-01 00:00:00  Month-to-month   \n",
       "6  1452-KIOVK  2018-04-01                   No  Month-to-month   \n",
       "7  6713-OKOMC  2019-04-01                   No  Month-to-month   \n",
       "8  7892-POOKP  2017-07-01  2019-11-01 00:00:00  Month-to-month   \n",
       "9  6388-TABGU  2014-12-01                   No        One year   \n",
       "\n",
       "  PaperlessBilling              PaymentMethod  MonthlyCharges TotalCharges  \\\n",
       "0              Yes           Electronic check           29.85        29.85   \n",
       "1               No               Mailed check           56.95       1889.5   \n",
       "2              Yes               Mailed check           53.85       108.15   \n",
       "3               No  Bank transfer (automatic)           42.30      1840.75   \n",
       "4              Yes           Electronic check           70.70       151.65   \n",
       "5              Yes           Electronic check           99.65        820.5   \n",
       "6              Yes    Credit card (automatic)           89.10       1949.4   \n",
       "7               No               Mailed check           29.75        301.9   \n",
       "8              Yes           Electronic check          104.80      3046.05   \n",
       "9               No  Bank transfer (automatic)           56.15      3487.95   \n",
       "\n",
       "   gender  SeniorCitizen Partner Dependents InternetService OnlineSecurity  \\\n",
       "0  Female              0     Yes         No             DSL             No   \n",
       "1    Male              0      No         No             DSL            Yes   \n",
       "2    Male              0      No         No             DSL            Yes   \n",
       "3    Male              0      No         No             DSL            Yes   \n",
       "4  Female              0      No         No     Fiber optic             No   \n",
       "5  Female              0      No         No     Fiber optic             No   \n",
       "6    Male              0      No        Yes     Fiber optic             No   \n",
       "7  Female              0      No         No             DSL            Yes   \n",
       "8  Female              0     Yes         No     Fiber optic             No   \n",
       "9    Male              0      No        Yes             DSL            Yes   \n",
       "\n",
       "  OnlineBackup DeviceProtection TechSupport StreamingTV StreamingMovies  \\\n",
       "0          Yes               No          No          No              No   \n",
       "1           No              Yes          No          No              No   \n",
       "2          Yes               No          No          No              No   \n",
       "3           No              Yes         Yes          No              No   \n",
       "4           No               No          No          No              No   \n",
       "5           No              Yes          No         Yes             Yes   \n",
       "6          Yes               No          No         Yes              No   \n",
       "7           No               No          No          No              No   \n",
       "8           No              Yes         Yes         Yes             Yes   \n",
       "9          Yes               No          No          No              No   \n",
       "\n",
       "  MultipleLines  \n",
       "0           NaN  \n",
       "1            No  \n",
       "2            No  \n",
       "3           NaN  \n",
       "4            No  \n",
       "5           Yes  \n",
       "6           Yes  \n",
       "7           NaN  \n",
       "8           Yes  \n",
       "9            No  "
      ]
     },
     "metadata": {},
     "output_type": "display_data"
    },
    {
     "name": "stdout",
     "output_type": "stream",
     "text": [
      "<class 'pandas.core.frame.DataFrame'>\n",
      "Int64Index: 7043 entries, 0 to 7042\n",
      "Data columns (total 20 columns):\n",
      " #   Column            Non-Null Count  Dtype  \n",
      "---  ------            --------------  -----  \n",
      " 0   customerID        7043 non-null   object \n",
      " 1   BeginDate         7043 non-null   object \n",
      " 2   EndDate           7043 non-null   object \n",
      " 3   Type              7043 non-null   object \n",
      " 4   PaperlessBilling  7043 non-null   object \n",
      " 5   PaymentMethod     7043 non-null   object \n",
      " 6   MonthlyCharges    7043 non-null   float64\n",
      " 7   TotalCharges      7043 non-null   object \n",
      " 8   gender            7043 non-null   object \n",
      " 9   SeniorCitizen     7043 non-null   int64  \n",
      " 10  Partner           7043 non-null   object \n",
      " 11  Dependents        7043 non-null   object \n",
      " 12  InternetService   5517 non-null   object \n",
      " 13  OnlineSecurity    5517 non-null   object \n",
      " 14  OnlineBackup      5517 non-null   object \n",
      " 15  DeviceProtection  5517 non-null   object \n",
      " 16  TechSupport       5517 non-null   object \n",
      " 17  StreamingTV       5517 non-null   object \n",
      " 18  StreamingMovies   5517 non-null   object \n",
      " 19  MultipleLines     6361 non-null   object \n",
      "dtypes: float64(1), int64(1), object(18)\n",
      "memory usage: 1.1+ MB\n"
     ]
    },
    {
     "data": {
      "text/plain": [
       "None"
      ]
     },
     "metadata": {},
     "output_type": "display_data"
    },
    {
     "data": {
      "text/html": [
       "<div>\n",
       "<style scoped>\n",
       "    .dataframe tbody tr th:only-of-type {\n",
       "        vertical-align: middle;\n",
       "    }\n",
       "\n",
       "    .dataframe tbody tr th {\n",
       "        vertical-align: top;\n",
       "    }\n",
       "\n",
       "    .dataframe thead th {\n",
       "        text-align: right;\n",
       "    }\n",
       "</style>\n",
       "<table border=\"1\" class=\"dataframe\">\n",
       "  <thead>\n",
       "    <tr style=\"text-align: right;\">\n",
       "      <th></th>\n",
       "      <th>MonthlyCharges</th>\n",
       "      <th>SeniorCitizen</th>\n",
       "    </tr>\n",
       "  </thead>\n",
       "  <tbody>\n",
       "    <tr>\n",
       "      <th>count</th>\n",
       "      <td>7,043.00</td>\n",
       "      <td>7,043.00</td>\n",
       "    </tr>\n",
       "    <tr>\n",
       "      <th>mean</th>\n",
       "      <td>64.76</td>\n",
       "      <td>0.16</td>\n",
       "    </tr>\n",
       "    <tr>\n",
       "      <th>std</th>\n",
       "      <td>30.09</td>\n",
       "      <td>0.37</td>\n",
       "    </tr>\n",
       "    <tr>\n",
       "      <th>min</th>\n",
       "      <td>18.25</td>\n",
       "      <td>0.00</td>\n",
       "    </tr>\n",
       "    <tr>\n",
       "      <th>25%</th>\n",
       "      <td>35.50</td>\n",
       "      <td>0.00</td>\n",
       "    </tr>\n",
       "    <tr>\n",
       "      <th>50%</th>\n",
       "      <td>70.35</td>\n",
       "      <td>0.00</td>\n",
       "    </tr>\n",
       "    <tr>\n",
       "      <th>75%</th>\n",
       "      <td>89.85</td>\n",
       "      <td>0.00</td>\n",
       "    </tr>\n",
       "    <tr>\n",
       "      <th>max</th>\n",
       "      <td>118.75</td>\n",
       "      <td>1.00</td>\n",
       "    </tr>\n",
       "  </tbody>\n",
       "</table>\n",
       "</div>"
      ],
      "text/plain": [
       "       MonthlyCharges  SeniorCitizen\n",
       "count        7,043.00       7,043.00\n",
       "mean            64.76           0.16\n",
       "std             30.09           0.37\n",
       "min             18.25           0.00\n",
       "25%             35.50           0.00\n",
       "50%             70.35           0.00\n",
       "75%             89.85           0.00\n",
       "max            118.75           1.00"
      ]
     },
     "metadata": {},
     "output_type": "display_data"
    },
    {
     "data": {
      "text/plain": [
       "'Число пропусков:'"
      ]
     },
     "metadata": {},
     "output_type": "display_data"
    },
    {
     "data": {
      "text/plain": [
       "customerID             0\n",
       "BeginDate              0\n",
       "EndDate                0\n",
       "Type                   0\n",
       "PaperlessBilling       0\n",
       "PaymentMethod          0\n",
       "MonthlyCharges         0\n",
       "TotalCharges           0\n",
       "gender                 0\n",
       "SeniorCitizen          0\n",
       "Partner                0\n",
       "Dependents             0\n",
       "InternetService     1526\n",
       "OnlineSecurity      1526\n",
       "OnlineBackup        1526\n",
       "DeviceProtection    1526\n",
       "TechSupport         1526\n",
       "StreamingTV         1526\n",
       "StreamingMovies     1526\n",
       "MultipleLines        682\n",
       "dtype: int64"
      ]
     },
     "metadata": {},
     "output_type": "display_data"
    },
    {
     "data": {
      "text/plain": [
       "'Число дубликатов:'"
      ]
     },
     "metadata": {},
     "output_type": "display_data"
    },
    {
     "data": {
      "text/plain": [
       "0"
      ]
     },
     "metadata": {},
     "output_type": "display_data"
    }
   ],
   "source": [
    "analize(df)"
   ]
  },
  {
   "cell_type": "markdown",
   "id": "2e314078",
   "metadata": {},
   "source": [
    "<div class=\"alert alert-success\" style=\"border-color: green; border-radius: 5px\">\n",
    "    <p><u><b>✅ КОММЕНТАРИЙ РЕВЬЮЕРА</b></u></p>есть контакт)"
   ]
  },
  {
   "cell_type": "markdown",
   "id": "5e85cef5",
   "metadata": {},
   "source": [
    "### Обработка данных"
   ]
  },
  {
   "cell_type": "code",
   "execution_count": 10,
   "id": "5aa15b33",
   "metadata": {},
   "outputs": [],
   "source": [
    "# Переведем значение Gender в camel вид:\n",
    "df.rename(columns = {'gender' : 'Gender'}, inplace = True)"
   ]
  },
  {
   "cell_type": "code",
   "execution_count": 11,
   "id": "d93cf054",
   "metadata": {},
   "outputs": [
    {
     "data": {
      "text/html": [
       "<div>\n",
       "<style scoped>\n",
       "    .dataframe tbody tr th:only-of-type {\n",
       "        vertical-align: middle;\n",
       "    }\n",
       "\n",
       "    .dataframe tbody tr th {\n",
       "        vertical-align: top;\n",
       "    }\n",
       "\n",
       "    .dataframe thead th {\n",
       "        text-align: right;\n",
       "    }\n",
       "</style>\n",
       "<table border=\"1\" class=\"dataframe\">\n",
       "  <thead>\n",
       "    <tr style=\"text-align: right;\">\n",
       "      <th></th>\n",
       "      <th>customerID</th>\n",
       "      <th>BeginDate</th>\n",
       "      <th>EndDate</th>\n",
       "      <th>Type</th>\n",
       "      <th>PaperlessBilling</th>\n",
       "      <th>PaymentMethod</th>\n",
       "      <th>MonthlyCharges</th>\n",
       "      <th>TotalCharges</th>\n",
       "      <th>Gender</th>\n",
       "      <th>SeniorCitizen</th>\n",
       "      <th>Partner</th>\n",
       "      <th>Dependents</th>\n",
       "      <th>InternetService</th>\n",
       "      <th>OnlineSecurity</th>\n",
       "      <th>OnlineBackup</th>\n",
       "      <th>DeviceProtection</th>\n",
       "      <th>TechSupport</th>\n",
       "      <th>StreamingTV</th>\n",
       "      <th>StreamingMovies</th>\n",
       "      <th>MultipleLines</th>\n",
       "    </tr>\n",
       "  </thead>\n",
       "  <tbody>\n",
       "    <tr>\n",
       "      <th>488</th>\n",
       "      <td>4472-LVYGI</td>\n",
       "      <td>2020-02-01</td>\n",
       "      <td>No</td>\n",
       "      <td>Two year</td>\n",
       "      <td>Yes</td>\n",
       "      <td>Bank transfer (automatic)</td>\n",
       "      <td>52.55</td>\n",
       "      <td></td>\n",
       "      <td>Female</td>\n",
       "      <td>0</td>\n",
       "      <td>Yes</td>\n",
       "      <td>Yes</td>\n",
       "      <td>DSL</td>\n",
       "      <td>Yes</td>\n",
       "      <td>No</td>\n",
       "      <td>Yes</td>\n",
       "      <td>Yes</td>\n",
       "      <td>Yes</td>\n",
       "      <td>No</td>\n",
       "      <td>NaN</td>\n",
       "    </tr>\n",
       "    <tr>\n",
       "      <th>753</th>\n",
       "      <td>3115-CZMZD</td>\n",
       "      <td>2020-02-01</td>\n",
       "      <td>No</td>\n",
       "      <td>Two year</td>\n",
       "      <td>No</td>\n",
       "      <td>Mailed check</td>\n",
       "      <td>20.25</td>\n",
       "      <td></td>\n",
       "      <td>Male</td>\n",
       "      <td>0</td>\n",
       "      <td>No</td>\n",
       "      <td>Yes</td>\n",
       "      <td>NaN</td>\n",
       "      <td>NaN</td>\n",
       "      <td>NaN</td>\n",
       "      <td>NaN</td>\n",
       "      <td>NaN</td>\n",
       "      <td>NaN</td>\n",
       "      <td>NaN</td>\n",
       "      <td>No</td>\n",
       "    </tr>\n",
       "    <tr>\n",
       "      <th>936</th>\n",
       "      <td>5709-LVOEQ</td>\n",
       "      <td>2020-02-01</td>\n",
       "      <td>No</td>\n",
       "      <td>Two year</td>\n",
       "      <td>No</td>\n",
       "      <td>Mailed check</td>\n",
       "      <td>80.85</td>\n",
       "      <td></td>\n",
       "      <td>Female</td>\n",
       "      <td>0</td>\n",
       "      <td>Yes</td>\n",
       "      <td>Yes</td>\n",
       "      <td>DSL</td>\n",
       "      <td>Yes</td>\n",
       "      <td>Yes</td>\n",
       "      <td>Yes</td>\n",
       "      <td>No</td>\n",
       "      <td>Yes</td>\n",
       "      <td>Yes</td>\n",
       "      <td>No</td>\n",
       "    </tr>\n",
       "    <tr>\n",
       "      <th>1082</th>\n",
       "      <td>4367-NUYAO</td>\n",
       "      <td>2020-02-01</td>\n",
       "      <td>No</td>\n",
       "      <td>Two year</td>\n",
       "      <td>No</td>\n",
       "      <td>Mailed check</td>\n",
       "      <td>25.75</td>\n",
       "      <td></td>\n",
       "      <td>Male</td>\n",
       "      <td>0</td>\n",
       "      <td>Yes</td>\n",
       "      <td>Yes</td>\n",
       "      <td>NaN</td>\n",
       "      <td>NaN</td>\n",
       "      <td>NaN</td>\n",
       "      <td>NaN</td>\n",
       "      <td>NaN</td>\n",
       "      <td>NaN</td>\n",
       "      <td>NaN</td>\n",
       "      <td>Yes</td>\n",
       "    </tr>\n",
       "    <tr>\n",
       "      <th>1340</th>\n",
       "      <td>1371-DWPAZ</td>\n",
       "      <td>2020-02-01</td>\n",
       "      <td>No</td>\n",
       "      <td>Two year</td>\n",
       "      <td>No</td>\n",
       "      <td>Credit card (automatic)</td>\n",
       "      <td>56.05</td>\n",
       "      <td></td>\n",
       "      <td>Female</td>\n",
       "      <td>0</td>\n",
       "      <td>Yes</td>\n",
       "      <td>Yes</td>\n",
       "      <td>DSL</td>\n",
       "      <td>Yes</td>\n",
       "      <td>Yes</td>\n",
       "      <td>Yes</td>\n",
       "      <td>Yes</td>\n",
       "      <td>Yes</td>\n",
       "      <td>No</td>\n",
       "      <td>NaN</td>\n",
       "    </tr>\n",
       "    <tr>\n",
       "      <th>3331</th>\n",
       "      <td>7644-OMVMY</td>\n",
       "      <td>2020-02-01</td>\n",
       "      <td>No</td>\n",
       "      <td>Two year</td>\n",
       "      <td>No</td>\n",
       "      <td>Mailed check</td>\n",
       "      <td>19.85</td>\n",
       "      <td></td>\n",
       "      <td>Male</td>\n",
       "      <td>0</td>\n",
       "      <td>Yes</td>\n",
       "      <td>Yes</td>\n",
       "      <td>NaN</td>\n",
       "      <td>NaN</td>\n",
       "      <td>NaN</td>\n",
       "      <td>NaN</td>\n",
       "      <td>NaN</td>\n",
       "      <td>NaN</td>\n",
       "      <td>NaN</td>\n",
       "      <td>No</td>\n",
       "    </tr>\n",
       "    <tr>\n",
       "      <th>3826</th>\n",
       "      <td>3213-VVOLG</td>\n",
       "      <td>2020-02-01</td>\n",
       "      <td>No</td>\n",
       "      <td>Two year</td>\n",
       "      <td>No</td>\n",
       "      <td>Mailed check</td>\n",
       "      <td>25.35</td>\n",
       "      <td></td>\n",
       "      <td>Male</td>\n",
       "      <td>0</td>\n",
       "      <td>Yes</td>\n",
       "      <td>Yes</td>\n",
       "      <td>NaN</td>\n",
       "      <td>NaN</td>\n",
       "      <td>NaN</td>\n",
       "      <td>NaN</td>\n",
       "      <td>NaN</td>\n",
       "      <td>NaN</td>\n",
       "      <td>NaN</td>\n",
       "      <td>Yes</td>\n",
       "    </tr>\n",
       "    <tr>\n",
       "      <th>4380</th>\n",
       "      <td>2520-SGTTA</td>\n",
       "      <td>2020-02-01</td>\n",
       "      <td>No</td>\n",
       "      <td>Two year</td>\n",
       "      <td>No</td>\n",
       "      <td>Mailed check</td>\n",
       "      <td>20.00</td>\n",
       "      <td></td>\n",
       "      <td>Female</td>\n",
       "      <td>0</td>\n",
       "      <td>Yes</td>\n",
       "      <td>Yes</td>\n",
       "      <td>NaN</td>\n",
       "      <td>NaN</td>\n",
       "      <td>NaN</td>\n",
       "      <td>NaN</td>\n",
       "      <td>NaN</td>\n",
       "      <td>NaN</td>\n",
       "      <td>NaN</td>\n",
       "      <td>No</td>\n",
       "    </tr>\n",
       "    <tr>\n",
       "      <th>5218</th>\n",
       "      <td>2923-ARZLG</td>\n",
       "      <td>2020-02-01</td>\n",
       "      <td>No</td>\n",
       "      <td>One year</td>\n",
       "      <td>Yes</td>\n",
       "      <td>Mailed check</td>\n",
       "      <td>19.70</td>\n",
       "      <td></td>\n",
       "      <td>Male</td>\n",
       "      <td>0</td>\n",
       "      <td>Yes</td>\n",
       "      <td>Yes</td>\n",
       "      <td>NaN</td>\n",
       "      <td>NaN</td>\n",
       "      <td>NaN</td>\n",
       "      <td>NaN</td>\n",
       "      <td>NaN</td>\n",
       "      <td>NaN</td>\n",
       "      <td>NaN</td>\n",
       "      <td>No</td>\n",
       "    </tr>\n",
       "    <tr>\n",
       "      <th>6670</th>\n",
       "      <td>4075-WKNIU</td>\n",
       "      <td>2020-02-01</td>\n",
       "      <td>No</td>\n",
       "      <td>Two year</td>\n",
       "      <td>No</td>\n",
       "      <td>Mailed check</td>\n",
       "      <td>73.35</td>\n",
       "      <td></td>\n",
       "      <td>Female</td>\n",
       "      <td>0</td>\n",
       "      <td>Yes</td>\n",
       "      <td>Yes</td>\n",
       "      <td>DSL</td>\n",
       "      <td>No</td>\n",
       "      <td>Yes</td>\n",
       "      <td>Yes</td>\n",
       "      <td>Yes</td>\n",
       "      <td>Yes</td>\n",
       "      <td>No</td>\n",
       "      <td>Yes</td>\n",
       "    </tr>\n",
       "    <tr>\n",
       "      <th>6754</th>\n",
       "      <td>2775-SEFEE</td>\n",
       "      <td>2020-02-01</td>\n",
       "      <td>No</td>\n",
       "      <td>Two year</td>\n",
       "      <td>Yes</td>\n",
       "      <td>Bank transfer (automatic)</td>\n",
       "      <td>61.90</td>\n",
       "      <td></td>\n",
       "      <td>Male</td>\n",
       "      <td>0</td>\n",
       "      <td>No</td>\n",
       "      <td>Yes</td>\n",
       "      <td>DSL</td>\n",
       "      <td>Yes</td>\n",
       "      <td>Yes</td>\n",
       "      <td>No</td>\n",
       "      <td>Yes</td>\n",
       "      <td>No</td>\n",
       "      <td>No</td>\n",
       "      <td>Yes</td>\n",
       "    </tr>\n",
       "  </tbody>\n",
       "</table>\n",
       "</div>"
      ],
      "text/plain": [
       "      customerID   BeginDate EndDate      Type PaperlessBilling  \\\n",
       "488   4472-LVYGI  2020-02-01      No  Two year              Yes   \n",
       "753   3115-CZMZD  2020-02-01      No  Two year               No   \n",
       "936   5709-LVOEQ  2020-02-01      No  Two year               No   \n",
       "1082  4367-NUYAO  2020-02-01      No  Two year               No   \n",
       "1340  1371-DWPAZ  2020-02-01      No  Two year               No   \n",
       "3331  7644-OMVMY  2020-02-01      No  Two year               No   \n",
       "3826  3213-VVOLG  2020-02-01      No  Two year               No   \n",
       "4380  2520-SGTTA  2020-02-01      No  Two year               No   \n",
       "5218  2923-ARZLG  2020-02-01      No  One year              Yes   \n",
       "6670  4075-WKNIU  2020-02-01      No  Two year               No   \n",
       "6754  2775-SEFEE  2020-02-01      No  Two year              Yes   \n",
       "\n",
       "                  PaymentMethod  MonthlyCharges TotalCharges  Gender  \\\n",
       "488   Bank transfer (automatic)           52.55               Female   \n",
       "753                Mailed check           20.25                 Male   \n",
       "936                Mailed check           80.85               Female   \n",
       "1082               Mailed check           25.75                 Male   \n",
       "1340    Credit card (automatic)           56.05               Female   \n",
       "3331               Mailed check           19.85                 Male   \n",
       "3826               Mailed check           25.35                 Male   \n",
       "4380               Mailed check           20.00               Female   \n",
       "5218               Mailed check           19.70                 Male   \n",
       "6670               Mailed check           73.35               Female   \n",
       "6754  Bank transfer (automatic)           61.90                 Male   \n",
       "\n",
       "      SeniorCitizen Partner Dependents InternetService OnlineSecurity  \\\n",
       "488               0     Yes        Yes             DSL            Yes   \n",
       "753               0      No        Yes             NaN            NaN   \n",
       "936               0     Yes        Yes             DSL            Yes   \n",
       "1082              0     Yes        Yes             NaN            NaN   \n",
       "1340              0     Yes        Yes             DSL            Yes   \n",
       "3331              0     Yes        Yes             NaN            NaN   \n",
       "3826              0     Yes        Yes             NaN            NaN   \n",
       "4380              0     Yes        Yes             NaN            NaN   \n",
       "5218              0     Yes        Yes             NaN            NaN   \n",
       "6670              0     Yes        Yes             DSL             No   \n",
       "6754              0      No        Yes             DSL            Yes   \n",
       "\n",
       "     OnlineBackup DeviceProtection TechSupport StreamingTV StreamingMovies  \\\n",
       "488            No              Yes         Yes         Yes              No   \n",
       "753           NaN              NaN         NaN         NaN             NaN   \n",
       "936           Yes              Yes          No         Yes             Yes   \n",
       "1082          NaN              NaN         NaN         NaN             NaN   \n",
       "1340          Yes              Yes         Yes         Yes              No   \n",
       "3331          NaN              NaN         NaN         NaN             NaN   \n",
       "3826          NaN              NaN         NaN         NaN             NaN   \n",
       "4380          NaN              NaN         NaN         NaN             NaN   \n",
       "5218          NaN              NaN         NaN         NaN             NaN   \n",
       "6670          Yes              Yes         Yes         Yes              No   \n",
       "6754          Yes               No         Yes          No              No   \n",
       "\n",
       "     MultipleLines  \n",
       "488            NaN  \n",
       "753             No  \n",
       "936             No  \n",
       "1082           Yes  \n",
       "1340           NaN  \n",
       "3331            No  \n",
       "3826           Yes  \n",
       "4380            No  \n",
       "5218            No  \n",
       "6670           Yes  \n",
       "6754           Yes  "
      ]
     },
     "execution_count": 11,
     "metadata": {},
     "output_type": "execute_result"
    }
   ],
   "source": [
    "# Выведем пропуски в TotalCharges:\n",
    "df.loc[df['TotalCharges'] == ' ']"
   ]
  },
  {
   "cell_type": "code",
   "execution_count": 12,
   "id": "ec2e9cb9",
   "metadata": {},
   "outputs": [],
   "source": [
    "# Изменим тип данных в стоблце TotalCharges на float:\n",
    "df['TotalCharges'] = pd.to_numeric(df['TotalCharges'], errors = 'coerce')"
   ]
  },
  {
   "cell_type": "code",
   "execution_count": 13,
   "id": "2d49c4ad",
   "metadata": {
    "scrolled": true
   },
   "outputs": [
    {
     "data": {
      "text/plain": [
       "['customerID',\n",
       " 'BeginDate',\n",
       " 'EndDate',\n",
       " 'Type',\n",
       " 'PaperlessBilling',\n",
       " 'PaymentMethod',\n",
       " 'Gender',\n",
       " 'Partner',\n",
       " 'Dependents',\n",
       " 'InternetService',\n",
       " 'OnlineSecurity',\n",
       " 'OnlineBackup',\n",
       " 'DeviceProtection',\n",
       " 'TechSupport',\n",
       " 'StreamingTV',\n",
       " 'StreamingMovies',\n",
       " 'MultipleLines']"
      ]
     },
     "execution_count": 13,
     "metadata": {},
     "output_type": "execute_result"
    }
   ],
   "source": [
    "# Отберем категориальные признаки для анализа:\n",
    "cat_features = identify_nominal_columns(df)\n",
    "cat_features"
   ]
  },
  {
   "cell_type": "code",
   "execution_count": 14,
   "id": "99e0b1c4",
   "metadata": {
    "scrolled": true
   },
   "outputs": [
    {
     "name": "stdout",
     "output_type": "stream",
     "text": [
      "\u001b[1mBeginDate\u001b[0m\n",
      "2014-02-01    366\n",
      "2019-10-01    237\n",
      "2019-11-01    237\n",
      "2019-09-01    237\n",
      "2020-01-01    233\n",
      "2019-12-01    220\n",
      "2014-03-01    178\n",
      "2019-07-01    156\n",
      "2019-08-01    146\n",
      "2019-06-01    141\n",
      "2019-02-01    128\n",
      "2019-05-01    123\n",
      "2019-01-01    114\n",
      "2014-04-01    114\n",
      "2019-03-01    110\n",
      "2019-04-01    108\n",
      "2018-08-01    100\n",
      "2018-09-01    100\n",
      "2018-11-01     99\n",
      "2014-07-01     98\n",
      "2014-05-01     98\n",
      "2014-06-01     97\n",
      "2017-03-01     94\n",
      "2018-02-01     91\n",
      "2017-12-01     90\n",
      "2018-12-01     90\n",
      "2018-03-01     89\n",
      "2018-06-01     84\n",
      "2014-08-01     82\n",
      "2017-11-01     82\n",
      "2015-10-01     81\n",
      "2018-04-01     81\n",
      "2014-10-01     80\n",
      "2015-02-01     80\n",
      "2018-07-01     80\n",
      "2015-06-01     79\n",
      "2018-10-01     78\n",
      "2014-11-01     77\n",
      "2014-12-01     75\n",
      "2015-01-01     75\n",
      "2016-09-01     74\n",
      "2015-05-01     74\n",
      "2015-11-01     74\n",
      "2016-02-01     73\n",
      "2017-09-01     73\n",
      "2018-01-01     73\n",
      "2016-04-01     73\n",
      "2014-09-01     72\n",
      "2017-08-01     71\n",
      "2015-04-01     69\n",
      "2016-05-01     68\n",
      "2015-12-01     68\n",
      "2015-09-01     67\n",
      "2016-08-01     67\n",
      "2015-08-01     66\n",
      "2017-04-01     66\n",
      "2017-05-01     66\n",
      "2017-07-01     65\n",
      "2016-10-01     65\n",
      "2018-05-01     65\n",
      "2017-01-01     64\n",
      "2017-06-01     62\n",
      "2015-07-01     61\n",
      "2016-03-01     61\n",
      "2016-06-01     59\n",
      "2016-07-01     58\n",
      "2016-12-01     58\n",
      "2015-03-01     58\n",
      "2017-10-01     57\n",
      "2016-01-01     57\n",
      "2017-02-01     55\n",
      "2016-11-01     50\n",
      "2020-02-01     11\n",
      "2014-01-01      7\n",
      "2013-10-01      3\n",
      "2013-12-01      3\n",
      "2013-11-01      2\n",
      "Name: BeginDate, dtype: int64\n",
      "\n",
      "\u001b[1mEndDate\u001b[0m\n",
      "No                     5174\n",
      "2019-11-01 00:00:00     485\n",
      "2019-12-01 00:00:00     466\n",
      "2020-01-01 00:00:00     460\n",
      "2019-10-01 00:00:00     458\n",
      "Name: EndDate, dtype: int64\n",
      "\n",
      "\u001b[1mType\u001b[0m\n",
      "Month-to-month    3875\n",
      "Two year          1695\n",
      "One year          1473\n",
      "Name: Type, dtype: int64\n",
      "\n",
      "\u001b[1mPaperlessBilling\u001b[0m\n",
      "Yes    4171\n",
      "No     2872\n",
      "Name: PaperlessBilling, dtype: int64\n",
      "\n",
      "\u001b[1mPaymentMethod\u001b[0m\n",
      "Electronic check             2365\n",
      "Mailed check                 1612\n",
      "Bank transfer (automatic)    1544\n",
      "Credit card (automatic)      1522\n",
      "Name: PaymentMethod, dtype: int64\n",
      "\n",
      "\u001b[1mGender\u001b[0m\n",
      "Male      3555\n",
      "Female    3488\n",
      "Name: Gender, dtype: int64\n",
      "\n",
      "\u001b[1mPartner\u001b[0m\n",
      "No     3641\n",
      "Yes    3402\n",
      "Name: Partner, dtype: int64\n",
      "\n",
      "\u001b[1mDependents\u001b[0m\n",
      "No     4933\n",
      "Yes    2110\n",
      "Name: Dependents, dtype: int64\n",
      "\n",
      "\u001b[1mInternetService\u001b[0m\n",
      "Fiber optic    3096\n",
      "DSL            2421\n",
      "Name: InternetService, dtype: int64\n",
      "\n",
      "\u001b[1mOnlineSecurity\u001b[0m\n",
      "No     3498\n",
      "Yes    2019\n",
      "Name: OnlineSecurity, dtype: int64\n",
      "\n",
      "\u001b[1mOnlineBackup\u001b[0m\n",
      "No     3088\n",
      "Yes    2429\n",
      "Name: OnlineBackup, dtype: int64\n",
      "\n",
      "\u001b[1mDeviceProtection\u001b[0m\n",
      "No     3095\n",
      "Yes    2422\n",
      "Name: DeviceProtection, dtype: int64\n",
      "\n",
      "\u001b[1mTechSupport\u001b[0m\n",
      "No     3473\n",
      "Yes    2044\n",
      "Name: TechSupport, dtype: int64\n",
      "\n",
      "\u001b[1mStreamingTV\u001b[0m\n",
      "No     2810\n",
      "Yes    2707\n",
      "Name: StreamingTV, dtype: int64\n",
      "\n",
      "\u001b[1mStreamingMovies\u001b[0m\n",
      "No     2785\n",
      "Yes    2732\n",
      "Name: StreamingMovies, dtype: int64\n",
      "\n",
      "\u001b[1mMultipleLines\u001b[0m\n",
      "No     3390\n",
      "Yes    2971\n",
      "Name: MultipleLines, dtype: int64\n",
      "\n"
     ]
    }
   ],
   "source": [
    "# Посмотрим на распределение данных без столбца customerID:\n",
    "cat_columns = cat_features[1:]\n",
    "\n",
    "for i in cat_columns:\n",
    "    print('\\033[1m' + i + '\\033[0m')\n",
    "    print(df[i].value_counts())\n",
    "    print()"
   ]
  },
  {
   "cell_type": "markdown",
   "id": "7a858106",
   "metadata": {},
   "source": [
    "**Первые выводы из информации по датасетам:**\n",
    "* Столбец EndDate необходимо транфсформировать.\n",
    "* Необходимо проанализировать PaperlessBilling, насколько он вообще влияет на результат.\n",
    "* Можно создать отдельный столбец со сроком действия договора.\n",
    "* TotalCharges имеет неправильный тип данных - object, необходимо заменить на float.\n",
    "* Пропуски есть в данных по интернет услугам и телефонии.\n",
    "* Необходимо создать target для модели ML, подразумевающий классификацию оттока клиентов.\n",
    "* Есть много договоров с 2014 года. \n",
    "* По Enddate договора, которые завершились всего около 2000, при этом 5000 действующих договоров. Учитывая, что данный столбец будет использоваться для target, то наблюдается дисбаланс классов. Все остальные признаки распределены приблизительно поровну. "
   ]
  },
  {
   "cell_type": "markdown",
   "id": "c58183bb",
   "metadata": {},
   "source": [
    "<div class=\"alert alert-success\" style=\"border-color: green; border-radius: 5px\">\n",
    "    <p><u><b>✅ КОММЕНТАРИЙ РЕВЬЮЕРА</b></u></p>понятно."
   ]
  },
  {
   "cell_type": "code",
   "execution_count": 15,
   "id": "30945e84",
   "metadata": {
    "scrolled": true
   },
   "outputs": [
    {
     "data": {
      "text/html": [
       "<div>\n",
       "<style scoped>\n",
       "    .dataframe tbody tr th:only-of-type {\n",
       "        vertical-align: middle;\n",
       "    }\n",
       "\n",
       "    .dataframe tbody tr th {\n",
       "        vertical-align: top;\n",
       "    }\n",
       "\n",
       "    .dataframe thead th {\n",
       "        text-align: right;\n",
       "    }\n",
       "</style>\n",
       "<table border=\"1\" class=\"dataframe\">\n",
       "  <thead>\n",
       "    <tr style=\"text-align: right;\">\n",
       "      <th></th>\n",
       "      <th>customerID</th>\n",
       "      <th>BeginDate</th>\n",
       "      <th>EndDate</th>\n",
       "      <th>Type</th>\n",
       "      <th>PaperlessBilling</th>\n",
       "      <th>PaymentMethod</th>\n",
       "      <th>MonthlyCharges</th>\n",
       "      <th>TotalCharges</th>\n",
       "      <th>Gender</th>\n",
       "      <th>SeniorCitizen</th>\n",
       "      <th>Partner</th>\n",
       "      <th>Dependents</th>\n",
       "      <th>InternetService</th>\n",
       "      <th>OnlineSecurity</th>\n",
       "      <th>OnlineBackup</th>\n",
       "      <th>DeviceProtection</th>\n",
       "      <th>TechSupport</th>\n",
       "      <th>StreamingTV</th>\n",
       "      <th>StreamingMovies</th>\n",
       "      <th>MultipleLines</th>\n",
       "      <th>BeginYear</th>\n",
       "    </tr>\n",
       "  </thead>\n",
       "  <tbody>\n",
       "    <tr>\n",
       "      <th>0</th>\n",
       "      <td>7590-VHVEG</td>\n",
       "      <td>2020-01-01</td>\n",
       "      <td>No</td>\n",
       "      <td>Month-to-month</td>\n",
       "      <td>Yes</td>\n",
       "      <td>Electronic check</td>\n",
       "      <td>29.85</td>\n",
       "      <td>29.85</td>\n",
       "      <td>Female</td>\n",
       "      <td>0</td>\n",
       "      <td>Yes</td>\n",
       "      <td>No</td>\n",
       "      <td>DSL</td>\n",
       "      <td>No</td>\n",
       "      <td>Yes</td>\n",
       "      <td>No</td>\n",
       "      <td>No</td>\n",
       "      <td>No</td>\n",
       "      <td>No</td>\n",
       "      <td>NaN</td>\n",
       "      <td>2020</td>\n",
       "    </tr>\n",
       "    <tr>\n",
       "      <th>1</th>\n",
       "      <td>5575-GNVDE</td>\n",
       "      <td>2017-04-01</td>\n",
       "      <td>No</td>\n",
       "      <td>One year</td>\n",
       "      <td>No</td>\n",
       "      <td>Mailed check</td>\n",
       "      <td>56.95</td>\n",
       "      <td>1,889.50</td>\n",
       "      <td>Male</td>\n",
       "      <td>0</td>\n",
       "      <td>No</td>\n",
       "      <td>No</td>\n",
       "      <td>DSL</td>\n",
       "      <td>Yes</td>\n",
       "      <td>No</td>\n",
       "      <td>Yes</td>\n",
       "      <td>No</td>\n",
       "      <td>No</td>\n",
       "      <td>No</td>\n",
       "      <td>No</td>\n",
       "      <td>2017</td>\n",
       "    </tr>\n",
       "  </tbody>\n",
       "</table>\n",
       "</div>"
      ],
      "text/plain": [
       "   customerID  BeginDate EndDate            Type PaperlessBilling  \\\n",
       "0  7590-VHVEG 2020-01-01      No  Month-to-month              Yes   \n",
       "1  5575-GNVDE 2017-04-01      No        One year               No   \n",
       "\n",
       "      PaymentMethod  MonthlyCharges  TotalCharges  Gender  SeniorCitizen  \\\n",
       "0  Electronic check           29.85         29.85  Female              0   \n",
       "1      Mailed check           56.95      1,889.50    Male              0   \n",
       "\n",
       "  Partner Dependents InternetService OnlineSecurity OnlineBackup  \\\n",
       "0     Yes         No             DSL             No          Yes   \n",
       "1      No         No             DSL            Yes           No   \n",
       "\n",
       "  DeviceProtection TechSupport StreamingTV StreamingMovies MultipleLines  \\\n",
       "0               No          No          No              No           NaN   \n",
       "1              Yes          No          No              No            No   \n",
       "\n",
       "   BeginYear  \n",
       "0       2020  \n",
       "1       2017  "
      ]
     },
     "execution_count": 15,
     "metadata": {},
     "output_type": "execute_result"
    }
   ],
   "source": [
    "# Создадим признак года начала пользования услугами\n",
    "# Признак года начала пользования услугами необходим наам для построения графиков.\n",
    "df['BeginDate'] = pd.to_datetime(df['BeginDate'], format='%Y-%m-%dT%H:%M:%S')\n",
    "df['BeginYear'] = pd.DatetimeIndex(df['BeginDate']).year\n",
    "df.head(2)"
   ]
  },
  {
   "cell_type": "code",
   "execution_count": 16,
   "id": "7f2e72fb",
   "metadata": {
    "scrolled": false
   },
   "outputs": [
    {
     "data": {
      "text/html": [
       "<div>\n",
       "<style scoped>\n",
       "    .dataframe tbody tr th:only-of-type {\n",
       "        vertical-align: middle;\n",
       "    }\n",
       "\n",
       "    .dataframe tbody tr th {\n",
       "        vertical-align: top;\n",
       "    }\n",
       "\n",
       "    .dataframe thead th {\n",
       "        text-align: right;\n",
       "    }\n",
       "</style>\n",
       "<table border=\"1\" class=\"dataframe\">\n",
       "  <thead>\n",
       "    <tr style=\"text-align: right;\">\n",
       "      <th></th>\n",
       "      <th>customerID</th>\n",
       "      <th>BeginDate</th>\n",
       "      <th>EndDate</th>\n",
       "      <th>Type</th>\n",
       "      <th>PaperlessBilling</th>\n",
       "      <th>PaymentMethod</th>\n",
       "      <th>MonthlyCharges</th>\n",
       "      <th>TotalCharges</th>\n",
       "      <th>Gender</th>\n",
       "      <th>SeniorCitizen</th>\n",
       "      <th>Partner</th>\n",
       "      <th>Dependents</th>\n",
       "      <th>InternetService</th>\n",
       "      <th>OnlineSecurity</th>\n",
       "      <th>OnlineBackup</th>\n",
       "      <th>DeviceProtection</th>\n",
       "      <th>TechSupport</th>\n",
       "      <th>StreamingTV</th>\n",
       "      <th>StreamingMovies</th>\n",
       "      <th>MultipleLines</th>\n",
       "      <th>BeginYear</th>\n",
       "      <th>Target</th>\n",
       "    </tr>\n",
       "  </thead>\n",
       "  <tbody>\n",
       "    <tr>\n",
       "      <th>0</th>\n",
       "      <td>7590-VHVEG</td>\n",
       "      <td>2020-01-01</td>\n",
       "      <td>No</td>\n",
       "      <td>Month-to-month</td>\n",
       "      <td>Yes</td>\n",
       "      <td>Electronic check</td>\n",
       "      <td>29.85</td>\n",
       "      <td>29.85</td>\n",
       "      <td>Female</td>\n",
       "      <td>0</td>\n",
       "      <td>Yes</td>\n",
       "      <td>No</td>\n",
       "      <td>DSL</td>\n",
       "      <td>No</td>\n",
       "      <td>Yes</td>\n",
       "      <td>No</td>\n",
       "      <td>No</td>\n",
       "      <td>No</td>\n",
       "      <td>No</td>\n",
       "      <td>NaN</td>\n",
       "      <td>2020</td>\n",
       "      <td>1</td>\n",
       "    </tr>\n",
       "    <tr>\n",
       "      <th>1</th>\n",
       "      <td>5575-GNVDE</td>\n",
       "      <td>2017-04-01</td>\n",
       "      <td>No</td>\n",
       "      <td>One year</td>\n",
       "      <td>No</td>\n",
       "      <td>Mailed check</td>\n",
       "      <td>56.95</td>\n",
       "      <td>1,889.50</td>\n",
       "      <td>Male</td>\n",
       "      <td>0</td>\n",
       "      <td>No</td>\n",
       "      <td>No</td>\n",
       "      <td>DSL</td>\n",
       "      <td>Yes</td>\n",
       "      <td>No</td>\n",
       "      <td>Yes</td>\n",
       "      <td>No</td>\n",
       "      <td>No</td>\n",
       "      <td>No</td>\n",
       "      <td>No</td>\n",
       "      <td>2017</td>\n",
       "      <td>1</td>\n",
       "    </tr>\n",
       "    <tr>\n",
       "      <th>2</th>\n",
       "      <td>3668-QPYBK</td>\n",
       "      <td>2019-10-01</td>\n",
       "      <td>2019-12-01 00:00:00</td>\n",
       "      <td>Month-to-month</td>\n",
       "      <td>Yes</td>\n",
       "      <td>Mailed check</td>\n",
       "      <td>53.85</td>\n",
       "      <td>108.15</td>\n",
       "      <td>Male</td>\n",
       "      <td>0</td>\n",
       "      <td>No</td>\n",
       "      <td>No</td>\n",
       "      <td>DSL</td>\n",
       "      <td>Yes</td>\n",
       "      <td>Yes</td>\n",
       "      <td>No</td>\n",
       "      <td>No</td>\n",
       "      <td>No</td>\n",
       "      <td>No</td>\n",
       "      <td>No</td>\n",
       "      <td>2019</td>\n",
       "      <td>0</td>\n",
       "    </tr>\n",
       "    <tr>\n",
       "      <th>3</th>\n",
       "      <td>7795-CFOCW</td>\n",
       "      <td>2016-05-01</td>\n",
       "      <td>No</td>\n",
       "      <td>One year</td>\n",
       "      <td>No</td>\n",
       "      <td>Bank transfer (automatic)</td>\n",
       "      <td>42.30</td>\n",
       "      <td>1,840.75</td>\n",
       "      <td>Male</td>\n",
       "      <td>0</td>\n",
       "      <td>No</td>\n",
       "      <td>No</td>\n",
       "      <td>DSL</td>\n",
       "      <td>Yes</td>\n",
       "      <td>No</td>\n",
       "      <td>Yes</td>\n",
       "      <td>Yes</td>\n",
       "      <td>No</td>\n",
       "      <td>No</td>\n",
       "      <td>NaN</td>\n",
       "      <td>2016</td>\n",
       "      <td>1</td>\n",
       "    </tr>\n",
       "    <tr>\n",
       "      <th>4</th>\n",
       "      <td>9237-HQITU</td>\n",
       "      <td>2019-09-01</td>\n",
       "      <td>2019-11-01 00:00:00</td>\n",
       "      <td>Month-to-month</td>\n",
       "      <td>Yes</td>\n",
       "      <td>Electronic check</td>\n",
       "      <td>70.70</td>\n",
       "      <td>151.65</td>\n",
       "      <td>Female</td>\n",
       "      <td>0</td>\n",
       "      <td>No</td>\n",
       "      <td>No</td>\n",
       "      <td>Fiber optic</td>\n",
       "      <td>No</td>\n",
       "      <td>No</td>\n",
       "      <td>No</td>\n",
       "      <td>No</td>\n",
       "      <td>No</td>\n",
       "      <td>No</td>\n",
       "      <td>No</td>\n",
       "      <td>2019</td>\n",
       "      <td>0</td>\n",
       "    </tr>\n",
       "  </tbody>\n",
       "</table>\n",
       "</div>"
      ],
      "text/plain": [
       "   customerID  BeginDate              EndDate            Type  \\\n",
       "0  7590-VHVEG 2020-01-01                   No  Month-to-month   \n",
       "1  5575-GNVDE 2017-04-01                   No        One year   \n",
       "2  3668-QPYBK 2019-10-01  2019-12-01 00:00:00  Month-to-month   \n",
       "3  7795-CFOCW 2016-05-01                   No        One year   \n",
       "4  9237-HQITU 2019-09-01  2019-11-01 00:00:00  Month-to-month   \n",
       "\n",
       "  PaperlessBilling              PaymentMethod  MonthlyCharges  TotalCharges  \\\n",
       "0              Yes           Electronic check           29.85         29.85   \n",
       "1               No               Mailed check           56.95      1,889.50   \n",
       "2              Yes               Mailed check           53.85        108.15   \n",
       "3               No  Bank transfer (automatic)           42.30      1,840.75   \n",
       "4              Yes           Electronic check           70.70        151.65   \n",
       "\n",
       "   Gender  SeniorCitizen Partner Dependents InternetService OnlineSecurity  \\\n",
       "0  Female              0     Yes         No             DSL             No   \n",
       "1    Male              0      No         No             DSL            Yes   \n",
       "2    Male              0      No         No             DSL            Yes   \n",
       "3    Male              0      No         No             DSL            Yes   \n",
       "4  Female              0      No         No     Fiber optic             No   \n",
       "\n",
       "  OnlineBackup DeviceProtection TechSupport StreamingTV StreamingMovies  \\\n",
       "0          Yes               No          No          No              No   \n",
       "1           No              Yes          No          No              No   \n",
       "2          Yes               No          No          No              No   \n",
       "3           No              Yes         Yes          No              No   \n",
       "4           No               No          No          No              No   \n",
       "\n",
       "  MultipleLines  BeginYear  Target  \n",
       "0           NaN       2020       1  \n",
       "1            No       2017       1  \n",
       "2            No       2019       0  \n",
       "3           NaN       2016       1  \n",
       "4            No       2019       0  "
      ]
     },
     "execution_count": 16,
     "metadata": {},
     "output_type": "execute_result"
    }
   ],
   "source": [
    "# Создадим столбец для целевого признака из столбца EndDate:\n",
    "def target_tr(date):\n",
    "    if date == 'No':\n",
    "        return 1\n",
    "    else:\n",
    "        return 0\n",
    "    return date\n",
    "\n",
    "df['Target'] = df['EndDate'].apply(target_tr)\n",
    "df.head(5)"
   ]
  },
  {
   "cell_type": "markdown",
   "id": "ba232c86",
   "metadata": {},
   "source": [
    "<div class=\"alert alert-success\" style=\"border-color: green; border-radius: 5px\">\n",
    "    <p><u><b>✅ КОММЕНТАРИЙ РЕВЬЮЕРА</b></u></p>\n",
    "ОК, с целевой понятно. А вот факторы времени в нашем проекте лучше не использовать."
   ]
  },
  {
   "cell_type": "markdown",
   "id": "570680a7",
   "metadata": {},
   "source": [
    "### Заполнение пропусков и изменение столбцов с датой"
   ]
  },
  {
   "cell_type": "code",
   "execution_count": 17,
   "id": "79946a51",
   "metadata": {
    "scrolled": false
   },
   "outputs": [
    {
     "data": {
      "text/html": [
       "<div>\n",
       "<style scoped>\n",
       "    .dataframe tbody tr th:only-of-type {\n",
       "        vertical-align: middle;\n",
       "    }\n",
       "\n",
       "    .dataframe tbody tr th {\n",
       "        vertical-align: top;\n",
       "    }\n",
       "\n",
       "    .dataframe thead th {\n",
       "        text-align: right;\n",
       "    }\n",
       "</style>\n",
       "<table border=\"1\" class=\"dataframe\">\n",
       "  <thead>\n",
       "    <tr style=\"text-align: right;\">\n",
       "      <th></th>\n",
       "      <th>customerID</th>\n",
       "      <th>BeginDate</th>\n",
       "      <th>EndDate</th>\n",
       "      <th>Type</th>\n",
       "      <th>PaperlessBilling</th>\n",
       "      <th>PaymentMethod</th>\n",
       "      <th>MonthlyCharges</th>\n",
       "      <th>TotalCharges</th>\n",
       "      <th>Gender</th>\n",
       "      <th>SeniorCitizen</th>\n",
       "      <th>Partner</th>\n",
       "      <th>Dependents</th>\n",
       "      <th>InternetService</th>\n",
       "      <th>OnlineSecurity</th>\n",
       "      <th>OnlineBackup</th>\n",
       "      <th>DeviceProtection</th>\n",
       "      <th>TechSupport</th>\n",
       "      <th>StreamingTV</th>\n",
       "      <th>StreamingMovies</th>\n",
       "      <th>MultipleLines</th>\n",
       "      <th>BeginYear</th>\n",
       "      <th>Target</th>\n",
       "    </tr>\n",
       "  </thead>\n",
       "  <tbody>\n",
       "    <tr>\n",
       "      <th>0</th>\n",
       "      <td>7590-VHVEG</td>\n",
       "      <td>2020-01-01</td>\n",
       "      <td>No</td>\n",
       "      <td>Month-to-month</td>\n",
       "      <td>Yes</td>\n",
       "      <td>Electronic check</td>\n",
       "      <td>29.85</td>\n",
       "      <td>29.85</td>\n",
       "      <td>Female</td>\n",
       "      <td>0</td>\n",
       "      <td>Yes</td>\n",
       "      <td>No</td>\n",
       "      <td>DSL</td>\n",
       "      <td>No</td>\n",
       "      <td>Yes</td>\n",
       "      <td>No</td>\n",
       "      <td>No</td>\n",
       "      <td>No</td>\n",
       "      <td>No</td>\n",
       "      <td>unknown</td>\n",
       "      <td>2020</td>\n",
       "      <td>1</td>\n",
       "    </tr>\n",
       "    <tr>\n",
       "      <th>1</th>\n",
       "      <td>5575-GNVDE</td>\n",
       "      <td>2017-04-01</td>\n",
       "      <td>No</td>\n",
       "      <td>One year</td>\n",
       "      <td>No</td>\n",
       "      <td>Mailed check</td>\n",
       "      <td>56.95</td>\n",
       "      <td>1,889.50</td>\n",
       "      <td>Male</td>\n",
       "      <td>0</td>\n",
       "      <td>No</td>\n",
       "      <td>No</td>\n",
       "      <td>DSL</td>\n",
       "      <td>Yes</td>\n",
       "      <td>No</td>\n",
       "      <td>Yes</td>\n",
       "      <td>No</td>\n",
       "      <td>No</td>\n",
       "      <td>No</td>\n",
       "      <td>No</td>\n",
       "      <td>2017</td>\n",
       "      <td>1</td>\n",
       "    </tr>\n",
       "    <tr>\n",
       "      <th>2</th>\n",
       "      <td>3668-QPYBK</td>\n",
       "      <td>2019-10-01</td>\n",
       "      <td>2019-12-01 00:00:00</td>\n",
       "      <td>Month-to-month</td>\n",
       "      <td>Yes</td>\n",
       "      <td>Mailed check</td>\n",
       "      <td>53.85</td>\n",
       "      <td>108.15</td>\n",
       "      <td>Male</td>\n",
       "      <td>0</td>\n",
       "      <td>No</td>\n",
       "      <td>No</td>\n",
       "      <td>DSL</td>\n",
       "      <td>Yes</td>\n",
       "      <td>Yes</td>\n",
       "      <td>No</td>\n",
       "      <td>No</td>\n",
       "      <td>No</td>\n",
       "      <td>No</td>\n",
       "      <td>No</td>\n",
       "      <td>2019</td>\n",
       "      <td>0</td>\n",
       "    </tr>\n",
       "    <tr>\n",
       "      <th>3</th>\n",
       "      <td>7795-CFOCW</td>\n",
       "      <td>2016-05-01</td>\n",
       "      <td>No</td>\n",
       "      <td>One year</td>\n",
       "      <td>No</td>\n",
       "      <td>Bank transfer (automatic)</td>\n",
       "      <td>42.30</td>\n",
       "      <td>1,840.75</td>\n",
       "      <td>Male</td>\n",
       "      <td>0</td>\n",
       "      <td>No</td>\n",
       "      <td>No</td>\n",
       "      <td>DSL</td>\n",
       "      <td>Yes</td>\n",
       "      <td>No</td>\n",
       "      <td>Yes</td>\n",
       "      <td>Yes</td>\n",
       "      <td>No</td>\n",
       "      <td>No</td>\n",
       "      <td>unknown</td>\n",
       "      <td>2016</td>\n",
       "      <td>1</td>\n",
       "    </tr>\n",
       "    <tr>\n",
       "      <th>4</th>\n",
       "      <td>9237-HQITU</td>\n",
       "      <td>2019-09-01</td>\n",
       "      <td>2019-11-01 00:00:00</td>\n",
       "      <td>Month-to-month</td>\n",
       "      <td>Yes</td>\n",
       "      <td>Electronic check</td>\n",
       "      <td>70.70</td>\n",
       "      <td>151.65</td>\n",
       "      <td>Female</td>\n",
       "      <td>0</td>\n",
       "      <td>No</td>\n",
       "      <td>No</td>\n",
       "      <td>Fiber optic</td>\n",
       "      <td>No</td>\n",
       "      <td>No</td>\n",
       "      <td>No</td>\n",
       "      <td>No</td>\n",
       "      <td>No</td>\n",
       "      <td>No</td>\n",
       "      <td>No</td>\n",
       "      <td>2019</td>\n",
       "      <td>0</td>\n",
       "    </tr>\n",
       "  </tbody>\n",
       "</table>\n",
       "</div>"
      ],
      "text/plain": [
       "   customerID  BeginDate              EndDate            Type  \\\n",
       "0  7590-VHVEG 2020-01-01                   No  Month-to-month   \n",
       "1  5575-GNVDE 2017-04-01                   No        One year   \n",
       "2  3668-QPYBK 2019-10-01  2019-12-01 00:00:00  Month-to-month   \n",
       "3  7795-CFOCW 2016-05-01                   No        One year   \n",
       "4  9237-HQITU 2019-09-01  2019-11-01 00:00:00  Month-to-month   \n",
       "\n",
       "  PaperlessBilling              PaymentMethod  MonthlyCharges  TotalCharges  \\\n",
       "0              Yes           Electronic check           29.85         29.85   \n",
       "1               No               Mailed check           56.95      1,889.50   \n",
       "2              Yes               Mailed check           53.85        108.15   \n",
       "3               No  Bank transfer (automatic)           42.30      1,840.75   \n",
       "4              Yes           Electronic check           70.70        151.65   \n",
       "\n",
       "   Gender  SeniorCitizen Partner Dependents InternetService OnlineSecurity  \\\n",
       "0  Female              0     Yes         No             DSL             No   \n",
       "1    Male              0      No         No             DSL            Yes   \n",
       "2    Male              0      No         No             DSL            Yes   \n",
       "3    Male              0      No         No             DSL            Yes   \n",
       "4  Female              0      No         No     Fiber optic             No   \n",
       "\n",
       "  OnlineBackup DeviceProtection TechSupport StreamingTV StreamingMovies  \\\n",
       "0          Yes               No          No          No              No   \n",
       "1           No              Yes          No          No              No   \n",
       "2          Yes               No          No          No              No   \n",
       "3           No              Yes         Yes          No              No   \n",
       "4           No               No          No          No              No   \n",
       "\n",
       "  MultipleLines  BeginYear  Target  \n",
       "0       unknown       2020       1  \n",
       "1            No       2017       1  \n",
       "2            No       2019       0  \n",
       "3       unknown       2016       1  \n",
       "4            No       2019       0  "
      ]
     },
     "metadata": {},
     "output_type": "display_data"
    },
    {
     "data": {
      "text/plain": [
       "customerID           0\n",
       "BeginDate            0\n",
       "EndDate              0\n",
       "Type                 0\n",
       "PaperlessBilling     0\n",
       "PaymentMethod        0\n",
       "MonthlyCharges       0\n",
       "TotalCharges        11\n",
       "Gender               0\n",
       "SeniorCitizen        0\n",
       "Partner              0\n",
       "Dependents           0\n",
       "InternetService      0\n",
       "OnlineSecurity       0\n",
       "OnlineBackup         0\n",
       "DeviceProtection     0\n",
       "TechSupport          0\n",
       "StreamingTV          0\n",
       "StreamingMovies      0\n",
       "MultipleLines        0\n",
       "BeginYear            0\n",
       "Target               0\n",
       "dtype: int64"
      ]
     },
     "metadata": {},
     "output_type": "display_data"
    }
   ],
   "source": [
    "# Заполним пропуски в категориальных данных на unknown:\n",
    "columns = ['InternetService', 'OnlineSecurity', 'OnlineBackup', 'DeviceProtection', 'TechSupport',\n",
    "          'StreamingTV', 'StreamingMovies', 'TechSupport', 'MultipleLines']\n",
    "\n",
    "for i in columns:\n",
    "    df[i] = df[i].fillna('unknown')\n",
    "\n",
    "display(df.head())\n",
    "display(df.isnull().sum())"
   ]
  },
  {
   "cell_type": "markdown",
   "id": "f46ac0da",
   "metadata": {},
   "source": [
    "<div class=\"alert alert-success\" style=\"border-color: green; border-radius: 5px\">\n",
    "    <p><u><b>✅ КОММЕНТАРИЙ РЕВЬЮЕРА</b></u></p>Согласен."
   ]
  },
  {
   "cell_type": "code",
   "execution_count": 18,
   "id": "7fe64c08",
   "metadata": {},
   "outputs": [
    {
     "name": "stdout",
     "output_type": "stream",
     "text": [
      "<class 'pandas.core.frame.DataFrame'>\n",
      "Int64Index: 7043 entries, 0 to 7042\n",
      "Data columns (total 22 columns):\n",
      " #   Column            Non-Null Count  Dtype         \n",
      "---  ------            --------------  -----         \n",
      " 0   customerID        7043 non-null   object        \n",
      " 1   BeginDate         7043 non-null   datetime64[ns]\n",
      " 2   EndDate           7043 non-null   object        \n",
      " 3   Type              7043 non-null   object        \n",
      " 4   PaperlessBilling  7043 non-null   object        \n",
      " 5   PaymentMethod     7043 non-null   object        \n",
      " 6   MonthlyCharges    7043 non-null   float64       \n",
      " 7   TotalCharges      7032 non-null   float64       \n",
      " 8   Gender            7043 non-null   object        \n",
      " 9   SeniorCitizen     7043 non-null   int64         \n",
      " 10  Partner           7043 non-null   object        \n",
      " 11  Dependents        7043 non-null   object        \n",
      " 12  InternetService   7043 non-null   object        \n",
      " 13  OnlineSecurity    7043 non-null   object        \n",
      " 14  OnlineBackup      7043 non-null   object        \n",
      " 15  DeviceProtection  7043 non-null   object        \n",
      " 16  TechSupport       7043 non-null   object        \n",
      " 17  StreamingTV       7043 non-null   object        \n",
      " 18  StreamingMovies   7043 non-null   object        \n",
      " 19  MultipleLines     7043 non-null   object        \n",
      " 20  BeginYear         7043 non-null   int64         \n",
      " 21  Target            7043 non-null   int64         \n",
      "dtypes: datetime64[ns](1), float64(2), int64(3), object(16)\n",
      "memory usage: 1.2+ MB\n"
     ]
    }
   ],
   "source": [
    "df['InternetService'] = df['InternetService'].fillna('unknown1')\n",
    "df['OnlineSecurity'] = df['OnlineSecurity'].fillna('unknown2')\n",
    "df['OnlineBackup'] = df['OnlineBackup'].fillna('unknown3')\n",
    "df['DeviceProtection'] = df['DeviceProtection'].fillna('unknown4')\n",
    "df['TechSupport'] = df['TechSupport'].fillna('unknown5')\n",
    "df['StreamingTV'] = df['StreamingTV'].fillna('unknown6')\n",
    "df['StreamingMovies'] = df['StreamingMovies'].fillna('unknown7')\n",
    "df['TechSupport'] = df['TechSupport'].fillna('unknown8')\n",
    "df['MultipleLines'] = df['MultipleLines'].fillna('unknown9')\n",
    "df.info()"
   ]
  },
  {
   "cell_type": "code",
   "execution_count": 19,
   "id": "69026870",
   "metadata": {
    "scrolled": true
   },
   "outputs": [
    {
     "name": "stdout",
     "output_type": "stream",
     "text": [
      "customerID          0\n",
      "BeginDate           0\n",
      "EndDate             0\n",
      "Type                0\n",
      "PaperlessBilling    0\n",
      "PaymentMethod       0\n",
      "MonthlyCharges      0\n",
      "TotalCharges        0\n",
      "Gender              0\n",
      "SeniorCitizen       0\n",
      "Partner             0\n",
      "Dependents          0\n",
      "InternetService     0\n",
      "OnlineSecurity      0\n",
      "OnlineBackup        0\n",
      "DeviceProtection    0\n",
      "TechSupport         0\n",
      "StreamingTV         0\n",
      "StreamingMovies     0\n",
      "MultipleLines       0\n",
      "BeginYear           0\n",
      "Target              0\n",
      "dtype: int64\n"
     ]
    }
   ],
   "source": [
    "# Удалим 11 строк в TotalCharges, поскольку они заключены 01 февраля, и ценности для модели не несут:\n",
    "df.dropna(subset = ['TotalCharges'], inplace=True)\n",
    "print(df.isna().sum())"
   ]
  },
  {
   "cell_type": "markdown",
   "id": "99753824",
   "metadata": {},
   "source": [
    "<div class=\"alert alert-danger\" style=\"border-color: darkred; border-radius: 5px\">\n",
    "    <p><u><b>❌ КОММЕНТАРИЙ РЕВЬЮЕРА</b></u></p>\n",
    "    <p>упс( не пошло...</p>\n",
    "</div>"
   ]
  },
  {
   "cell_type": "markdown",
   "id": "5c93a1d4",
   "metadata": {},
   "source": [
    "<div class=\"alert alert-block alert-warning\">\n",
    "<b>Комментарий студента:</b> Добавил обновление pandas в импорты.\n",
    "</div>"
   ]
  },
  {
   "cell_type": "markdown",
   "id": "5c677454",
   "metadata": {},
   "source": [
    "<div class=\"alert alert-success\" style=\"border-color: green; border-radius: 5px\">\n",
    "    <p><u><b>✅ КОММЕНТАРИЙ РЕВЬЮЕРА 2</b></u></p>\n",
    "    <p>ОК</p>\n",
    "</div>"
   ]
  },
  {
   "cell_type": "markdown",
   "id": "d449269a",
   "metadata": {},
   "source": [
    "* Создадим столбец со сроком действия договора в днях для последующей замены и удаления столбцов BeginDate и EndDate."
   ]
  },
  {
   "cell_type": "code",
   "execution_count": 20,
   "id": "db468788",
   "metadata": {},
   "outputs": [],
   "source": [
    "# Создадим функцию для создания столбца с заменой No на дату:\n",
    "def fillup_end_date(df):\n",
    "    if df['EndDate'] == 'No':\n",
    "        return '2020-02-01 00:00:00'\n",
    "    else:\n",
    "        return df['EndDate']\n",
    "\n",
    "df['EndDate_time_and_date'] = df.apply(fillup_end_date, axis = 1)     "
   ]
  },
  {
   "cell_type": "code",
   "execution_count": 21,
   "id": "05cfd6f7",
   "metadata": {},
   "outputs": [],
   "source": [
    "# Переведем формат столбцов с датами в формат datetime:\n",
    "df['BeginDate'] = pd.to_datetime(df['BeginDate'], format = '%Y-%m-%d')\n",
    "df['EndDate_time_and_date'] = pd.to_datetime(df['EndDate_time_and_date'], format = '%Y-%m-%d')"
   ]
  },
  {
   "cell_type": "code",
   "execution_count": 22,
   "id": "e4ebbb91",
   "metadata": {},
   "outputs": [
    {
     "data": {
      "text/html": [
       "<div>\n",
       "<style scoped>\n",
       "    .dataframe tbody tr th:only-of-type {\n",
       "        vertical-align: middle;\n",
       "    }\n",
       "\n",
       "    .dataframe tbody tr th {\n",
       "        vertical-align: top;\n",
       "    }\n",
       "\n",
       "    .dataframe thead th {\n",
       "        text-align: right;\n",
       "    }\n",
       "</style>\n",
       "<table border=\"1\" class=\"dataframe\">\n",
       "  <thead>\n",
       "    <tr style=\"text-align: right;\">\n",
       "      <th></th>\n",
       "      <th>customerID</th>\n",
       "      <th>BeginDate</th>\n",
       "      <th>EndDate</th>\n",
       "      <th>Type</th>\n",
       "      <th>PaperlessBilling</th>\n",
       "      <th>PaymentMethod</th>\n",
       "      <th>MonthlyCharges</th>\n",
       "      <th>TotalCharges</th>\n",
       "      <th>Gender</th>\n",
       "      <th>SeniorCitizen</th>\n",
       "      <th>Partner</th>\n",
       "      <th>Dependents</th>\n",
       "      <th>InternetService</th>\n",
       "      <th>OnlineSecurity</th>\n",
       "      <th>OnlineBackup</th>\n",
       "      <th>DeviceProtection</th>\n",
       "      <th>TechSupport</th>\n",
       "      <th>StreamingTV</th>\n",
       "      <th>StreamingMovies</th>\n",
       "      <th>MultipleLines</th>\n",
       "      <th>BeginYear</th>\n",
       "      <th>Target</th>\n",
       "      <th>EndDate_time_and_date</th>\n",
       "      <th>Duration</th>\n",
       "    </tr>\n",
       "  </thead>\n",
       "  <tbody>\n",
       "    <tr>\n",
       "      <th>0</th>\n",
       "      <td>7590-VHVEG</td>\n",
       "      <td>2020-01-01</td>\n",
       "      <td>No</td>\n",
       "      <td>Month-to-month</td>\n",
       "      <td>Yes</td>\n",
       "      <td>Electronic check</td>\n",
       "      <td>29.85</td>\n",
       "      <td>29.85</td>\n",
       "      <td>Female</td>\n",
       "      <td>0</td>\n",
       "      <td>Yes</td>\n",
       "      <td>No</td>\n",
       "      <td>DSL</td>\n",
       "      <td>No</td>\n",
       "      <td>Yes</td>\n",
       "      <td>No</td>\n",
       "      <td>No</td>\n",
       "      <td>No</td>\n",
       "      <td>No</td>\n",
       "      <td>unknown</td>\n",
       "      <td>2020</td>\n",
       "      <td>1</td>\n",
       "      <td>2020-02-01</td>\n",
       "      <td>31.00</td>\n",
       "    </tr>\n",
       "    <tr>\n",
       "      <th>1</th>\n",
       "      <td>5575-GNVDE</td>\n",
       "      <td>2017-04-01</td>\n",
       "      <td>No</td>\n",
       "      <td>One year</td>\n",
       "      <td>No</td>\n",
       "      <td>Mailed check</td>\n",
       "      <td>56.95</td>\n",
       "      <td>1,889.50</td>\n",
       "      <td>Male</td>\n",
       "      <td>0</td>\n",
       "      <td>No</td>\n",
       "      <td>No</td>\n",
       "      <td>DSL</td>\n",
       "      <td>Yes</td>\n",
       "      <td>No</td>\n",
       "      <td>Yes</td>\n",
       "      <td>No</td>\n",
       "      <td>No</td>\n",
       "      <td>No</td>\n",
       "      <td>No</td>\n",
       "      <td>2017</td>\n",
       "      <td>1</td>\n",
       "      <td>2020-02-01</td>\n",
       "      <td>1,036.00</td>\n",
       "    </tr>\n",
       "  </tbody>\n",
       "</table>\n",
       "</div>"
      ],
      "text/plain": [
       "   customerID  BeginDate EndDate            Type PaperlessBilling  \\\n",
       "0  7590-VHVEG 2020-01-01      No  Month-to-month              Yes   \n",
       "1  5575-GNVDE 2017-04-01      No        One year               No   \n",
       "\n",
       "      PaymentMethod  MonthlyCharges  TotalCharges  Gender  SeniorCitizen  \\\n",
       "0  Electronic check           29.85         29.85  Female              0   \n",
       "1      Mailed check           56.95      1,889.50    Male              0   \n",
       "\n",
       "  Partner Dependents InternetService OnlineSecurity OnlineBackup  \\\n",
       "0     Yes         No             DSL             No          Yes   \n",
       "1      No         No             DSL            Yes           No   \n",
       "\n",
       "  DeviceProtection TechSupport StreamingTV StreamingMovies MultipleLines  \\\n",
       "0               No          No          No              No       unknown   \n",
       "1              Yes          No          No              No            No   \n",
       "\n",
       "   BeginYear  Target EndDate_time_and_date  Duration  \n",
       "0       2020       1            2020-02-01     31.00  \n",
       "1       2017       1            2020-02-01  1,036.00  "
      ]
     },
     "execution_count": 22,
     "metadata": {},
     "output_type": "execute_result"
    }
   ],
   "source": [
    "# Создадим столбец со сроком договора в днях:\n",
    "df['Duration'] = df['EndDate_time_and_date'] - df['BeginDate']\n",
    "df['Duration'] = df['Duration'].astype('timedelta64[D]')\n",
    "df.head(2)"
   ]
  },
  {
   "cell_type": "markdown",
   "id": "84ff0848",
   "metadata": {},
   "source": [
    "<div class=\"alert alert-success\" style=\"border-color: green; border-radius: 5px\">\n",
    "    <p><u><b>✅ КОММЕНТАРИЙ РЕВЬЮЕРА</b></u></p>\n",
    "    <p>ОК, интересный фактор</p>\n",
    "</div>"
   ]
  },
  {
   "cell_type": "markdown",
   "id": "369c1ed3",
   "metadata": {},
   "source": [
    "### Исследовательский анализ данных"
   ]
  },
  {
   "cell_type": "code",
   "execution_count": 23,
   "id": "70776f8b",
   "metadata": {},
   "outputs": [
    {
     "data": {
      "image/png": "[encoded data removed]",
      "text/plain": [
       "<Figure size 720x720 with 1 Axes>"
      ]
     },
     "metadata": {
      "needs_background": "light"
     },
     "output_type": "display_data"
    }
   ],
   "source": [
    "# Построим гистограмму ушедших клиентов по году их подключения:\n",
    "plt.figure(figsize=(10,10))\n",
    "df.query('Target == 1')['BeginYear'].plot(kind='hist', bins=50, grid=True)\n",
    "plt.title('Гистограмма ушедших клиентов по году начала пользования услугами')\n",
    "plt.xlabel('Год подключения')\n",
    "plt.ylabel('Количество ушедших клиентов')\n",
    "plt.show();"
   ]
  },
  {
   "cell_type": "markdown",
   "id": "6c54e28c",
   "metadata": {},
   "source": [
    "**Выводы:**\n",
    "Много клиентов ушло в 2014 и в 2019 годах."
   ]
  },
  {
   "cell_type": "code",
   "execution_count": 24,
   "id": "b531a63f",
   "metadata": {
    "scrolled": false
   },
   "outputs": [
    {
     "data": {
      "image/png": "[encoded data removed]",
      "text/plain": [
       "<Figure size 360x360 with 1 Axes>"
      ]
     },
     "metadata": {
      "needs_background": "light"
     },
     "output_type": "display_data"
    }
   ],
   "source": [
    "# Оценим распределение клиентов по признакам пола и расторжения договора:\n",
    "def catplot(data, title):\n",
    "    ax = sns.catplot(x='Target', kind = 'count', data=data)\n",
    "    plt.title(title)\n",
    "    plt.grid()\n",
    "    \n",
    "catplot(df, 'Распределение клиентов по признаку расторжения договора')"
   ]
  },
  {
   "cell_type": "code",
   "execution_count": 25,
   "id": "b9db55e2",
   "metadata": {},
   "outputs": [
    {
     "data": {
      "image/png": "[encoded data removed]",
      "text/plain": [
       "<Figure size 432x288 with 1 Axes>"
      ]
     },
     "metadata": {},
     "output_type": "display_data"
    }
   ],
   "source": [
    "# Оценим распределение клиентов по признакам пола и расторжения договора:\n",
    "def countplot_x(feature, hue, title):\n",
    "    sns.set()\n",
    "    sns.countplot(feature, hue = hue)\n",
    "    plt.title(title)\n",
    "    \n",
    "countplot_x(df['Gender'], df['Target'], \n",
    "            'Распределение клиентов по признакам пола и расторжения договора')"
   ]
  },
  {
   "cell_type": "code",
   "execution_count": 26,
   "id": "41d0b3fb",
   "metadata": {},
   "outputs": [
    {
     "data": {
      "image/png": "[encoded data removed]",
      "text/plain": [
       "<Figure size 432x216 with 2 Axes>"
      ]
     },
     "metadata": {},
     "output_type": "display_data"
    },
    {
     "data": {
      "image/png": "[encoded data removed]",
      "text/plain": [
       "<Figure size 432x216 with 2 Axes>"
      ]
     },
     "metadata": {},
     "output_type": "display_data"
    },
    {
     "data": {
      "image/png": "[encoded data removed]",
      "text/plain": [
       "<Figure size 432x216 with 2 Axes>"
      ]
     },
     "metadata": {},
     "output_type": "display_data"
    }
   ],
   "source": [
    "def facetgrid(feature, x, order):\n",
    "    g = sns.FacetGrid(df, col = feature)\n",
    "    ax = g.map(sns.barplot, x, 'Target', order = order, palette = 'Set1')\n",
    "    \n",
    "facetgrid('SeniorCitizen', 'Gender', ['Male', 'Female'])\n",
    "facetgrid('Partner', 'Gender', ['Male', 'Female'])\n",
    "facetgrid('Dependents', 'Gender', ['Male', 'Female'])"
   ]
  },
  {
   "cell_type": "markdown",
   "id": "d22888a4",
   "metadata": {},
   "source": [
    "**Выводы:**\n",
    "* пол не является показателем оттока клиентов;  \n",
    "* количество людей пенсионного возраста значительно меньше, чем молодого поколения, однако отток пожилых людей почти в 2 раза больше, чем для молодых людей;  \n",
    "* люди, не имеющие партнера, более склонны к расторжению договора;  \n",
    "* люди без иждивенцев тоже склонны к уходу;"
   ]
  },
  {
   "cell_type": "code",
   "execution_count": 27,
   "id": "beec094b",
   "metadata": {},
   "outputs": [
    {
     "data": {
      "image/png": "[encoded data removed]",
      "text/plain": [
       "<Figure size 432x288 with 1 Axes>"
      ]
     },
     "metadata": {},
     "output_type": "display_data"
    }
   ],
   "source": [
    "# Рассмотрим соотношения использования интернета и телефона:\n",
    "countplot_x(df['MultipleLines'], df['Target'], \n",
    "            'Распределение клиентов по признакам использования телефонной связи и расторжения договора');"
   ]
  },
  {
   "cell_type": "markdown",
   "id": "bce86d8a",
   "metadata": {},
   "source": [
    "**Выводы:**\n",
    "* довольно мало пользователей, которые не пользуются телефонными услугами;  \n",
    "* относительный отток клиентов больше для клиентов с несколькими линиями телефонной связи.  "
   ]
  },
  {
   "cell_type": "code",
   "execution_count": 28,
   "id": "e8a13f5d",
   "metadata": {
    "scrolled": true
   },
   "outputs": [
    {
     "data": {
      "image/png": "[encoded data removed]",
      "text/plain": [
       "<Figure size 432x288 with 1 Axes>"
      ]
     },
     "metadata": {},
     "output_type": "display_data"
    }
   ],
   "source": [
    "# Оценим распределение клиентов по признакам использования интернета и расторжения договора:\n",
    "countplot_x(df['InternetService'], df['Target'], \n",
    "            'Распределение клиентов по признакам использования интернета и расторжения договора')"
   ]
  },
  {
   "cell_type": "markdown",
   "id": "9a45fb7e",
   "metadata": {},
   "source": [
    "**Выводы:** \n",
    "* приобладает отток клиентов для категории с интернетом через оптоволокно;  \n",
    "* наименьший относительный отток наблюдается у тех, кто не пользуется интернетом."
   ]
  },
  {
   "cell_type": "code",
   "execution_count": 29,
   "id": "d4564e67",
   "metadata": {
    "scrolled": false
   },
   "outputs": [
    {
     "data": {
      "image/png": "[encoded data removed]",
      "text/plain": [
       "<Figure size 1080x720 with 9 Axes>"
      ]
     },
     "metadata": {},
     "output_type": "display_data"
    },
    {
     "data": {
      "text/html": [
       "<div>\n",
       "<style scoped>\n",
       "    .dataframe tbody tr th:only-of-type {\n",
       "        vertical-align: middle;\n",
       "    }\n",
       "\n",
       "    .dataframe tbody tr th {\n",
       "        vertical-align: top;\n",
       "    }\n",
       "\n",
       "    .dataframe thead th {\n",
       "        text-align: right;\n",
       "    }\n",
       "</style>\n",
       "<table border=\"1\" class=\"dataframe\">\n",
       "  <thead>\n",
       "    <tr style=\"text-align: right;\">\n",
       "      <th></th>\n",
       "      <th>MonthlyCharges</th>\n",
       "      <th>TotalCharges</th>\n",
       "      <th>SeniorCitizen</th>\n",
       "      <th>BeginYear</th>\n",
       "      <th>Target</th>\n",
       "      <th>Duration</th>\n",
       "    </tr>\n",
       "  </thead>\n",
       "  <tbody>\n",
       "    <tr>\n",
       "      <th>count</th>\n",
       "      <td>7,032.00</td>\n",
       "      <td>7,032.00</td>\n",
       "      <td>7,032.00</td>\n",
       "      <td>7,032.00</td>\n",
       "      <td>7,032.00</td>\n",
       "      <td>7,032.00</td>\n",
       "    </tr>\n",
       "    <tr>\n",
       "      <th>mean</th>\n",
       "      <td>64.80</td>\n",
       "      <td>2,283.30</td>\n",
       "      <td>0.16</td>\n",
       "      <td>2,016.87</td>\n",
       "      <td>0.73</td>\n",
       "      <td>987.54</td>\n",
       "    </tr>\n",
       "    <tr>\n",
       "      <th>std</th>\n",
       "      <td>30.09</td>\n",
       "      <td>2,266.77</td>\n",
       "      <td>0.37</td>\n",
       "      <td>1.97</td>\n",
       "      <td>0.44</td>\n",
       "      <td>747.15</td>\n",
       "    </tr>\n",
       "    <tr>\n",
       "      <th>min</th>\n",
       "      <td>18.25</td>\n",
       "      <td>18.80</td>\n",
       "      <td>0.00</td>\n",
       "      <td>2,013.00</td>\n",
       "      <td>0.00</td>\n",
       "      <td>30.00</td>\n",
       "    </tr>\n",
       "    <tr>\n",
       "      <th>25%</th>\n",
       "      <td>35.59</td>\n",
       "      <td>401.45</td>\n",
       "      <td>0.00</td>\n",
       "      <td>2,015.00</td>\n",
       "      <td>0.00</td>\n",
       "      <td>275.00</td>\n",
       "    </tr>\n",
       "    <tr>\n",
       "      <th>50%</th>\n",
       "      <td>70.35</td>\n",
       "      <td>1,397.47</td>\n",
       "      <td>0.00</td>\n",
       "      <td>2,017.00</td>\n",
       "      <td>1.00</td>\n",
       "      <td>883.00</td>\n",
       "    </tr>\n",
       "    <tr>\n",
       "      <th>75%</th>\n",
       "      <td>89.86</td>\n",
       "      <td>3,794.74</td>\n",
       "      <td>0.00</td>\n",
       "      <td>2,019.00</td>\n",
       "      <td>1.00</td>\n",
       "      <td>1,676.00</td>\n",
       "    </tr>\n",
       "    <tr>\n",
       "      <th>max</th>\n",
       "      <td>118.75</td>\n",
       "      <td>8,684.80</td>\n",
       "      <td>1.00</td>\n",
       "      <td>2,020.00</td>\n",
       "      <td>1.00</td>\n",
       "      <td>2,191.00</td>\n",
       "    </tr>\n",
       "  </tbody>\n",
       "</table>\n",
       "</div>"
      ],
      "text/plain": [
       "       MonthlyCharges  TotalCharges  SeniorCitizen  BeginYear   Target  \\\n",
       "count        7,032.00      7,032.00       7,032.00   7,032.00 7,032.00   \n",
       "mean            64.80      2,283.30           0.16   2,016.87     0.73   \n",
       "std             30.09      2,266.77           0.37       1.97     0.44   \n",
       "min             18.25         18.80           0.00   2,013.00     0.00   \n",
       "25%             35.59        401.45           0.00   2,015.00     0.00   \n",
       "50%             70.35      1,397.47           0.00   2,017.00     1.00   \n",
       "75%             89.86      3,794.74           0.00   2,019.00     1.00   \n",
       "max            118.75      8,684.80           1.00   2,020.00     1.00   \n",
       "\n",
       "       Duration  \n",
       "count  7,032.00  \n",
       "mean     987.54  \n",
       "std      747.15  \n",
       "min       30.00  \n",
       "25%      275.00  \n",
       "50%      883.00  \n",
       "75%    1,676.00  \n",
       "max    2,191.00  "
      ]
     },
     "execution_count": 29,
     "metadata": {},
     "output_type": "execute_result"
    }
   ],
   "source": [
    "# Проанализируем количественные данные:\n",
    "df.hist(bins=50, figsize=(15,10))\n",
    "plt.show()\n",
    "df.describe()"
   ]
  },
  {
   "cell_type": "markdown",
   "id": "b7470500",
   "metadata": {},
   "source": [
    "**Выводы**\n",
    "* По данным из столбца MonthlyCharges большое число абонентов имеют платежи в размере между 15 и 25.\n",
    "* Половина абонентов из выборки имеют общее число платежей не более 1394.\n",
    "* Распределение данных - логнормальное."
   ]
  },
  {
   "cell_type": "markdown",
   "id": "a64376b2",
   "metadata": {},
   "source": [
    "<div class=\"alert alert-success\" style=\"border-color: green; border-radius: 5px\">\n",
    "    <p><u><b>✅ КОММЕНТАРИЙ РЕВЬЮЕРА</b></u></p>\n",
    "СУПЕР. Напомню только, чтографический анализ - это предположение/гипотеза. И чтобы её подтвердить или опровергнуть также следует применять аналитические методы анализа из области \"проверка гипотез\"."
   ]
  },
  {
   "cell_type": "markdown",
   "id": "dfedb0b5",
   "metadata": {},
   "source": [
    "### Матрица корреляции"
   ]
  },
  {
   "cell_type": "code",
   "execution_count": 30,
   "id": "55206c67",
   "metadata": {},
   "outputs": [],
   "source": [
    "# Выведем матрицу корреляции данных датасета:\n",
    "#df_complete_corr=complete_correlation['corr']\n",
    "#df_complete_corr.dropna(axis=1, \n",
    "#                        how='all').dropna(axis=0, how='all').style.background_gradient(cmap='coolwarm', \n",
    "#                                                                            axis=None).set_precision(2)"
   ]
  },
  {
   "cell_type": "markdown",
   "id": "1543bd2f",
   "metadata": {},
   "source": [
    "<div class=\"alert alert-warning\" style=\"border-color: darkorange; border-radius: 5px\">\n",
    "    <p><u><b>⚠️ КОММЕНТАРИЙ РЕВЬЮЕРА</b></u></p>ОК, работа с мультиколлинеарностью - важна. Но есть важный момент по корреляциям: данная корреляция Спирмена/Пирсона - разрабатывался для количественных шкал. Если данные в бинарной шкале (пол, тип услуги....) - техника не подходит, лучше не опираться на данные выводы.<br>\n",
    "    \n",
    "Поэтому выводы можно делать только по количественным данным (в нашем случае - финансы и длительность контракта)"
   ]
  },
  {
   "cell_type": "markdown",
   "id": "c6885dd5",
   "metadata": {},
   "source": [
    "<div class=\"alert alert-block alert-warning\">\n",
    "<b>Комментарий студента:</b> Добавил ниже корреляции только численных признаков.\n",
    "</div>"
   ]
  },
  {
   "cell_type": "markdown",
   "id": "ddccbe0c",
   "metadata": {},
   "source": [
    "<div class=\"alert alert-success\" style=\"border-color: green; border-radius: 5px\">\n",
    "    <p><u><b>✅ КОММЕНТАРИЙ РЕВЬЮЕРА 2</b></u></p>\n",
    "    <p>Таргет - он бинарный. Его тоже Спимрменом/Пирсоном не смотрят)</p>\n",
    "</div>"
   ]
  },
  {
   "cell_type": "code",
   "execution_count": 31,
   "id": "ef031fda",
   "metadata": {},
   "outputs": [
    {
     "data": {
      "text/html": [
       "<div>\n",
       "<style scoped>\n",
       "    .dataframe tbody tr th:only-of-type {\n",
       "        vertical-align: middle;\n",
       "    }\n",
       "\n",
       "    .dataframe tbody tr th {\n",
       "        vertical-align: top;\n",
       "    }\n",
       "\n",
       "    .dataframe thead th {\n",
       "        text-align: right;\n",
       "    }\n",
       "</style>\n",
       "<table border=\"1\" class=\"dataframe\">\n",
       "  <thead>\n",
       "    <tr style=\"text-align: right;\">\n",
       "      <th></th>\n",
       "      <th>MonthlyCharges</th>\n",
       "      <th>TotalCharges</th>\n",
       "      <th>Duration</th>\n",
       "    </tr>\n",
       "  </thead>\n",
       "  <tbody>\n",
       "    <tr>\n",
       "      <th>MonthlyCharges</th>\n",
       "      <td>1.00</td>\n",
       "      <td>0.65</td>\n",
       "      <td>0.25</td>\n",
       "    </tr>\n",
       "    <tr>\n",
       "      <th>TotalCharges</th>\n",
       "      <td>0.65</td>\n",
       "      <td>1.00</td>\n",
       "      <td>0.83</td>\n",
       "    </tr>\n",
       "    <tr>\n",
       "      <th>Duration</th>\n",
       "      <td>0.25</td>\n",
       "      <td>0.83</td>\n",
       "      <td>1.00</td>\n",
       "    </tr>\n",
       "  </tbody>\n",
       "</table>\n",
       "</div>"
      ],
      "text/plain": [
       "                MonthlyCharges  TotalCharges  Duration\n",
       "MonthlyCharges            1.00          0.65      0.25\n",
       "TotalCharges              0.65          1.00      0.83\n",
       "Duration                  0.25          0.83      1.00"
      ]
     },
     "execution_count": 31,
     "metadata": {},
     "output_type": "execute_result"
    }
   ],
   "source": [
    "# Проанализируем численные признаки на корреляцию:\n",
    "df[['MonthlyCharges', 'TotalCharges', 'Duration']].corr()"
   ]
  },
  {
   "cell_type": "code",
   "execution_count": 32,
   "id": "384f7753",
   "metadata": {},
   "outputs": [
    {
     "data": {
      "text/plain": [
       "<seaborn.axisgrid.PairGrid at 0x1473323d0>"
      ]
     },
     "execution_count": 32,
     "metadata": {},
     "output_type": "execute_result"
    },
    {
     "data": {
      "image/png": "[encoded data removed]",
      "text/plain": [
       "<Figure size 540x540 with 12 Axes>"
      ]
     },
     "metadata": {},
     "output_type": "display_data"
    }
   ],
   "source": [
    "# Построим числовые данные на графике:\n",
    "sns.pairplot(df[['MonthlyCharges', 'TotalCharges', 'Duration']])"
   ]
  },
  {
   "cell_type": "markdown",
   "id": "e2cf91e2",
   "metadata": {},
   "source": [
    "**Вывод:** При сравнении видна сильная корреляция между парами TotalCharges-Duration - 0,83 и TotalCharges-MonthlyCharges 0,65."
   ]
  },
  {
   "cell_type": "markdown",
   "id": "0952e410",
   "metadata": {},
   "source": [
    "### Отбор и инжиниринг фичей"
   ]
  },
  {
   "cell_type": "markdown",
   "id": "f53096a4",
   "metadata": {},
   "source": [
    "* Поменяем тип столбца SeniorCitizen на string, тк это категориальный признак. "
   ]
  },
  {
   "cell_type": "code",
   "execution_count": 33,
   "id": "2e6a8249",
   "metadata": {},
   "outputs": [
    {
     "data": {
      "text/html": [
       "<div>\n",
       "<style scoped>\n",
       "    .dataframe tbody tr th:only-of-type {\n",
       "        vertical-align: middle;\n",
       "    }\n",
       "\n",
       "    .dataframe tbody tr th {\n",
       "        vertical-align: top;\n",
       "    }\n",
       "\n",
       "    .dataframe thead th {\n",
       "        text-align: right;\n",
       "    }\n",
       "</style>\n",
       "<table border=\"1\" class=\"dataframe\">\n",
       "  <thead>\n",
       "    <tr style=\"text-align: right;\">\n",
       "      <th></th>\n",
       "      <th>customerID</th>\n",
       "      <th>BeginDate</th>\n",
       "      <th>EndDate</th>\n",
       "      <th>Type</th>\n",
       "      <th>PaperlessBilling</th>\n",
       "      <th>PaymentMethod</th>\n",
       "      <th>MonthlyCharges</th>\n",
       "      <th>TotalCharges</th>\n",
       "      <th>Gender</th>\n",
       "      <th>SeniorCitizen</th>\n",
       "      <th>Partner</th>\n",
       "      <th>Dependents</th>\n",
       "      <th>InternetService</th>\n",
       "      <th>OnlineSecurity</th>\n",
       "      <th>OnlineBackup</th>\n",
       "      <th>DeviceProtection</th>\n",
       "      <th>TechSupport</th>\n",
       "      <th>StreamingTV</th>\n",
       "      <th>StreamingMovies</th>\n",
       "      <th>MultipleLines</th>\n",
       "      <th>BeginYear</th>\n",
       "      <th>Target</th>\n",
       "      <th>EndDate_time_and_date</th>\n",
       "      <th>Duration</th>\n",
       "    </tr>\n",
       "  </thead>\n",
       "  <tbody>\n",
       "    <tr>\n",
       "      <th>0</th>\n",
       "      <td>7590-VHVEG</td>\n",
       "      <td>2020-01-01</td>\n",
       "      <td>No</td>\n",
       "      <td>Month-to-month</td>\n",
       "      <td>Yes</td>\n",
       "      <td>Electronic check</td>\n",
       "      <td>29.85</td>\n",
       "      <td>29.85</td>\n",
       "      <td>Female</td>\n",
       "      <td>No</td>\n",
       "      <td>Yes</td>\n",
       "      <td>No</td>\n",
       "      <td>DSL</td>\n",
       "      <td>No</td>\n",
       "      <td>Yes</td>\n",
       "      <td>No</td>\n",
       "      <td>No</td>\n",
       "      <td>No</td>\n",
       "      <td>No</td>\n",
       "      <td>unknown</td>\n",
       "      <td>2020</td>\n",
       "      <td>1</td>\n",
       "      <td>2020-02-01</td>\n",
       "      <td>31.00</td>\n",
       "    </tr>\n",
       "    <tr>\n",
       "      <th>1</th>\n",
       "      <td>5575-GNVDE</td>\n",
       "      <td>2017-04-01</td>\n",
       "      <td>No</td>\n",
       "      <td>One year</td>\n",
       "      <td>No</td>\n",
       "      <td>Mailed check</td>\n",
       "      <td>56.95</td>\n",
       "      <td>1,889.50</td>\n",
       "      <td>Male</td>\n",
       "      <td>No</td>\n",
       "      <td>No</td>\n",
       "      <td>No</td>\n",
       "      <td>DSL</td>\n",
       "      <td>Yes</td>\n",
       "      <td>No</td>\n",
       "      <td>Yes</td>\n",
       "      <td>No</td>\n",
       "      <td>No</td>\n",
       "      <td>No</td>\n",
       "      <td>No</td>\n",
       "      <td>2017</td>\n",
       "      <td>1</td>\n",
       "      <td>2020-02-01</td>\n",
       "      <td>1,036.00</td>\n",
       "    </tr>\n",
       "  </tbody>\n",
       "</table>\n",
       "</div>"
      ],
      "text/plain": [
       "   customerID  BeginDate EndDate            Type PaperlessBilling  \\\n",
       "0  7590-VHVEG 2020-01-01      No  Month-to-month              Yes   \n",
       "1  5575-GNVDE 2017-04-01      No        One year               No   \n",
       "\n",
       "      PaymentMethod  MonthlyCharges  TotalCharges  Gender SeniorCitizen  \\\n",
       "0  Electronic check           29.85         29.85  Female            No   \n",
       "1      Mailed check           56.95      1,889.50    Male            No   \n",
       "\n",
       "  Partner Dependents InternetService OnlineSecurity OnlineBackup  \\\n",
       "0     Yes         No             DSL             No          Yes   \n",
       "1      No         No             DSL            Yes           No   \n",
       "\n",
       "  DeviceProtection TechSupport StreamingTV StreamingMovies MultipleLines  \\\n",
       "0               No          No          No              No       unknown   \n",
       "1              Yes          No          No              No            No   \n",
       "\n",
       "   BeginYear  Target EndDate_time_and_date  Duration  \n",
       "0       2020       1            2020-02-01     31.00  \n",
       "1       2017       1            2020-02-01  1,036.00  "
      ]
     },
     "execution_count": 33,
     "metadata": {},
     "output_type": "execute_result"
    }
   ],
   "source": [
    "# Заменим 0 и 1 в столбце SeniorCitizen на значения как в других категориальный столбцах:\n",
    "def senior(data):\n",
    "    if data == 0:\n",
    "        return 'No'\n",
    "    else:\n",
    "        return 'Yes'\n",
    "    return data\n",
    "\n",
    "df['SeniorCitizen'] = df['SeniorCitizen'].apply(senior)\n",
    "df.head(2)"
   ]
  },
  {
   "cell_type": "code",
   "execution_count": 34,
   "id": "e660250a",
   "metadata": {},
   "outputs": [
    {
     "data": {
      "text/html": [
       "<div>\n",
       "<style scoped>\n",
       "    .dataframe tbody tr th:only-of-type {\n",
       "        vertical-align: middle;\n",
       "    }\n",
       "\n",
       "    .dataframe tbody tr th {\n",
       "        vertical-align: top;\n",
       "    }\n",
       "\n",
       "    .dataframe thead th {\n",
       "        text-align: right;\n",
       "    }\n",
       "</style>\n",
       "<table border=\"1\" class=\"dataframe\">\n",
       "  <thead>\n",
       "    <tr style=\"text-align: right;\">\n",
       "      <th></th>\n",
       "      <th>customerID</th>\n",
       "      <th>Type</th>\n",
       "      <th>PaperlessBilling</th>\n",
       "      <th>PaymentMethod</th>\n",
       "      <th>MonthlyCharges</th>\n",
       "      <th>TotalCharges</th>\n",
       "      <th>Gender</th>\n",
       "      <th>SeniorCitizen</th>\n",
       "      <th>Partner</th>\n",
       "      <th>Dependents</th>\n",
       "      <th>InternetService</th>\n",
       "      <th>OnlineSecurity</th>\n",
       "      <th>OnlineBackup</th>\n",
       "      <th>DeviceProtection</th>\n",
       "      <th>TechSupport</th>\n",
       "      <th>StreamingTV</th>\n",
       "      <th>StreamingMovies</th>\n",
       "      <th>MultipleLines</th>\n",
       "      <th>Target</th>\n",
       "      <th>Duration</th>\n",
       "    </tr>\n",
       "  </thead>\n",
       "  <tbody>\n",
       "    <tr>\n",
       "      <th>0</th>\n",
       "      <td>7590-VHVEG</td>\n",
       "      <td>Month-to-month</td>\n",
       "      <td>Yes</td>\n",
       "      <td>Electronic check</td>\n",
       "      <td>29.85</td>\n",
       "      <td>29.85</td>\n",
       "      <td>Female</td>\n",
       "      <td>No</td>\n",
       "      <td>Yes</td>\n",
       "      <td>No</td>\n",
       "      <td>DSL</td>\n",
       "      <td>No</td>\n",
       "      <td>Yes</td>\n",
       "      <td>No</td>\n",
       "      <td>No</td>\n",
       "      <td>No</td>\n",
       "      <td>No</td>\n",
       "      <td>unknown</td>\n",
       "      <td>1</td>\n",
       "      <td>31.00</td>\n",
       "    </tr>\n",
       "    <tr>\n",
       "      <th>1</th>\n",
       "      <td>5575-GNVDE</td>\n",
       "      <td>One year</td>\n",
       "      <td>No</td>\n",
       "      <td>Mailed check</td>\n",
       "      <td>56.95</td>\n",
       "      <td>1,889.50</td>\n",
       "      <td>Male</td>\n",
       "      <td>No</td>\n",
       "      <td>No</td>\n",
       "      <td>No</td>\n",
       "      <td>DSL</td>\n",
       "      <td>Yes</td>\n",
       "      <td>No</td>\n",
       "      <td>Yes</td>\n",
       "      <td>No</td>\n",
       "      <td>No</td>\n",
       "      <td>No</td>\n",
       "      <td>No</td>\n",
       "      <td>1</td>\n",
       "      <td>1,036.00</td>\n",
       "    </tr>\n",
       "  </tbody>\n",
       "</table>\n",
       "</div>"
      ],
      "text/plain": [
       "   customerID            Type PaperlessBilling     PaymentMethod  \\\n",
       "0  7590-VHVEG  Month-to-month              Yes  Electronic check   \n",
       "1  5575-GNVDE        One year               No      Mailed check   \n",
       "\n",
       "   MonthlyCharges  TotalCharges  Gender SeniorCitizen Partner Dependents  \\\n",
       "0           29.85         29.85  Female            No     Yes         No   \n",
       "1           56.95      1,889.50    Male            No      No         No   \n",
       "\n",
       "  InternetService OnlineSecurity OnlineBackup DeviceProtection TechSupport  \\\n",
       "0             DSL             No          Yes               No          No   \n",
       "1             DSL            Yes           No              Yes          No   \n",
       "\n",
       "  StreamingTV StreamingMovies MultipleLines  Target  Duration  \n",
       "0          No              No       unknown       1     31.00  \n",
       "1          No              No            No       1  1,036.00  "
      ]
     },
     "execution_count": 34,
     "metadata": {},
     "output_type": "execute_result"
    }
   ],
   "source": [
    "# Удалим ненужные столбцы и которые создавались для анализа:\n",
    "df = df.drop(['BeginDate', 'EndDate', \n",
    "              'EndDate_time_and_date', 'BeginYear'], axis=1)\n",
    "\n",
    "df.head(2)"
   ]
  },
  {
   "cell_type": "markdown",
   "id": "00949811",
   "metadata": {},
   "source": [
    "<div class=\"alert alert-success\" style=\"border-color: green; border-radius: 5px\">\n",
    "    <p><u><b>✅ КОММЕНТАРИЙ РЕВЬЮЕРА</b></u></p>\n",
    "ОТЛИЧНО, что удаляешь факторы-даты!!!!! Если у нас тема НЕ временные ряды, то такие факторы лучше не использовать. Они \"нагонят\" метрики, но бизнес-эффективность модели  - рухнет."
   ]
  },
  {
   "cell_type": "code",
   "execution_count": 35,
   "id": "28842d4b",
   "metadata": {},
   "outputs": [
    {
     "data": {
      "text/html": [
       "<div>\n",
       "<style scoped>\n",
       "    .dataframe tbody tr th:only-of-type {\n",
       "        vertical-align: middle;\n",
       "    }\n",
       "\n",
       "    .dataframe tbody tr th {\n",
       "        vertical-align: top;\n",
       "    }\n",
       "\n",
       "    .dataframe thead th {\n",
       "        text-align: right;\n",
       "    }\n",
       "</style>\n",
       "<table border=\"1\" class=\"dataframe\">\n",
       "  <thead>\n",
       "    <tr style=\"text-align: right;\">\n",
       "      <th></th>\n",
       "      <th>customerID</th>\n",
       "      <th>Type</th>\n",
       "      <th>PaperlessBilling</th>\n",
       "      <th>PaymentMethod</th>\n",
       "      <th>MonthlyCharges</th>\n",
       "      <th>TotalCharges</th>\n",
       "      <th>Gender</th>\n",
       "      <th>SeniorCitizen</th>\n",
       "      <th>Partner</th>\n",
       "      <th>Dependents</th>\n",
       "      <th>InternetService</th>\n",
       "      <th>OnlineSecurity</th>\n",
       "      <th>OnlineBackup</th>\n",
       "      <th>DeviceProtection</th>\n",
       "      <th>TechSupport</th>\n",
       "      <th>StreamingTV</th>\n",
       "      <th>StreamingMovies</th>\n",
       "      <th>MultipleLines</th>\n",
       "      <th>Duration</th>\n",
       "    </tr>\n",
       "  </thead>\n",
       "  <tbody>\n",
       "    <tr>\n",
       "      <th>0</th>\n",
       "      <td>7590-VHVEG</td>\n",
       "      <td>Month-to-month</td>\n",
       "      <td>Yes</td>\n",
       "      <td>Electronic check</td>\n",
       "      <td>29.85</td>\n",
       "      <td>29.85</td>\n",
       "      <td>Female</td>\n",
       "      <td>No</td>\n",
       "      <td>Yes</td>\n",
       "      <td>No</td>\n",
       "      <td>DSL</td>\n",
       "      <td>No</td>\n",
       "      <td>Yes</td>\n",
       "      <td>No</td>\n",
       "      <td>No</td>\n",
       "      <td>No</td>\n",
       "      <td>No</td>\n",
       "      <td>unknown</td>\n",
       "      <td>31.00</td>\n",
       "    </tr>\n",
       "  </tbody>\n",
       "</table>\n",
       "</div>"
      ],
      "text/plain": [
       "   customerID            Type PaperlessBilling     PaymentMethod  \\\n",
       "0  7590-VHVEG  Month-to-month              Yes  Electronic check   \n",
       "\n",
       "   MonthlyCharges  TotalCharges  Gender SeniorCitizen Partner Dependents  \\\n",
       "0           29.85         29.85  Female            No     Yes         No   \n",
       "\n",
       "  InternetService OnlineSecurity OnlineBackup DeviceProtection TechSupport  \\\n",
       "0             DSL             No          Yes               No          No   \n",
       "\n",
       "  StreamingTV StreamingMovies MultipleLines  Duration  \n",
       "0          No              No       unknown     31.00  "
      ]
     },
     "execution_count": 35,
     "metadata": {},
     "output_type": "execute_result"
    }
   ],
   "source": [
    "# Разделим датасет на признаки и целевой признак:\n",
    "df_features = df.drop('Target', axis=1)\n",
    "df_labels = df['Target'].copy()\n",
    "df_features.head(1)"
   ]
  },
  {
   "cell_type": "code",
   "execution_count": 36,
   "id": "8f00989b",
   "metadata": {},
   "outputs": [],
   "source": [
    "# Используем ColumnTransformer для трансaормации цифровых и категориальных столбцов:\n",
    "num_features = ['MonthlyCharges', 'TotalCharges', 'Duration']\n",
    "cat_features = ['Type', 'PaperlessBilling','PaymentMethod', 'Gender', 'SeniorCitizen', 'Partner', 'Dependents', \n",
    "                'InternetService', 'OnlineSecurity', 'OnlineBackup', 'DeviceProtection', 'TechSupport', \n",
    "                'StreamingTV', 'StreamingMovies', 'MultipleLines']\n",
    "\n",
    "pipeline = ColumnTransformer([\n",
    "        (\"num\", StandardScaler(), num_features),\n",
    "        (\"cat\", OneHotEncoder(handle_unknown='ignore'), cat_features),\n",
    "    ])\n",
    "\n",
    "df_prepared = pipeline.fit_transform(df_features)"
   ]
  },
  {
   "cell_type": "markdown",
   "id": "77304902",
   "metadata": {},
   "source": [
    "<div class=\"alert alert-success\" style=\"border-color: green; border-radius: 5px\">\n",
    "    <p><u><b>✅ КОММЕНТАРИЙ РЕВЬЮЕРА</b></u></p>\n",
    "    <p>👍</p>\n",
    "</div>"
   ]
  },
  {
   "cell_type": "code",
   "execution_count": 37,
   "id": "0acbc60e",
   "metadata": {},
   "outputs": [
    {
     "name": "stdout",
     "output_type": "stream",
     "text": [
      "Кол-во записей в обучающей выборке: (5625, 44)\n",
      "Кол-во записей в тестовой выборке: (1407, 44)\n"
     ]
    }
   ],
   "source": [
    "# Разделим данные на тренировочную и тестовую выборки: \n",
    "features_train, features_test, target_train, target_test = train_test_split(\n",
    "    df_prepared, df_labels, test_size=0.2, random_state=42, stratify=df_labels)\n",
    "\n",
    "# Распечатаем размеры выборок:\n",
    "print(f\"Кол-во записей в обучающей выборке: {features_train.shape}\")\n",
    "print(f\"Кол-во записей в тестовой выборке: {features_test.shape}\")"
   ]
  },
  {
   "cell_type": "markdown",
   "id": "6bc7ca3a",
   "metadata": {},
   "source": [
    "## Вопросы к тим лид"
   ]
  },
  {
   "cell_type": "markdown",
   "id": "27d55290",
   "metadata": {},
   "source": [
    "1. Насколько выборка данных хорошо отражает все данные телеком оператора? Применялось ли stratified sampling для создания выборки? Очень много договоров, которые действуют с 2014 года, остальные с 2019. \n",
    "2. Можем ли мы заменить пропуски в датасетах Internet и Phone на значения Unknown или есть другая практика?\n",
    "2. Следует ли делать stratified sampling для тестовой выборки вместо random sampling, тк данных немного (у телеком операторов по 60-70 млн. абонентов)?\n",
    "3. Добавил в датасет срок действия договора. Какие еще фичи можно создать для улучшения модели?\n",
    "4. Стоит ли здесь делать Pipeline для обработки датасета, чтобы потом использовать его в случае обновления датасета? Насколько должен быть код готов для MLOps?"
   ]
  },
  {
   "cell_type": "markdown",
   "id": "b48ade32",
   "metadata": {},
   "source": [
    "<div class=\"alert alert-success\">\n",
    "<b>Про план работы</b> \n",
    "    \n",
    "    \n",
    "Отличный план, хороший анализ данных.  \n",
    "Кажется, на твои вопросы я вчера ответил на встрече. Если что-то пропустил, напиши в слаке в канале.\n",
    "    \n",
    "План принимается, можно приступать к работе.\n",
    "</div>"
   ]
  },
  {
   "cell_type": "markdown",
   "id": "7c19a348",
   "metadata": {},
   "source": [
    "## Обучение моделей ML"
   ]
  },
  {
   "cell_type": "markdown",
   "id": "85c9455a",
   "metadata": {},
   "source": [
    "### Обучение моделей и отбор лучшей через cross validation"
   ]
  },
  {
   "cell_type": "code",
   "execution_count": 38,
   "id": "45a1c3df",
   "metadata": {},
   "outputs": [
    {
     "data": {
      "text/html": [
       "<style>#sk-container-id-1 {color: black;background-color: white;}#sk-container-id-1 pre{padding: 0;}#sk-container-id-1 div.sk-toggleable {background-color: white;}#sk-container-id-1 label.sk-toggleable__label {cursor: pointer;display: block;width: 100%;margin-bottom: 0;padding: 0.3em;box-sizing: border-box;text-align: center;}#sk-container-id-1 label.sk-toggleable__label-arrow:before {content: \"▸\";float: left;margin-right: 0.25em;color: #696969;}#sk-container-id-1 label.sk-toggleable__label-arrow:hover:before {color: black;}#sk-container-id-1 div.sk-estimator:hover label.sk-toggleable__label-arrow:before {color: black;}#sk-container-id-1 div.sk-toggleable__content {max-height: 0;max-width: 0;overflow: hidden;text-align: left;background-color: #f0f8ff;}#sk-container-id-1 div.sk-toggleable__content pre {margin: 0.2em;color: black;border-radius: 0.25em;background-color: #f0f8ff;}#sk-container-id-1 input.sk-toggleable__control:checked~div.sk-toggleable__content {max-height: 200px;max-width: 100%;overflow: auto;}#sk-container-id-1 input.sk-toggleable__control:checked~label.sk-toggleable__label-arrow:before {content: \"▾\";}#sk-container-id-1 div.sk-estimator input.sk-toggleable__control:checked~label.sk-toggleable__label {background-color: #d4ebff;}#sk-container-id-1 div.sk-label input.sk-toggleable__control:checked~label.sk-toggleable__label {background-color: #d4ebff;}#sk-container-id-1 input.sk-hidden--visually {border: 0;clip: rect(1px 1px 1px 1px);clip: rect(1px, 1px, 1px, 1px);height: 1px;margin: -1px;overflow: hidden;padding: 0;position: absolute;width: 1px;}#sk-container-id-1 div.sk-estimator {font-family: monospace;background-color: #f0f8ff;border: 1px dotted black;border-radius: 0.25em;box-sizing: border-box;margin-bottom: 0.5em;}#sk-container-id-1 div.sk-estimator:hover {background-color: #d4ebff;}#sk-container-id-1 div.sk-parallel-item::after {content: \"\";width: 100%;border-bottom: 1px solid gray;flex-grow: 1;}#sk-container-id-1 div.sk-label:hover label.sk-toggleable__label {background-color: #d4ebff;}#sk-container-id-1 div.sk-serial::before {content: \"\";position: absolute;border-left: 1px solid gray;box-sizing: border-box;top: 0;bottom: 0;left: 50%;z-index: 0;}#sk-container-id-1 div.sk-serial {display: flex;flex-direction: column;align-items: center;background-color: white;padding-right: 0.2em;padding-left: 0.2em;position: relative;}#sk-container-id-1 div.sk-item {position: relative;z-index: 1;}#sk-container-id-1 div.sk-parallel {display: flex;align-items: stretch;justify-content: center;background-color: white;position: relative;}#sk-container-id-1 div.sk-item::before, #sk-container-id-1 div.sk-parallel-item::before {content: \"\";position: absolute;border-left: 1px solid gray;box-sizing: border-box;top: 0;bottom: 0;left: 50%;z-index: -1;}#sk-container-id-1 div.sk-parallel-item {display: flex;flex-direction: column;z-index: 1;position: relative;background-color: white;}#sk-container-id-1 div.sk-parallel-item:first-child::after {align-self: flex-end;width: 50%;}#sk-container-id-1 div.sk-parallel-item:last-child::after {align-self: flex-start;width: 50%;}#sk-container-id-1 div.sk-parallel-item:only-child::after {width: 0;}#sk-container-id-1 div.sk-dashed-wrapped {border: 1px dashed gray;margin: 0 0.4em 0.5em 0.4em;box-sizing: border-box;padding-bottom: 0.4em;background-color: white;}#sk-container-id-1 div.sk-label label {font-family: monospace;font-weight: bold;display: inline-block;line-height: 1.2em;}#sk-container-id-1 div.sk-label-container {text-align: center;}#sk-container-id-1 div.sk-container {/* jupyter's `normalize.less` sets `[hidden] { display: none; }` but bootstrap.min.css set `[hidden] { display: none !important; }` so we also need the `!important` here to be able to override the default hidden behavior on the sphinx rendered scikit-learn.org. See: https://github.com/scikit-learn/scikit-learn/issues/21755 */display: inline-block !important;position: relative;}#sk-container-id-1 div.sk-text-repr-fallback {display: none;}</style><div id=\"sk-container-id-1\" class=\"sk-top-container\"><div class=\"sk-text-repr-fallback\"><pre>LogisticRegression()</pre><b>In a Jupyter environment, please rerun this cell to show the HTML representation or trust the notebook. <br />On GitHub, the HTML representation is unable to render, please try loading this page with nbviewer.org.</b></div><div class=\"sk-container\" hidden><div class=\"sk-item\"><div class=\"sk-estimator sk-toggleable\"><input class=\"sk-toggleable__control sk-hidden--visually\" id=\"sk-estimator-id-1\" type=\"checkbox\" checked><label for=\"sk-estimator-id-1\" class=\"sk-toggleable__label sk-toggleable__label-arrow\">LogisticRegression</label><div class=\"sk-toggleable__content\"><pre>LogisticRegression()</pre></div></div></div></div></div>"
      ],
      "text/plain": [
       "LogisticRegression()"
      ]
     },
     "execution_count": 38,
     "metadata": {},
     "output_type": "execute_result"
    }
   ],
   "source": [
    "# Обучим модель LogisticRegression:\n",
    "log_cl = LogisticRegression()\n",
    "log_cl.fit(features_train, target_train)"
   ]
  },
  {
   "cell_type": "code",
   "execution_count": 39,
   "id": "a33cd52f",
   "metadata": {},
   "outputs": [],
   "source": [
    "# Напишем функцию для отображения метрик:\n",
    "def display_scores(scores):\n",
    "    print(\"Mean:\", scores.mean()*100)\n",
    "    print(\"Standard deviation:\", scores.std()*100)"
   ]
  },
  {
   "cell_type": "code",
   "execution_count": 40,
   "id": "329683af",
   "metadata": {},
   "outputs": [
    {
     "name": "stdout",
     "output_type": "stream",
     "text": [
      "ROC-AUC mean: 84.50242401590371\n",
      "ROC-AUC std: 1.949511688539766\n",
      "\n",
      "Accuracy mean: 80.4444289931291\n",
      "Accuracy std: 1.6786188553556278\n"
     ]
    }
   ],
   "source": [
    "# Проверим модель используя Cros-Validation:\n",
    "scores_rc = cross_val_score(log_cl, features_train, target_train,\n",
    "                         scoring=\"roc_auc\", cv=10)\n",
    "\n",
    "scores_ac = cross_val_score(log_cl, features_train, target_train,\n",
    "                         scoring=\"accuracy\", cv=10)\n",
    "\n",
    "roc_scores_lr1 = scores_rc.mean()*100\n",
    "roc_scores_lr2 = scores_rc.std()*100\n",
    "ac_scores_lr1 = scores_ac.mean()*100\n",
    "ac_scores_lr2 = scores_ac.std()*100\n",
    "print(f\"ROC-AUC mean: {roc_scores_lr1}\")\n",
    "print(f\"ROC-AUC std: {roc_scores_lr2}\")\n",
    "print()\n",
    "print(f\"Accuracy mean: {ac_scores_lr1}\")\n",
    "print(f\"Accuracy std: {ac_scores_lr2}\")"
   ]
  },
  {
   "cell_type": "code",
   "execution_count": 41,
   "id": "0f837fa0",
   "metadata": {},
   "outputs": [
    {
     "data": {
      "text/html": [
       "<style>#sk-container-id-2 {color: black;background-color: white;}#sk-container-id-2 pre{padding: 0;}#sk-container-id-2 div.sk-toggleable {background-color: white;}#sk-container-id-2 label.sk-toggleable__label {cursor: pointer;display: block;width: 100%;margin-bottom: 0;padding: 0.3em;box-sizing: border-box;text-align: center;}#sk-container-id-2 label.sk-toggleable__label-arrow:before {content: \"▸\";float: left;margin-right: 0.25em;color: #696969;}#sk-container-id-2 label.sk-toggleable__label-arrow:hover:before {color: black;}#sk-container-id-2 div.sk-estimator:hover label.sk-toggleable__label-arrow:before {color: black;}#sk-container-id-2 div.sk-toggleable__content {max-height: 0;max-width: 0;overflow: hidden;text-align: left;background-color: #f0f8ff;}#sk-container-id-2 div.sk-toggleable__content pre {margin: 0.2em;color: black;border-radius: 0.25em;background-color: #f0f8ff;}#sk-container-id-2 input.sk-toggleable__control:checked~div.sk-toggleable__content {max-height: 200px;max-width: 100%;overflow: auto;}#sk-container-id-2 input.sk-toggleable__control:checked~label.sk-toggleable__label-arrow:before {content: \"▾\";}#sk-container-id-2 div.sk-estimator input.sk-toggleable__control:checked~label.sk-toggleable__label {background-color: #d4ebff;}#sk-container-id-2 div.sk-label input.sk-toggleable__control:checked~label.sk-toggleable__label {background-color: #d4ebff;}#sk-container-id-2 input.sk-hidden--visually {border: 0;clip: rect(1px 1px 1px 1px);clip: rect(1px, 1px, 1px, 1px);height: 1px;margin: -1px;overflow: hidden;padding: 0;position: absolute;width: 1px;}#sk-container-id-2 div.sk-estimator {font-family: monospace;background-color: #f0f8ff;border: 1px dotted black;border-radius: 0.25em;box-sizing: border-box;margin-bottom: 0.5em;}#sk-container-id-2 div.sk-estimator:hover {background-color: #d4ebff;}#sk-container-id-2 div.sk-parallel-item::after {content: \"\";width: 100%;border-bottom: 1px solid gray;flex-grow: 1;}#sk-container-id-2 div.sk-label:hover label.sk-toggleable__label {background-color: #d4ebff;}#sk-container-id-2 div.sk-serial::before {content: \"\";position: absolute;border-left: 1px solid gray;box-sizing: border-box;top: 0;bottom: 0;left: 50%;z-index: 0;}#sk-container-id-2 div.sk-serial {display: flex;flex-direction: column;align-items: center;background-color: white;padding-right: 0.2em;padding-left: 0.2em;position: relative;}#sk-container-id-2 div.sk-item {position: relative;z-index: 1;}#sk-container-id-2 div.sk-parallel {display: flex;align-items: stretch;justify-content: center;background-color: white;position: relative;}#sk-container-id-2 div.sk-item::before, #sk-container-id-2 div.sk-parallel-item::before {content: \"\";position: absolute;border-left: 1px solid gray;box-sizing: border-box;top: 0;bottom: 0;left: 50%;z-index: -1;}#sk-container-id-2 div.sk-parallel-item {display: flex;flex-direction: column;z-index: 1;position: relative;background-color: white;}#sk-container-id-2 div.sk-parallel-item:first-child::after {align-self: flex-end;width: 50%;}#sk-container-id-2 div.sk-parallel-item:last-child::after {align-self: flex-start;width: 50%;}#sk-container-id-2 div.sk-parallel-item:only-child::after {width: 0;}#sk-container-id-2 div.sk-dashed-wrapped {border: 1px dashed gray;margin: 0 0.4em 0.5em 0.4em;box-sizing: border-box;padding-bottom: 0.4em;background-color: white;}#sk-container-id-2 div.sk-label label {font-family: monospace;font-weight: bold;display: inline-block;line-height: 1.2em;}#sk-container-id-2 div.sk-label-container {text-align: center;}#sk-container-id-2 div.sk-container {/* jupyter's `normalize.less` sets `[hidden] { display: none; }` but bootstrap.min.css set `[hidden] { display: none !important; }` so we also need the `!important` here to be able to override the default hidden behavior on the sphinx rendered scikit-learn.org. See: https://github.com/scikit-learn/scikit-learn/issues/21755 */display: inline-block !important;position: relative;}#sk-container-id-2 div.sk-text-repr-fallback {display: none;}</style><div id=\"sk-container-id-2\" class=\"sk-top-container\"><div class=\"sk-text-repr-fallback\"><pre>DecisionTreeClassifier()</pre><b>In a Jupyter environment, please rerun this cell to show the HTML representation or trust the notebook. <br />On GitHub, the HTML representation is unable to render, please try loading this page with nbviewer.org.</b></div><div class=\"sk-container\" hidden><div class=\"sk-item\"><div class=\"sk-estimator sk-toggleable\"><input class=\"sk-toggleable__control sk-hidden--visually\" id=\"sk-estimator-id-2\" type=\"checkbox\" checked><label for=\"sk-estimator-id-2\" class=\"sk-toggleable__label sk-toggleable__label-arrow\">DecisionTreeClassifier</label><div class=\"sk-toggleable__content\"><pre>DecisionTreeClassifier()</pre></div></div></div></div></div>"
      ],
      "text/plain": [
       "DecisionTreeClassifier()"
      ]
     },
     "execution_count": 41,
     "metadata": {},
     "output_type": "execute_result"
    }
   ],
   "source": [
    "# Обучим модель DecisionTreeClassifier:\n",
    "tree_cl = DecisionTreeClassifier()\n",
    "tree_cl.fit(features_train, target_train)"
   ]
  },
  {
   "cell_type": "code",
   "execution_count": 42,
   "id": "998b2bad",
   "metadata": {},
   "outputs": [
    {
     "name": "stdout",
     "output_type": "stream",
     "text": [
      "ROC-AUC mean: 70.46554701507495\n",
      "ROC-AUC std: 1.9818594111758323\n",
      "\n",
      "Accuracy mean: 76.81823353539438\n",
      "Accuracy std: 1.5410224955084582\n"
     ]
    }
   ],
   "source": [
    "# Проверим модель используя Cros-Validation:\n",
    "scores_rc = cross_val_score(tree_cl, features_train, target_train,\n",
    "                         scoring=\"roc_auc\", cv=10)\n",
    "\n",
    "scores_ac = cross_val_score(tree_cl, features_train, target_train,\n",
    "                         scoring=\"accuracy\", cv=10)\n",
    "\n",
    "roc_scores_dt1 = scores_rc.mean()*100\n",
    "roc_scores_dt2 = scores_rc.std()*100\n",
    "ac_scores_dt1 = scores_ac.mean()*100\n",
    "ac_scores_dt2 = scores_ac.std()*100\n",
    "print(f\"ROC-AUC mean: {roc_scores_dt1}\")\n",
    "print(f\"ROC-AUC std: {roc_scores_dt2}\")\n",
    "print()\n",
    "print(f\"Accuracy mean: {ac_scores_dt1}\")\n",
    "print(f\"Accuracy std: {ac_scores_dt2}\")"
   ]
  },
  {
   "cell_type": "code",
   "execution_count": 43,
   "id": "f57b604d",
   "metadata": {},
   "outputs": [
    {
     "data": {
      "text/html": [
       "<style>#sk-container-id-3 {color: black;background-color: white;}#sk-container-id-3 pre{padding: 0;}#sk-container-id-3 div.sk-toggleable {background-color: white;}#sk-container-id-3 label.sk-toggleable__label {cursor: pointer;display: block;width: 100%;margin-bottom: 0;padding: 0.3em;box-sizing: border-box;text-align: center;}#sk-container-id-3 label.sk-toggleable__label-arrow:before {content: \"▸\";float: left;margin-right: 0.25em;color: #696969;}#sk-container-id-3 label.sk-toggleable__label-arrow:hover:before {color: black;}#sk-container-id-3 div.sk-estimator:hover label.sk-toggleable__label-arrow:before {color: black;}#sk-container-id-3 div.sk-toggleable__content {max-height: 0;max-width: 0;overflow: hidden;text-align: left;background-color: #f0f8ff;}#sk-container-id-3 div.sk-toggleable__content pre {margin: 0.2em;color: black;border-radius: 0.25em;background-color: #f0f8ff;}#sk-container-id-3 input.sk-toggleable__control:checked~div.sk-toggleable__content {max-height: 200px;max-width: 100%;overflow: auto;}#sk-container-id-3 input.sk-toggleable__control:checked~label.sk-toggleable__label-arrow:before {content: \"▾\";}#sk-container-id-3 div.sk-estimator input.sk-toggleable__control:checked~label.sk-toggleable__label {background-color: #d4ebff;}#sk-container-id-3 div.sk-label input.sk-toggleable__control:checked~label.sk-toggleable__label {background-color: #d4ebff;}#sk-container-id-3 input.sk-hidden--visually {border: 0;clip: rect(1px 1px 1px 1px);clip: rect(1px, 1px, 1px, 1px);height: 1px;margin: -1px;overflow: hidden;padding: 0;position: absolute;width: 1px;}#sk-container-id-3 div.sk-estimator {font-family: monospace;background-color: #f0f8ff;border: 1px dotted black;border-radius: 0.25em;box-sizing: border-box;margin-bottom: 0.5em;}#sk-container-id-3 div.sk-estimator:hover {background-color: #d4ebff;}#sk-container-id-3 div.sk-parallel-item::after {content: \"\";width: 100%;border-bottom: 1px solid gray;flex-grow: 1;}#sk-container-id-3 div.sk-label:hover label.sk-toggleable__label {background-color: #d4ebff;}#sk-container-id-3 div.sk-serial::before {content: \"\";position: absolute;border-left: 1px solid gray;box-sizing: border-box;top: 0;bottom: 0;left: 50%;z-index: 0;}#sk-container-id-3 div.sk-serial {display: flex;flex-direction: column;align-items: center;background-color: white;padding-right: 0.2em;padding-left: 0.2em;position: relative;}#sk-container-id-3 div.sk-item {position: relative;z-index: 1;}#sk-container-id-3 div.sk-parallel {display: flex;align-items: stretch;justify-content: center;background-color: white;position: relative;}#sk-container-id-3 div.sk-item::before, #sk-container-id-3 div.sk-parallel-item::before {content: \"\";position: absolute;border-left: 1px solid gray;box-sizing: border-box;top: 0;bottom: 0;left: 50%;z-index: -1;}#sk-container-id-3 div.sk-parallel-item {display: flex;flex-direction: column;z-index: 1;position: relative;background-color: white;}#sk-container-id-3 div.sk-parallel-item:first-child::after {align-self: flex-end;width: 50%;}#sk-container-id-3 div.sk-parallel-item:last-child::after {align-self: flex-start;width: 50%;}#sk-container-id-3 div.sk-parallel-item:only-child::after {width: 0;}#sk-container-id-3 div.sk-dashed-wrapped {border: 1px dashed gray;margin: 0 0.4em 0.5em 0.4em;box-sizing: border-box;padding-bottom: 0.4em;background-color: white;}#sk-container-id-3 div.sk-label label {font-family: monospace;font-weight: bold;display: inline-block;line-height: 1.2em;}#sk-container-id-3 div.sk-label-container {text-align: center;}#sk-container-id-3 div.sk-container {/* jupyter's `normalize.less` sets `[hidden] { display: none; }` but bootstrap.min.css set `[hidden] { display: none !important; }` so we also need the `!important` here to be able to override the default hidden behavior on the sphinx rendered scikit-learn.org. See: https://github.com/scikit-learn/scikit-learn/issues/21755 */display: inline-block !important;position: relative;}#sk-container-id-3 div.sk-text-repr-fallback {display: none;}</style><div id=\"sk-container-id-3\" class=\"sk-top-container\"><div class=\"sk-text-repr-fallback\"><pre>RandomForestClassifier()</pre><b>In a Jupyter environment, please rerun this cell to show the HTML representation or trust the notebook. <br />On GitHub, the HTML representation is unable to render, please try loading this page with nbviewer.org.</b></div><div class=\"sk-container\" hidden><div class=\"sk-item\"><div class=\"sk-estimator sk-toggleable\"><input class=\"sk-toggleable__control sk-hidden--visually\" id=\"sk-estimator-id-3\" type=\"checkbox\" checked><label for=\"sk-estimator-id-3\" class=\"sk-toggleable__label sk-toggleable__label-arrow\">RandomForestClassifier</label><div class=\"sk-toggleable__content\"><pre>RandomForestClassifier()</pre></div></div></div></div></div>"
      ],
      "text/plain": [
       "RandomForestClassifier()"
      ]
     },
     "execution_count": 43,
     "metadata": {},
     "output_type": "execute_result"
    }
   ],
   "source": [
    "# Обучим модель RandomForestClassifier:\n",
    "forest_cl = RandomForestClassifier()\n",
    "forest_cl.fit(features_train, target_train)"
   ]
  },
  {
   "cell_type": "code",
   "execution_count": 44,
   "id": "23b923b4",
   "metadata": {
    "scrolled": true
   },
   "outputs": [
    {
     "name": "stdout",
     "output_type": "stream",
     "text": [
      "ROC-AUC mean: 83.76205805721219\n",
      "ROC-AUC std: 1.866848933925535\n",
      "\n",
      "Accuracy mean: 80.51557176539002\n",
      "Accuracy std: 0.8598692882794967\n"
     ]
    }
   ],
   "source": [
    "# Проверим модель используя Cros-Validation:\n",
    "scores_rc = cross_val_score(forest_cl, features_train, target_train,\n",
    "                         scoring=\"roc_auc\", cv=10)\n",
    "\n",
    "scores_ac = cross_val_score(forest_cl, features_train, target_train,\n",
    "                         scoring=\"accuracy\", cv=10)\n",
    "\n",
    "roc_scores_rf1 = scores_rc.mean()*100\n",
    "roc_scores_rf2 = scores_rc.std()*100\n",
    "ac_scores_rf1 = scores_ac.mean()*100\n",
    "ac_scores_rf2 = scores_ac.std()*100\n",
    "print(f\"ROC-AUC mean: {roc_scores_rf1}\")\n",
    "print(f\"ROC-AUC std: {roc_scores_rf2}\")\n",
    "print()\n",
    "print(f\"Accuracy mean: {ac_scores_rf1}\")\n",
    "print(f\"Accuracy std: {ac_scores_rf2}\")"
   ]
  },
  {
   "cell_type": "code",
   "execution_count": 45,
   "id": "c0518750",
   "metadata": {},
   "outputs": [
    {
     "data": {
      "text/plain": [
       "<catboost.core.CatBoostClassifier at 0x147b24190>"
      ]
     },
     "execution_count": 45,
     "metadata": {},
     "output_type": "execute_result"
    }
   ],
   "source": [
    "# Обучим модель CatBoostClassifier:\n",
    "catboost_cl = CatBoostClassifier(logging_level='Silent')\n",
    "catboost_cl.fit(features_train, target_train)"
   ]
  },
  {
   "cell_type": "code",
   "execution_count": 46,
   "id": "e13e9d09",
   "metadata": {},
   "outputs": [
    {
     "name": "stdout",
     "output_type": "stream",
     "text": [
      "ROC-AUC mean: 89.50514920562695\n",
      "ROC-AUC std: 1.5680866536866975\n"
     ]
    }
   ],
   "source": [
    "# Проверим модель используя Cros-Validation:\n",
    "scores_rc = cross_val_score(catboost_cl, features_train, target_train,\n",
    "                         scoring=\"roc_auc\", cv=10)\n",
    "\n",
    "roc_scores_cb1 = scores_rc.mean()*100\n",
    "roc_scores_cb2 = scores_rc.std()*100\n",
    "print(f\"ROC-AUC mean: {roc_scores_cb1}\")\n",
    "print(f\"ROC-AUC std: {roc_scores_cb2}\")"
   ]
  },
  {
   "cell_type": "code",
   "execution_count": 47,
   "id": "62ee597d",
   "metadata": {
    "scrolled": true
   },
   "outputs": [
    {
     "name": "stdout",
     "output_type": "stream",
     "text": [
      "Accuracy mean: 85.22670240134511\n",
      "Accuracy std: 1.138688002560281\n"
     ]
    }
   ],
   "source": [
    "# Проверим модель используя Cros-Validation:\n",
    "scores_ac = cross_val_score(catboost_cl, features_train, target_train,\n",
    "                         scoring=\"accuracy\", cv=10)\n",
    "\n",
    "ac_scores_cb1 = scores_ac.mean()*100\n",
    "ac_scores_cb2 = scores_ac.std()*100\n",
    "print(f\"Accuracy mean: {ac_scores_cb1}\")\n",
    "print(f\"Accuracy std: {ac_scores_cb2}\")"
   ]
  },
  {
   "cell_type": "code",
   "execution_count": 48,
   "id": "a0e979ac",
   "metadata": {
    "scrolled": true
   },
   "outputs": [
    {
     "data": {
      "text/html": [
       "<div>\n",
       "<style scoped>\n",
       "    .dataframe tbody tr th:only-of-type {\n",
       "        vertical-align: middle;\n",
       "    }\n",
       "\n",
       "    .dataframe tbody tr th {\n",
       "        vertical-align: top;\n",
       "    }\n",
       "\n",
       "    .dataframe thead th {\n",
       "        text-align: right;\n",
       "    }\n",
       "</style>\n",
       "<table border=\"1\" class=\"dataframe\">\n",
       "  <thead>\n",
       "    <tr style=\"text-align: right;\">\n",
       "      <th></th>\n",
       "      <th>model</th>\n",
       "      <th>ROC-AUC</th>\n",
       "      <th>Accuracy</th>\n",
       "    </tr>\n",
       "  </thead>\n",
       "  <tbody>\n",
       "    <tr>\n",
       "      <th>0</th>\n",
       "      <td>CatBoostClassifier</td>\n",
       "      <td>89.51</td>\n",
       "      <td>85.23</td>\n",
       "    </tr>\n",
       "    <tr>\n",
       "      <th>1</th>\n",
       "      <td>LogisticRegression</td>\n",
       "      <td>84.50</td>\n",
       "      <td>80.44</td>\n",
       "    </tr>\n",
       "    <tr>\n",
       "      <th>2</th>\n",
       "      <td>RandomForestClassifier</td>\n",
       "      <td>83.76</td>\n",
       "      <td>80.52</td>\n",
       "    </tr>\n",
       "    <tr>\n",
       "      <th>3</th>\n",
       "      <td>DecisionTreeClassifier</td>\n",
       "      <td>70.47</td>\n",
       "      <td>76.82</td>\n",
       "    </tr>\n",
       "  </tbody>\n",
       "</table>\n",
       "</div>"
      ],
      "text/plain": [
       "                    model  ROC-AUC  Accuracy\n",
       "0      CatBoostClassifier    89.51     85.23\n",
       "1      LogisticRegression    84.50     80.44\n",
       "2  RandomForestClassifier    83.76     80.52\n",
       "3  DecisionTreeClassifier    70.47     76.82"
      ]
     },
     "metadata": {},
     "output_type": "display_data"
    }
   ],
   "source": [
    "# Соберем полученные данные в единую таблицу:\n",
    "metrics = pd.DataFrame({'model':['LogisticRegression','DecisionTreeClassifier','RandomForestClassifier',\n",
    "                                 'CatBoostClassifier'],\n",
    "                       'ROC-AUC':[roc_scores_lr1, roc_scores_dt1, roc_scores_rf1, roc_scores_cb1],\n",
    "                       'Accuracy':[ac_scores_lr1, ac_scores_dt1, ac_scores_rf1, ac_scores_cb1]})\n",
    "\n",
    "display(metrics.sort_values(by=['ROC-AUC'], ascending=False).reset_index(drop=True))"
   ]
  },
  {
   "cell_type": "markdown",
   "id": "32482c9c",
   "metadata": {},
   "source": [
    "**Вывод:** Лучше всего себя показала модель CatBoostClassifier. Проведем улучшение модели через Grid Search."
   ]
  },
  {
   "cell_type": "markdown",
   "id": "439a53a4",
   "metadata": {},
   "source": [
    "<div class=\"alert alert-success\" style=\"border-color: green; border-radius: 5px\">\n",
    "    <p><u><b>✅ КОММЕНТАРИЙ РЕВЬЮЕРА</b></u></p>\n",
    "    <p>Модельная часть - ОК!</p>\n",
    "</div>"
   ]
  },
  {
   "cell_type": "markdown",
   "id": "686b0da4",
   "metadata": {},
   "source": [
    "### GridSearch модели CatBoostClassifier"
   ]
  },
  {
   "cell_type": "code",
   "execution_count": 49,
   "id": "4b8fbb18",
   "metadata": {},
   "outputs": [],
   "source": [
    "# Обучим модель CatBoostClassifier:\n",
    "classifier = CatBoostClassifier()\n",
    "    \n",
    "parameters = [\n",
    "              {'learning_rate': [0.1, 0,2], 'iterations': range(100, 200, 50),\n",
    "              'logging_level' : ['Silent']}\n",
    "              \n",
    "             ]"
   ]
  },
  {
   "cell_type": "code",
   "execution_count": 50,
   "id": "f763bc43",
   "metadata": {
    "scrolled": true
   },
   "outputs": [
    {
     "name": "stderr",
     "output_type": "stream",
     "text": [
      "learning rate is greater than 1. You probably need to decrease learning rate.\n",
      "learning rate is greater than 1. You probably need to decrease learning rate.\n",
      "learning rate is greater than 1. You probably need to decrease learning rate.\n",
      "learning rate is greater than 1. You probably need to decrease learning rate.\n",
      "learning rate is greater than 1. You probably need to decrease learning rate.\n",
      "learning rate is greater than 1. You probably need to decrease learning rate.\n",
      "learning rate is greater than 1. You probably need to decrease learning rate.\n",
      "learning rate is greater than 1. You probably need to decrease learning rate.\n",
      "learning rate is greater than 1. You probably need to decrease learning rate.\n",
      "learning rate is greater than 1. You probably need to decrease learning rate.\n",
      "learning rate is greater than 1. You probably need to decrease learning rate.\n",
      "learning rate is greater than 1. You probably need to decrease learning rate.\n",
      "learning rate is greater than 1. You probably need to decrease learning rate.\n",
      "learning rate is greater than 1. You probably need to decrease learning rate.\n",
      "learning rate is greater than 1. You probably need to decrease learning rate.\n",
      "learning rate is greater than 1. You probably need to decrease learning rate.\n",
      "learning rate is greater than 1. You probably need to decrease learning rate.\n",
      "learning rate is greater than 1. You probably need to decrease learning rate.\n",
      "learning rate is greater than 1. You probably need to decrease learning rate.\n",
      "learning rate is greater than 1. You probably need to decrease learning rate.\n",
      "learning rate is greater than 1. You probably need to decrease learning rate.\n",
      "learning rate is greater than 1. You probably need to decrease learning rate.\n",
      "learning rate is greater than 1. You probably need to decrease learning rate.\n",
      "learning rate is greater than 1. You probably need to decrease learning rate.\n",
      "learning rate is greater than 1. You probably need to decrease learning rate.\n",
      "learning rate is greater than 1. You probably need to decrease learning rate.\n",
      "learning rate is greater than 1. You probably need to decrease learning rate.\n",
      "learning rate is greater than 1. You probably need to decrease learning rate.\n",
      "learning rate is greater than 1. You probably need to decrease learning rate.\n",
      "learning rate is greater than 1. You probably need to decrease learning rate.\n"
     ]
    }
   ],
   "source": [
    "#Начинаем перебирать параметры через GridSearch: \n",
    "grid_model = GridSearchCV(classifier, param_grid = parameters, cv=5, scoring='roc_auc', \n",
    "                             n_jobs = None, verbose = 0).fit(features_train, target_train)\n"
   ]
  },
  {
   "cell_type": "code",
   "execution_count": 51,
   "id": "e7ad468d",
   "metadata": {},
   "outputs": [
    {
     "name": "stdout",
     "output_type": "stream",
     "text": [
      "Метрика ROC-AUC на GridSearch: 88.56997092811389\n",
      "Лучшие параметры модели CatBoost: {'iterations': 150, 'learning_rate': 0.1, 'logging_level': 'Silent'}\n"
     ]
    }
   ],
   "source": [
    "print(f'Метрика ROC-AUC на GridSearch: {grid_model.best_score_*100}')\n",
    "print(f'Лучшие параметры модели CatBoost: {grid_model.best_params_}')"
   ]
  },
  {
   "cell_type": "markdown",
   "id": "6803cecc",
   "metadata": {},
   "source": [
    "### Проверка модели на тесте"
   ]
  },
  {
   "cell_type": "code",
   "execution_count": 52,
   "id": "0aec9694",
   "metadata": {},
   "outputs": [],
   "source": [
    "# Рассчитаем метрики на тесте:\n",
    "predicted_test = grid_model.best_estimator_.predict(features_test)\n",
    "probabilities_test = grid_model.best_estimator_.predict_proba(features_test)\n",
    "probabilities_one_test = probabilities_test[:, 1]\n",
    "auc_roc = roc_auc_score(target_test, probabilities_one_test)\n",
    "accuracy = accuracy_score(target_test, predicted_test)"
   ]
  },
  {
   "cell_type": "code",
   "execution_count": 53,
   "id": "a3150fbf",
   "metadata": {},
   "outputs": [
    {
     "name": "stdout",
     "output_type": "stream",
     "text": [
      "CatBoostClassifier ROC-AUC mean на тесте: 89.69759953616226\n",
      "CatBoostClassifier Accuracy mean на тесте: 85.07462686567165\n"
     ]
    }
   ],
   "source": [
    "print(f\"CatBoostClassifier ROC-AUC mean на тесте: {auc_roc*100}\")\n",
    "print(f\"CatBoostClassifier Accuracy mean на тесте: {accuracy*100}\")"
   ]
  },
  {
   "cell_type": "markdown",
   "id": "68f92450",
   "metadata": {},
   "source": [
    "* На тесте метрика ROC-AUC модели CatBoost составила 89.7"
   ]
  },
  {
   "cell_type": "markdown",
   "id": "99baec34",
   "metadata": {},
   "source": [
    "<div class=\"alert alert-success\" style=\"border-color: green; border-radius: 5px\">\n",
    "    <p><u><b>✅ КОММЕНТАРИЙ РЕВЬЮЕРА</b></u></p>\n",
    "    <p>есть контакт</p>\n",
    "</div>"
   ]
  },
  {
   "cell_type": "markdown",
   "id": "10bb9314",
   "metadata": {},
   "source": [
    "### Оценка feature importances"
   ]
  },
  {
   "cell_type": "code",
   "execution_count": 54,
   "id": "57bcac5d",
   "metadata": {},
   "outputs": [
    {
     "data": {
      "text/plain": [
       "array([8.06323584e+00, 8.60475816e+00, 4.08283114e+01, 5.13936946e+00,\n",
       "       1.36903729e+00, 2.48605933e+00, 9.21240752e-01, 1.46242831e+00,\n",
       "       7.86417446e-01, 1.05216482e+00, 2.19296372e+00, 8.73494580e-01,\n",
       "       1.46909277e+00, 1.40814313e+00, 7.28927832e-01, 9.82063209e-01,\n",
       "       2.19369567e-01, 2.73030849e-01, 4.52294227e-01, 1.23714150e+00,\n",
       "       7.96036780e-01, 3.58057252e+00, 6.43525469e-02, 1.18138037e+00,\n",
       "       5.39130198e-01, 5.72908354e-01, 7.21233200e-01, 4.29540473e-01,\n",
       "       0.00000000e+00, 3.99375553e-01, 6.27217037e-01, 1.01246011e+00,\n",
       "       1.21324690e+00, 1.04398924e+00, 3.03415628e-01, 3.76840012e-01,\n",
       "       1.26956577e+00, 6.75433040e-02, 9.11349560e-01, 1.63833724e+00,\n",
       "       9.53984254e-03, 1.41239101e+00, 7.60141924e-01, 5.19888285e-01])"
      ]
     },
     "execution_count": 54,
     "metadata": {},
     "output_type": "execute_result"
    }
   ],
   "source": [
    "# Оценим значение признаков на предсказние модели:\n",
    "feature_importances = grid_model.best_estimator_.feature_importances_\n",
    "feature_importances"
   ]
  },
  {
   "cell_type": "code",
   "execution_count": 55,
   "id": "7b68a54e",
   "metadata": {},
   "outputs": [
    {
     "data": {
      "image/png": "[encoded data removed]",
      "text/plain": [
       "<Figure size 1440x720 with 1 Axes>"
      ]
     },
     "metadata": {},
     "output_type": "display_data"
    }
   ],
   "source": [
    "# Выведем их в виде графика:\n",
    "feature_imp = pd.DataFrame(sorted(zip(feature_importances, df.columns))\n",
    "                           , columns=['Value','Feature'])\n",
    "\n",
    "plt.figure(figsize=(20, 10))\n",
    "sns.barplot(x=\"Value\", y=\"Feature\", data=feature_imp.sort_values(by=\"Value\", ascending=False))\n",
    "plt.title('CatBoost Features (avg over folds)')\n",
    "plt.tight_layout()\n",
    "plt.show()"
   ]
  },
  {
   "cell_type": "markdown",
   "id": "45776731",
   "metadata": {},
   "source": [
    "<div class=\"alert alert-success\" style=\"border-color: green; border-radius: 5px\">\n",
    "    <p><u><b>✅ КОММЕНТАРИЙ РЕВЬЮЕРА</b></u></p>хорошо, что используешь этот инструмент. На начальном этапе мы можем нагенерить множество разных фич, в том чтисле и лишних. И вот этот инструмент, вкупе с анализом мультиколлинеарности позволяет избавляться от \"балласта\")"
   ]
  },
  {
   "cell_type": "markdown",
   "id": "9ff55cc5",
   "metadata": {},
   "source": [
    "**Вывод:** Получается самыми важными признаками являются методы оплаты, тип договора, наличие интернета и сумма договора. Датасет Internet не иммет влияние на предсказание оттока. "
   ]
  },
  {
   "cell_type": "markdown",
   "id": "57e296d9",
   "metadata": {},
   "source": [
    "<div class=\"alert alert-success\" style=\"border-color: green; border-radius: 5px\">\n",
    "    <p><u><b>✅ КОММЕНТАРИЙ РЕВЬЮЕРА</b></u></p>\n",
    "ОК, Тимур, скажу, что уверенная работа, на мой взгляд)<br>\n",
    "Обработка данных, размышления над факторами, многогранная модельная работа, конечные результаты - многое удалось как надо<br> \n",
    "А что совсем хорошо, так это то, что не стал гнаться за точностью любой ценой, даже ценой наружения бизнес-логики. (это я про даты-признаки, многие их вставляют...)<br>\n",
    "\n",
    "Прежде, чем идти дальше, напомню из прошлых наших общений основные моменты, которые бы мне хотелось зафиксировать, как важные для момделирования (что-то ты и так хорошо используешь):<br>   \n",
    "1) F1, Акураси и AUC - отличные метрики, но нужно держать в голове, что это лишь бобщённые характеристики. А в реальной практике бизнесу часто важно знать детали самой ошибки - из каких ошибок/успехов она складывается. И в этом случае очень кстати будут меры полноты и точности. Рассмотри возможность их использования для своих проектов. Только через них можно выйти на финансовые возможности модели. Ведь перед запуском её в бой, будет сравнение стоимости создания и поддержки модели со стомостью \"оставить как есть\" \n",
    "    \n",
    "2) При анализе факторов влияния (их зависиомть между собой и на целевую) происходит по одному из трёх алгоритмов, исходя из типа шкалы. Могут применять следующие графический и аналитический анализы:<br>\n",
    "- колличественная-колличественная: аналитически методод - корреляции, графический - скатерплот.<br>\n",
    "- колличественная-номинальная: аналитически методод - проверка гипотез (стьюдент, маннауитни), графический - боксплот.<br>\n",
    "- номинальная-номинальная: аналитически методод - Хи-квадрат, графический - круговая диаграмма<br>\n",
    "Это я к тому разделу, который посвящён анализу данных. Там ты сделал интересные предположения и чтобы их доказать, стои проверить аналитически. Вот как раз те методы проверки гипотез, что выше написал.<br>\n",
    "    \n",
    "3) Алгоритм нахождения модели может быть таким:<br>\n",
    "- изучаем проблематику бизнеса и самой темы (в данном случае отток). Пытаемся понять суть явления.<br>\n",
    "- генерируем разные факторы влияния - любые.<br>\n",
    "- дизайнируем (прикидываем модели) какие методы решения есть, чтобы решить проблему.<br>\n",
    "- Смотрим, какие данные и в какой шкале есть. Что нужно ещё, что применить выбранный метод.<br>\n",
    "- Оцениваем мультиколлинеарность.<br>\n",
    "- строим модели и анализируем те фактры, какие сгенерировали ранее.<br>\n",
    "- Думаем над тем, какие причины (факторы) могут ещё влиять на отток.<br>\n",
    "- если после нескольких итераций точность \"замирает\" - значит достигли потолка)<br>\n",
    " \n",
    "4) Проведение анализа важности факторов с помощью команды feature_importances_ (+графический анализ). Отличная вещь намечается: высока я метрика + график рейтинаг факторов по силе влияния на целевой признак). Важнейшая часть любого модельного финала. Если видно, что часть факторов - слабозначимые для модели. Т.е. не значительно влияют на целевую переменную, то их смело можно убирать из модели. Ну и для бизнеса доносить: так мол и так - на эти факторы надо обращать внимание, а эти не влияют на уход клиента.<br><br><br>\n",
    "\n",
    "В общем-то, вопросов у меня и нет особых) Единственное - есть комментарий по корреляциям. И код не прогоняется... Посомтри, пожалуйста.<br>\n",
    "Возможно, что у тебя остались/появились?"
   ]
  },
  {
   "cell_type": "markdown",
   "id": "5469656e",
   "metadata": {},
   "source": [
    "<div class=\"alert alert-block alert-warning\">\n",
    "<p><u><b> Коментария студента:</b></u></p>\n",
    "    \n",
    "Спасибо за инсайты! Добавил обновление pandas, код должен прогоняться. Также изменил по корреляции. <br>\n",
    "    \n",
    "Вопрос в части data leakage, как его избежать. Например нужно ли например делить на train и test до Standard Scaler и OneHotEncoding и потом отдельно их трансформировать или в данном случае неважно? \n",
    "</div>"
   ]
  },
  {
   "cell_type": "markdown",
   "id": "cd12acbf",
   "metadata": {},
   "source": [
    "<div class=\"alert alert-success\" style=\"border-color: green; border-radius: 5px\">\n",
    "    <p><u><b>✅ КОММЕНТАРИЙ РЕВЬЮЕРА</b></u></p>\n",
    "ОК, Тимур, по корреляциям и пандас увидел - принято) Единственное, ещё по корреляциям: в таком виде она только для колличественных данных. Если бинарная - не используем технику.<br>\n",
    "Спасибо за этот труд и за совместную работу на других проектах)<br>\n",
    "Искренне желаю покорить ещё не один аналитический Эверест)<br>"
   ]
  },
  {
   "cell_type": "markdown",
   "id": "c80e1712",
   "metadata": {},
   "source": [
    "## Выводы"
   ]
  },
  {
   "cell_type": "markdown",
   "id": "f747374a",
   "metadata": {},
   "source": [
    "Проведён анализ признаков и выявлены следующие инсайты:\n",
    "* много клиентов ушло в 2014 и в 2019 годах,\n",
    "* пол не является показателем оттока клиентов;\n",
    "* количество людей пенсионного возраста значительно меньше, чем молодого поколения, однако отток пожилых людей почти в 2 раза больше, чем для молодых людей;\n",
    "* люди, не имеющие партнера, более склонны к расторжению договора;\n",
    "* люди без иждивенцев тоже склонны к уходу.\n",
    "\n",
    "Обучены различные модели бинарной классификации для предсказания оттока клиентов. Для проверки качества моделей использовались метрики roc_auc и accuracy.\n",
    "\n",
    "Наилучшее качество предсказания показала модель градиентного бустинга CatBoost - ROC-AUC = 89.7 на тестовой выборке, accuracy = 85.1\n",
    "\n",
    "Самые важные признаки для модели:\n",
    "* Paperlessbilling - безналичный расчет,\n",
    "* Type – тип оплаты: ежемесячный, годовой и тд,\n",
    "* PaymentMethod – способ оплаты,\n",
    "* TotalCharges – всего потрачено денег на услуги.\n",
    "\n",
    "Признаки в модели, которые совсем не влияют на клиентов в плане принятия решения:\n",
    "* MultipleLines - безналичный расчет,\n",
    "* StreamingMovies – тип оплаты: ежемесячный, годовой и тд,\n",
    "* TechSupport – способ оплаты.\n",
    "\n",
    "Возможно нужно повысить уровень сервиса StreamingMovies."
   ]
  },
  {
   "cell_type": "markdown",
   "id": "e48d14ab",
   "metadata": {},
   "source": [
    "## Отчет"
   ]
  },
  {
   "cell_type": "markdown",
   "id": "5ef6b26a",
   "metadata": {},
   "source": [
    "**1. Какие пункты плана были выполнены, а какие — нет (поясните почему)?**\n",
    "\n",
    "Из утвержденного ранее плана удалось: \n",
    "* изучить данные, \n",
    "* подготовить их для алгоритмов машинного обучения, в тч заполнить или удалить пропущенные значения, заменить даты, которые плохо передавать моделям, на длительность договора,\n",
    "* провести исследовательский анализ данных, который выявил инсайты для бизнеса в части поведения клиентов,\n",
    "* протестировать несколько моделей, по результатам отобрать одну для последующего улучшения ее через GridSearch,\n",
    "* оценить feature_importances и дать заключение о важности/неважности фичей для модели ML.\n",
    "\n",
    "**2. Какие трудности возникли и как вы их преодолели?**\n",
    "\n",
    "Трудности возникли при отборе параметров для модели Catboost и достижения необходимой метрики ROC-AUC. Сначало делал без GridSearch потом через него удалось отобрать \n",
    "\n",
    "**3. Какие ключевые шаги в решении задачи выделили?**\n",
    "\n",
    "Ключевыми шагами в ррешение задачи можно выделить:\n",
    "* подготовка данных для ML моделей с заполнением пропусков и трансформацией данных,\n",
    "* отбор лучшей модели через Cross-Validation,\n",
    "* улучшение лучшей модели через GridSearch,\n",
    "* написание инсайтов для бизнеса по улучшению взаимодействия с клиентами.\n",
    "\n",
    "**4. Какая ваша итоговая модель и какое у неё качество?**\n",
    "\n",
    "Лучше всего себя показала модель CatBoost - ROC-AUC = 89.7 на тестовой выборке, accuracy = 85.1. Лучшие параметры модели CatBoost: 'iterations': 150, 'learning_rate': 0.1"
   ]
  },
  {
   "cell_type": "code",
   "execution_count": null,
   "id": "d827ed8b",
   "metadata": {},
   "outputs": [],
   "source": []
  }
 ],
 "metadata": {
  "ExecuteTimeLog": [
   {
    "duration": 26753,
    "start_time": "2022-07-04T06:17:47.998Z"
   },
   {
    "duration": 112,
    "start_time": "2022-07-04T06:18:14.753Z"
   },
   {
    "duration": 3,
    "start_time": "2022-07-04T06:18:35.732Z"
   },
   {
    "duration": 116,
    "start_time": "2022-07-04T06:18:37.194Z"
   },
   {
    "duration": 110,
    "start_time": "2022-07-04T06:18:55.871Z"
   },
   {
    "duration": 3,
    "start_time": "2022-07-04T06:18:57.456Z"
   },
   {
    "duration": 50,
    "start_time": "2022-07-04T06:18:58.060Z"
   },
   {
    "duration": 43,
    "start_time": "2022-07-04T06:18:58.848Z"
   },
   {
    "duration": 47,
    "start_time": "2022-07-04T06:18:59.524Z"
   },
   {
    "duration": 40,
    "start_time": "2022-07-04T06:19:00.148Z"
   },
   {
    "duration": 42,
    "start_time": "2022-07-04T06:19:35.146Z"
   },
   {
    "duration": 28,
    "start_time": "2022-07-04T06:21:11.546Z"
   },
   {
    "duration": 78,
    "start_time": "2022-07-04T06:21:12.418Z"
   },
   {
    "duration": 3,
    "start_time": "2022-07-04T06:21:35.172Z"
   },
   {
    "duration": 22,
    "start_time": "2022-07-04T06:21:37.367Z"
   },
   {
    "duration": 6,
    "start_time": "2022-07-04T06:21:46.922Z"
   },
   {
    "duration": 7,
    "start_time": "2022-07-04T06:21:47.664Z"
   },
   {
    "duration": 29,
    "start_time": "2022-07-04T06:21:49.964Z"
   },
   {
    "duration": 23,
    "start_time": "2022-07-04T06:26:28.560Z"
   },
   {
    "duration": 21,
    "start_time": "2022-07-04T06:26:36.281Z"
   },
   {
    "duration": 31,
    "start_time": "2022-07-04T06:27:59.669Z"
   },
   {
    "duration": 23,
    "start_time": "2022-07-04T06:28:23.993Z"
   },
   {
    "duration": 20,
    "start_time": "2022-07-04T06:30:15.250Z"
   },
   {
    "duration": 108,
    "start_time": "2022-07-04T06:31:02.908Z"
   },
   {
    "duration": 4,
    "start_time": "2022-07-04T06:31:03.718Z"
   },
   {
    "duration": 48,
    "start_time": "2022-07-04T06:31:03.899Z"
   },
   {
    "duration": 44,
    "start_time": "2022-07-04T06:31:04.022Z"
   },
   {
    "duration": 44,
    "start_time": "2022-07-04T06:31:04.215Z"
   },
   {
    "duration": 39,
    "start_time": "2022-07-04T06:31:04.360Z"
   },
   {
    "duration": 31,
    "start_time": "2022-07-04T06:31:04.971Z"
   },
   {
    "duration": 73,
    "start_time": "2022-07-04T06:31:05.132Z"
   },
   {
    "duration": 4,
    "start_time": "2022-07-04T06:31:06.069Z"
   },
   {
    "duration": 20,
    "start_time": "2022-07-04T06:31:06.245Z"
   },
   {
    "duration": 6,
    "start_time": "2022-07-04T06:31:06.418Z"
   },
   {
    "duration": 10,
    "start_time": "2022-07-04T06:31:06.626Z"
   },
   {
    "duration": 35,
    "start_time": "2022-07-04T06:31:06.780Z"
   },
   {
    "duration": 29,
    "start_time": "2022-07-04T06:31:07.916Z"
   },
   {
    "duration": 31,
    "start_time": "2022-07-04T06:31:08.086Z"
   },
   {
    "duration": 37,
    "start_time": "2022-07-04T06:31:09.015Z"
   },
   {
    "duration": 31,
    "start_time": "2022-07-04T06:31:09.436Z"
   },
   {
    "duration": 19,
    "start_time": "2022-07-04T06:31:10.430Z"
   },
   {
    "duration": 22,
    "start_time": "2022-07-04T06:31:46.988Z"
   },
   {
    "duration": 54109,
    "start_time": "2022-07-04T06:58:16.503Z"
   },
   {
    "duration": 276,
    "start_time": "2022-07-04T06:59:33.669Z"
   },
   {
    "duration": 5,
    "start_time": "2022-07-04T06:59:38.099Z"
   },
   {
    "duration": 67,
    "start_time": "2022-07-04T06:59:38.955Z"
   },
   {
    "duration": 80,
    "start_time": "2022-07-04T06:59:43.846Z"
   },
   {
    "duration": 63,
    "start_time": "2022-07-04T06:59:48.140Z"
   },
   {
    "duration": 10167,
    "start_time": "2022-07-04T06:59:58.945Z"
   },
   {
    "duration": 112,
    "start_time": "2022-07-04T07:00:09.114Z"
   },
   {
    "duration": 4,
    "start_time": "2022-07-04T07:00:09.227Z"
   },
   {
    "duration": 91,
    "start_time": "2022-07-04T07:00:09.233Z"
   },
   {
    "duration": 47,
    "start_time": "2022-07-04T07:00:09.326Z"
   },
   {
    "duration": 96,
    "start_time": "2022-07-04T07:00:09.377Z"
   },
   {
    "duration": 51,
    "start_time": "2022-07-04T07:00:09.476Z"
   },
   {
    "duration": 37,
    "start_time": "2022-07-04T07:00:09.529Z"
   },
   {
    "duration": 118,
    "start_time": "2022-07-04T07:00:09.568Z"
   },
   {
    "duration": 9,
    "start_time": "2022-07-04T07:00:09.697Z"
   },
   {
    "duration": 42,
    "start_time": "2022-07-04T07:00:09.708Z"
   },
   {
    "duration": 27,
    "start_time": "2022-07-04T07:00:09.766Z"
   },
   {
    "duration": 25,
    "start_time": "2022-07-04T07:00:09.795Z"
   },
   {
    "duration": 26,
    "start_time": "2022-07-04T07:00:09.822Z"
   },
   {
    "duration": 72,
    "start_time": "2022-07-04T07:00:09.849Z"
   },
   {
    "duration": 34,
    "start_time": "2022-07-04T07:00:09.923Z"
   },
   {
    "duration": 104,
    "start_time": "2022-07-04T07:00:09.965Z"
   },
   {
    "duration": 51,
    "start_time": "2022-07-04T07:00:10.071Z"
   },
   {
    "duration": 29,
    "start_time": "2022-07-04T07:00:10.124Z"
   },
   {
    "duration": 560,
    "start_time": "2022-07-04T07:00:10.154Z"
   },
   {
    "duration": 415,
    "start_time": "2022-07-04T07:00:10.717Z"
   },
   {
    "duration": 413,
    "start_time": "2022-07-04T07:00:11.134Z"
   },
   {
    "duration": 2178,
    "start_time": "2022-07-04T07:00:11.550Z"
   },
   {
    "duration": 385,
    "start_time": "2022-07-04T07:00:13.730Z"
   },
   {
    "duration": 389,
    "start_time": "2022-07-04T07:00:14.117Z"
   },
   {
    "duration": 1766,
    "start_time": "2022-07-04T07:00:14.509Z"
   },
   {
    "duration": 8200,
    "start_time": "2022-07-04T07:00:16.277Z"
   },
   {
    "duration": 220,
    "start_time": "2022-07-04T07:00:24.481Z"
   },
   {
    "duration": 87,
    "start_time": "2022-07-04T07:00:24.703Z"
   },
   {
    "duration": 18,
    "start_time": "2022-07-04T07:00:24.796Z"
   },
   {
    "duration": 25,
    "start_time": "2022-07-04T07:00:24.816Z"
   },
   {
    "duration": 36,
    "start_time": "2022-07-04T07:00:24.842Z"
   },
   {
    "duration": 50,
    "start_time": "2022-07-04T07:00:24.880Z"
   },
   {
    "duration": 14,
    "start_time": "2022-07-04T07:00:24.932Z"
   },
   {
    "duration": 93,
    "start_time": "2022-07-04T07:00:24.948Z"
   },
   {
    "duration": 15,
    "start_time": "2022-07-04T07:00:25.044Z"
   },
   {
    "duration": 2190,
    "start_time": "2022-07-04T07:00:25.067Z"
   },
   {
    "duration": 6,
    "start_time": "2022-07-04T07:00:27.264Z"
   },
   {
    "duration": 67521,
    "start_time": "2022-07-04T07:00:27.274Z"
   },
   {
    "duration": 143,
    "start_time": "2022-07-04T07:01:34.861Z"
   },
   {
    "duration": 704,
    "start_time": "2022-07-04T07:01:35.006Z"
   },
   {
    "duration": 566,
    "start_time": "2022-07-04T07:01:35.712Z"
   },
   {
    "duration": 11673,
    "start_time": "2022-07-04T07:01:36.288Z"
   },
   {
    "duration": 7421,
    "start_time": "2022-07-04T07:01:47.965Z"
   },
   {
    "duration": 60789,
    "start_time": "2022-07-04T07:01:55.390Z"
   },
   {
    "duration": 66769,
    "start_time": "2022-07-04T07:02:56.190Z"
   },
   {
    "duration": 19,
    "start_time": "2022-07-04T07:04:02.967Z"
   },
   {
    "duration": 34,
    "start_time": "2022-07-04T07:04:02.991Z"
   },
   {
    "duration": 33099,
    "start_time": "2022-07-04T07:04:03.027Z"
   },
   {
    "duration": 79,
    "start_time": "2022-07-04T07:04:36.130Z"
   },
   {
    "duration": 70,
    "start_time": "2022-07-04T07:04:36.214Z"
   },
   {
    "duration": 24,
    "start_time": "2022-07-04T07:04:36.286Z"
   },
   {
    "duration": 711,
    "start_time": "2022-07-04T07:04:36.312Z"
   },
   {
    "duration": 51,
    "start_time": "2022-07-04T07:19:06.998Z"
   },
   {
    "duration": 117,
    "start_time": "2022-07-04T07:19:45.213Z"
   },
   {
    "duration": 14,
    "start_time": "2022-07-04T07:34:30.279Z"
   },
   {
    "duration": 1954,
    "start_time": "2022-07-04T07:35:45.276Z"
   },
   {
    "duration": 97,
    "start_time": "2022-07-04T07:37:02.008Z"
   },
   {
    "duration": 23194,
    "start_time": "2022-07-04T16:38:43.736Z"
   },
   {
    "duration": 365,
    "start_time": "2022-07-04T16:39:06.932Z"
   },
   {
    "duration": 4,
    "start_time": "2022-07-04T16:39:07.298Z"
   },
   {
    "duration": 78,
    "start_time": "2022-07-04T16:39:07.304Z"
   },
   {
    "duration": 31,
    "start_time": "2022-07-04T16:39:07.383Z"
   },
   {
    "duration": 48,
    "start_time": "2022-07-04T16:39:07.415Z"
   },
   {
    "duration": 26,
    "start_time": "2022-07-04T16:39:07.490Z"
   },
   {
    "duration": 17,
    "start_time": "2022-07-04T16:39:07.517Z"
   },
   {
    "duration": 89,
    "start_time": "2022-07-04T16:39:07.535Z"
   },
   {
    "duration": 3,
    "start_time": "2022-07-04T16:39:07.626Z"
   },
   {
    "duration": 36,
    "start_time": "2022-07-04T16:39:07.630Z"
   },
   {
    "duration": 30,
    "start_time": "2022-07-04T16:39:07.667Z"
   },
   {
    "duration": 39,
    "start_time": "2022-07-04T16:39:07.698Z"
   },
   {
    "duration": 58,
    "start_time": "2022-07-04T16:39:07.738Z"
   },
   {
    "duration": 19,
    "start_time": "2022-07-04T16:39:07.797Z"
   },
   {
    "duration": 24,
    "start_time": "2022-07-04T16:39:07.817Z"
   },
   {
    "duration": 47,
    "start_time": "2022-07-04T16:39:07.842Z"
   },
   {
    "duration": 24,
    "start_time": "2022-07-04T16:39:07.890Z"
   },
   {
    "duration": 38,
    "start_time": "2022-07-04T16:39:07.915Z"
   },
   {
    "duration": 278,
    "start_time": "2022-07-04T16:39:07.955Z"
   },
   {
    "duration": 345,
    "start_time": "2022-07-04T16:39:08.235Z"
   },
   {
    "duration": 176,
    "start_time": "2022-07-04T16:39:08.590Z"
   },
   {
    "duration": 1383,
    "start_time": "2022-07-04T16:39:08.767Z"
   },
   {
    "duration": 218,
    "start_time": "2022-07-04T16:39:10.152Z"
   },
   {
    "duration": 204,
    "start_time": "2022-07-04T16:39:10.371Z"
   },
   {
    "duration": 1092,
    "start_time": "2022-07-04T16:39:10.577Z"
   },
   {
    "duration": 3,
    "start_time": "2022-07-04T16:39:11.670Z"
   },
   {
    "duration": 7,
    "start_time": "2022-07-04T16:39:11.692Z"
   },
   {
    "duration": 131,
    "start_time": "2022-07-04T16:39:11.700Z"
   },
   {
    "duration": 0,
    "start_time": "2022-07-04T16:39:11.833Z"
   },
   {
    "duration": 0,
    "start_time": "2022-07-04T16:39:11.834Z"
   },
   {
    "duration": 0,
    "start_time": "2022-07-04T16:39:11.836Z"
   },
   {
    "duration": 0,
    "start_time": "2022-07-04T16:39:11.837Z"
   },
   {
    "duration": 0,
    "start_time": "2022-07-04T16:39:11.838Z"
   },
   {
    "duration": 0,
    "start_time": "2022-07-04T16:39:11.839Z"
   },
   {
    "duration": 0,
    "start_time": "2022-07-04T16:39:11.841Z"
   },
   {
    "duration": 0,
    "start_time": "2022-07-04T16:39:11.842Z"
   },
   {
    "duration": 0,
    "start_time": "2022-07-04T16:39:11.843Z"
   },
   {
    "duration": 0,
    "start_time": "2022-07-04T16:39:11.845Z"
   },
   {
    "duration": 0,
    "start_time": "2022-07-04T16:39:11.846Z"
   },
   {
    "duration": 0,
    "start_time": "2022-07-04T16:39:11.847Z"
   },
   {
    "duration": 0,
    "start_time": "2022-07-04T16:39:11.848Z"
   },
   {
    "duration": 0,
    "start_time": "2022-07-04T16:39:11.850Z"
   },
   {
    "duration": 0,
    "start_time": "2022-07-04T16:39:11.851Z"
   },
   {
    "duration": 0,
    "start_time": "2022-07-04T16:39:11.852Z"
   },
   {
    "duration": 0,
    "start_time": "2022-07-04T16:39:11.854Z"
   },
   {
    "duration": 0,
    "start_time": "2022-07-04T16:39:11.856Z"
   },
   {
    "duration": 0,
    "start_time": "2022-07-04T16:39:11.891Z"
   },
   {
    "duration": 0,
    "start_time": "2022-07-04T16:39:11.892Z"
   },
   {
    "duration": 0,
    "start_time": "2022-07-04T16:39:11.893Z"
   },
   {
    "duration": 0,
    "start_time": "2022-07-04T16:39:11.894Z"
   },
   {
    "duration": 0,
    "start_time": "2022-07-04T16:39:11.894Z"
   },
   {
    "duration": 0,
    "start_time": "2022-07-04T16:39:11.895Z"
   },
   {
    "duration": 0,
    "start_time": "2022-07-04T16:39:11.896Z"
   },
   {
    "duration": 7596,
    "start_time": "2022-07-04T16:55:44.376Z"
   },
   {
    "duration": 98,
    "start_time": "2022-07-04T16:55:51.974Z"
   },
   {
    "duration": 2,
    "start_time": "2022-07-04T16:55:52.074Z"
   },
   {
    "duration": 76,
    "start_time": "2022-07-04T16:55:52.078Z"
   },
   {
    "duration": 41,
    "start_time": "2022-07-04T16:55:52.156Z"
   },
   {
    "duration": 56,
    "start_time": "2022-07-04T16:55:52.199Z"
   },
   {
    "duration": 54,
    "start_time": "2022-07-04T16:55:52.257Z"
   },
   {
    "duration": 17,
    "start_time": "2022-07-04T16:55:52.313Z"
   },
   {
    "duration": 89,
    "start_time": "2022-07-04T16:55:52.332Z"
   },
   {
    "duration": 2,
    "start_time": "2022-07-04T16:55:52.424Z"
   },
   {
    "duration": 40,
    "start_time": "2022-07-04T16:55:52.428Z"
   },
   {
    "duration": 9,
    "start_time": "2022-07-04T16:55:52.469Z"
   },
   {
    "duration": 30,
    "start_time": "2022-07-04T16:55:52.479Z"
   },
   {
    "duration": 31,
    "start_time": "2022-07-04T16:55:52.510Z"
   },
   {
    "duration": 26,
    "start_time": "2022-07-04T16:55:52.543Z"
   },
   {
    "duration": 38,
    "start_time": "2022-07-04T16:55:52.570Z"
   },
   {
    "duration": 38,
    "start_time": "2022-07-04T16:55:52.609Z"
   },
   {
    "duration": 32,
    "start_time": "2022-07-04T16:55:52.648Z"
   },
   {
    "duration": 23,
    "start_time": "2022-07-04T16:55:52.681Z"
   },
   {
    "duration": 1301,
    "start_time": "2022-07-04T16:55:52.705Z"
   },
   {
    "duration": 0,
    "start_time": "2022-07-04T16:55:54.007Z"
   },
   {
    "duration": 0,
    "start_time": "2022-07-04T16:55:54.009Z"
   },
   {
    "duration": 0,
    "start_time": "2022-07-04T16:55:54.010Z"
   },
   {
    "duration": 0,
    "start_time": "2022-07-04T16:55:54.010Z"
   },
   {
    "duration": 0,
    "start_time": "2022-07-04T16:55:54.011Z"
   },
   {
    "duration": 0,
    "start_time": "2022-07-04T16:55:54.012Z"
   },
   {
    "duration": 0,
    "start_time": "2022-07-04T16:55:54.013Z"
   },
   {
    "duration": 0,
    "start_time": "2022-07-04T16:55:54.014Z"
   },
   {
    "duration": 0,
    "start_time": "2022-07-04T16:55:54.015Z"
   },
   {
    "duration": 0,
    "start_time": "2022-07-04T16:55:54.015Z"
   },
   {
    "duration": 0,
    "start_time": "2022-07-04T16:55:54.016Z"
   },
   {
    "duration": 0,
    "start_time": "2022-07-04T16:55:54.018Z"
   },
   {
    "duration": 1,
    "start_time": "2022-07-04T16:55:54.018Z"
   },
   {
    "duration": 0,
    "start_time": "2022-07-04T16:55:54.019Z"
   },
   {
    "duration": 0,
    "start_time": "2022-07-04T16:55:54.021Z"
   },
   {
    "duration": 0,
    "start_time": "2022-07-04T16:55:54.022Z"
   },
   {
    "duration": 0,
    "start_time": "2022-07-04T16:55:54.023Z"
   },
   {
    "duration": 0,
    "start_time": "2022-07-04T16:55:54.024Z"
   },
   {
    "duration": 0,
    "start_time": "2022-07-04T16:55:54.025Z"
   },
   {
    "duration": 0,
    "start_time": "2022-07-04T16:55:54.026Z"
   },
   {
    "duration": 0,
    "start_time": "2022-07-04T16:55:54.027Z"
   },
   {
    "duration": 0,
    "start_time": "2022-07-04T16:55:54.028Z"
   },
   {
    "duration": 0,
    "start_time": "2022-07-04T16:55:54.029Z"
   },
   {
    "duration": 0,
    "start_time": "2022-07-04T16:55:54.030Z"
   },
   {
    "duration": 0,
    "start_time": "2022-07-04T16:55:54.031Z"
   },
   {
    "duration": 0,
    "start_time": "2022-07-04T16:55:54.033Z"
   },
   {
    "duration": 0,
    "start_time": "2022-07-04T16:55:54.033Z"
   },
   {
    "duration": 0,
    "start_time": "2022-07-04T16:55:54.034Z"
   },
   {
    "duration": 0,
    "start_time": "2022-07-04T16:55:54.035Z"
   },
   {
    "duration": 0,
    "start_time": "2022-07-04T16:55:54.036Z"
   },
   {
    "duration": 0,
    "start_time": "2022-07-04T16:55:54.037Z"
   },
   {
    "duration": 0,
    "start_time": "2022-07-04T16:55:54.038Z"
   },
   {
    "duration": 0,
    "start_time": "2022-07-04T16:55:54.039Z"
   },
   {
    "duration": 0,
    "start_time": "2022-07-04T16:55:54.041Z"
   },
   {
    "duration": 7576,
    "start_time": "2022-07-04T16:57:09.089Z"
   },
   {
    "duration": 90,
    "start_time": "2022-07-04T16:57:16.667Z"
   },
   {
    "duration": 3,
    "start_time": "2022-07-04T16:57:16.759Z"
   },
   {
    "duration": 43,
    "start_time": "2022-07-04T16:57:16.763Z"
   },
   {
    "duration": 27,
    "start_time": "2022-07-04T16:57:16.807Z"
   },
   {
    "duration": 69,
    "start_time": "2022-07-04T16:57:16.835Z"
   },
   {
    "duration": 25,
    "start_time": "2022-07-04T16:57:16.906Z"
   },
   {
    "duration": 17,
    "start_time": "2022-07-04T16:57:16.932Z"
   },
   {
    "duration": 106,
    "start_time": "2022-07-04T16:57:16.951Z"
   },
   {
    "duration": 3,
    "start_time": "2022-07-04T16:57:17.060Z"
   },
   {
    "duration": 46,
    "start_time": "2022-07-04T16:57:17.065Z"
   },
   {
    "duration": 6,
    "start_time": "2022-07-04T16:57:17.113Z"
   },
   {
    "duration": 13,
    "start_time": "2022-07-04T16:57:17.121Z"
   },
   {
    "duration": 26,
    "start_time": "2022-07-04T16:57:17.135Z"
   },
   {
    "duration": 41,
    "start_time": "2022-07-04T16:57:17.163Z"
   },
   {
    "duration": 21,
    "start_time": "2022-07-04T16:57:17.205Z"
   },
   {
    "duration": 33,
    "start_time": "2022-07-04T16:57:17.228Z"
   },
   {
    "duration": 40,
    "start_time": "2022-07-04T16:57:17.262Z"
   },
   {
    "duration": 17,
    "start_time": "2022-07-04T16:57:17.304Z"
   },
   {
    "duration": 54,
    "start_time": "2022-07-04T16:57:17.322Z"
   },
   {
    "duration": 10,
    "start_time": "2022-07-04T16:57:17.391Z"
   },
   {
    "duration": 16,
    "start_time": "2022-07-04T16:57:17.403Z"
   },
   {
    "duration": 405,
    "start_time": "2022-07-04T16:57:17.420Z"
   },
   {
    "duration": 323,
    "start_time": "2022-07-04T16:57:17.826Z"
   },
   {
    "duration": 266,
    "start_time": "2022-07-04T16:57:18.151Z"
   },
   {
    "duration": 1606,
    "start_time": "2022-07-04T16:57:18.419Z"
   },
   {
    "duration": 296,
    "start_time": "2022-07-04T16:57:20.026Z"
   },
   {
    "duration": 304,
    "start_time": "2022-07-04T16:57:20.325Z"
   },
   {
    "duration": 1650,
    "start_time": "2022-07-04T16:57:20.630Z"
   },
   {
    "duration": 10,
    "start_time": "2022-07-04T16:57:22.282Z"
   },
   {
    "duration": 10,
    "start_time": "2022-07-04T16:57:22.294Z"
   },
   {
    "duration": 1428,
    "start_time": "2022-07-04T16:57:22.305Z"
   },
   {
    "duration": 15,
    "start_time": "2022-07-04T16:57:23.734Z"
   },
   {
    "duration": 18,
    "start_time": "2022-07-04T16:57:23.750Z"
   },
   {
    "duration": 11,
    "start_time": "2022-07-04T16:57:23.771Z"
   },
   {
    "duration": 34,
    "start_time": "2022-07-04T16:57:23.784Z"
   },
   {
    "duration": 7,
    "start_time": "2022-07-04T16:57:23.819Z"
   },
   {
    "duration": 670,
    "start_time": "2022-07-04T16:57:23.827Z"
   },
   {
    "duration": 93,
    "start_time": "2022-07-04T16:57:24.499Z"
   },
   {
    "duration": 12904,
    "start_time": "2022-07-04T16:57:24.594Z"
   },
   {
    "duration": 203,
    "start_time": "2022-07-04T16:57:37.502Z"
   },
   {
    "duration": 559,
    "start_time": "2022-07-04T16:57:37.706Z"
   },
   {
    "duration": 457,
    "start_time": "2022-07-04T16:57:38.267Z"
   },
   {
    "duration": 8357,
    "start_time": "2022-07-04T16:57:38.726Z"
   },
   {
    "duration": 3999,
    "start_time": "2022-07-04T16:57:47.085Z"
   },
   {
    "duration": 38359,
    "start_time": "2022-07-04T16:57:51.085Z"
   },
   {
    "duration": 39966,
    "start_time": "2022-07-04T16:58:29.445Z"
   },
   {
    "duration": 7,
    "start_time": "2022-07-04T16:59:09.413Z"
   },
   {
    "duration": 5,
    "start_time": "2022-07-04T16:59:09.421Z"
   },
   {
    "duration": 23626,
    "start_time": "2022-07-04T16:59:09.428Z"
   },
   {
    "duration": 29,
    "start_time": "2022-07-04T16:59:33.056Z"
   },
   {
    "duration": 3,
    "start_time": "2022-07-04T16:59:33.087Z"
   },
   {
    "duration": 6,
    "start_time": "2022-07-04T16:59:33.091Z"
   },
   {
    "duration": 470,
    "start_time": "2022-07-04T16:59:33.098Z"
   },
   {
    "duration": 29076,
    "start_time": "2022-07-05T06:09:07.736Z"
   },
   {
    "duration": 172,
    "start_time": "2022-07-05T06:09:36.814Z"
   },
   {
    "duration": 749,
    "start_time": "2022-07-05T06:09:36.987Z"
   },
   {
    "duration": 790,
    "start_time": "2022-07-05T06:09:37.738Z"
   },
   {
    "duration": 33,
    "start_time": "2022-07-05T06:09:38.530Z"
   },
   {
    "duration": 84,
    "start_time": "2022-07-05T06:09:38.565Z"
   },
   {
    "duration": 36,
    "start_time": "2022-07-05T06:09:38.650Z"
   },
   {
    "duration": 55,
    "start_time": "2022-07-05T06:09:38.688Z"
   },
   {
    "duration": 106,
    "start_time": "2022-07-05T06:09:38.745Z"
   },
   {
    "duration": 3,
    "start_time": "2022-07-05T06:09:38.853Z"
   },
   {
    "duration": 37,
    "start_time": "2022-07-05T06:09:38.858Z"
   },
   {
    "duration": 6,
    "start_time": "2022-07-05T06:09:38.898Z"
   },
   {
    "duration": 27,
    "start_time": "2022-07-05T06:09:38.905Z"
   },
   {
    "duration": 35,
    "start_time": "2022-07-05T06:09:38.934Z"
   },
   {
    "duration": 21,
    "start_time": "2022-07-05T06:09:38.971Z"
   },
   {
    "duration": 33,
    "start_time": "2022-07-05T06:09:38.994Z"
   },
   {
    "duration": 49,
    "start_time": "2022-07-05T06:09:39.029Z"
   },
   {
    "duration": 48,
    "start_time": "2022-07-05T06:09:39.079Z"
   },
   {
    "duration": 28,
    "start_time": "2022-07-05T06:09:39.129Z"
   },
   {
    "duration": 76,
    "start_time": "2022-07-05T06:09:39.159Z"
   },
   {
    "duration": 121,
    "start_time": "2022-07-05T06:09:39.237Z"
   },
   {
    "duration": 33,
    "start_time": "2022-07-05T06:09:39.360Z"
   },
   {
    "duration": 241,
    "start_time": "2022-07-05T06:09:39.394Z"
   },
   {
    "duration": 351,
    "start_time": "2022-07-05T06:09:39.637Z"
   },
   {
    "duration": 240,
    "start_time": "2022-07-05T06:09:39.990Z"
   },
   {
    "duration": 1690,
    "start_time": "2022-07-05T06:09:40.232Z"
   },
   {
    "duration": 240,
    "start_time": "2022-07-05T06:09:41.924Z"
   },
   {
    "duration": 237,
    "start_time": "2022-07-05T06:09:42.168Z"
   },
   {
    "duration": 1933,
    "start_time": "2022-07-05T06:09:42.407Z"
   },
   {
    "duration": 3,
    "start_time": "2022-07-05T06:09:44.342Z"
   },
   {
    "duration": 17,
    "start_time": "2022-07-05T06:09:44.346Z"
   },
   {
    "duration": 1626,
    "start_time": "2022-07-05T06:09:44.364Z"
   },
   {
    "duration": 28,
    "start_time": "2022-07-05T06:09:45.992Z"
   },
   {
    "duration": 27,
    "start_time": "2022-07-05T06:09:46.022Z"
   },
   {
    "duration": 19,
    "start_time": "2022-07-05T06:09:46.052Z"
   },
   {
    "duration": 59,
    "start_time": "2022-07-05T06:09:46.072Z"
   },
   {
    "duration": 7,
    "start_time": "2022-07-05T06:09:46.133Z"
   },
   {
    "duration": 982,
    "start_time": "2022-07-05T06:09:46.142Z"
   },
   {
    "duration": 6,
    "start_time": "2022-07-05T06:09:47.127Z"
   },
   {
    "duration": 19104,
    "start_time": "2022-07-05T06:09:47.223Z"
   },
   {
    "duration": 209,
    "start_time": "2022-07-05T06:10:06.330Z"
   },
   {
    "duration": 645,
    "start_time": "2022-07-05T06:10:06.542Z"
   },
   {
    "duration": 537,
    "start_time": "2022-07-05T06:10:07.189Z"
   },
   {
    "duration": 9969,
    "start_time": "2022-07-05T06:10:07.728Z"
   },
   {
    "duration": 4553,
    "start_time": "2022-07-05T06:10:17.699Z"
   },
   {
    "duration": 41455,
    "start_time": "2022-07-05T06:10:22.254Z"
   },
   {
    "duration": 40407,
    "start_time": "2022-07-05T06:11:03.710Z"
   },
   {
    "duration": 10,
    "start_time": "2022-07-05T06:11:44.119Z"
   },
   {
    "duration": 8,
    "start_time": "2022-07-05T06:11:44.131Z"
   },
   {
    "duration": 19776,
    "start_time": "2022-07-05T06:11:44.140Z"
   },
   {
    "duration": 34,
    "start_time": "2022-07-05T06:12:03.918Z"
   },
   {
    "duration": 4,
    "start_time": "2022-07-05T06:12:03.954Z"
   },
   {
    "duration": 10,
    "start_time": "2022-07-05T06:12:03.960Z"
   },
   {
    "duration": 552,
    "start_time": "2022-07-05T06:12:03.972Z"
   },
   {
    "duration": 9,
    "start_time": "2022-07-05T06:15:26.497Z"
   }
  ],
  "kernelspec": {
   "display_name": "Python 3 (ipykernel)",
   "language": "python",
   "name": "python3"
  },
  "language_info": {
   "codemirror_mode": {
    "name": "ipython",
    "version": 3
   },
   "file_extension": ".py",
   "mimetype": "text/x-python",
   "name": "python",
   "nbconvert_exporter": "python",
   "pygments_lexer": "ipython3",
   "version": "3.10.4"
  },
  "toc": {
   "base_numbering": 1,
   "nav_menu": {},
   "number_sections": true,
   "sideBar": true,
   "skip_h1_title": true,
   "title_cell": "Содержание",
   "title_sidebar": "Contents",
   "toc_cell": true,
   "toc_position": {
    "height": "calc(100% - 180px)",
    "left": "10px",
    "top": "150px",
    "width": "229px"
   },
   "toc_section_display": true,
   "toc_window_display": false
  }
 },
 "nbformat": 4,
 "nbformat_minor": 5
}
